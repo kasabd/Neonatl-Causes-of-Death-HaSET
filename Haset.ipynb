{
 "cells": [
  {
   "cell_type": "code",
   "execution_count": 1,
   "id": "474b1fc8",
   "metadata": {},
   "outputs": [],
   "source": [
    "import numpy as np\n",
    "import pandas as pd\n",
    "import matplotlib.pyplot as plt\n",
    "import seaborn as sns"
   ]
  },
  {
   "cell_type": "code",
   "execution_count": null,
   "id": "77321880",
   "metadata": {},
   "outputs": [],
   "source": [
    " 1 \"neonatal sepsis\"\n",
    "    2 \"preterm\" \n",
    "    3 \"asphyxia\" \n",
    "    4 \"lowbirth weight\"\n",
    "    5 \"neonatal conjunctivitis\" \n",
    "    6 \"neonatal tetanus\" \n",
    "    7 \"neonatal herpes\" \n",
    "    8 \"neonatal meningitis\"\n",
    "    9 \"neontal jaundice\" \n",
    "10 \"respiratory distress syndrome\" \n",
    "11 \"congenital malformation\" 12 \"other specify\"                          "
   ]
  },
  {
   "cell_type": "code",
   "execution_count": null,
   "id": "be7c7bab",
   "metadata": {},
   "outputs": [],
   "source": [
    "#babydob: date of birth of the child\n",
    "#babysex: sex of the new child\n",
    "#cddeath...date of death\n",
    "#codpremature....cause of death prematurity\n",
    "#codjdice.....Cause of death - Jaundice\n",
    "#codbirthasphyx.....Cause of death - Birth asphyxia\n",
    "#codpna......Cause of death - Pneumonia\n",
    "#codsepsis.....Cause of death - Sepsis\n",
    "#codtetanus.......Cause of death - Tetanus\n",
    "#codcongenmal....Cause of death - Congenital malformation\n",
    "\n",
    "#Was diarrhea the cause of death(cc1 cc2 cf1)\n",
    "#Was measles the causes of death(cc1 cc2 cf1)\n",
    "#Was malaria the cause of death(cc1 cc2 cf1)\n",
    "\n",
    "#b: variables included in birth forms BF1 and BC1\n",
    "   #•\tBF1: Birth – catchment and non-catchment \n",
    "   #•\tBC1: Births \n",
    "#NC2=Neonatal Follow-up: Day 6, 28, 42 Community\n",
    "#NF2=Neonatal Follow-up: Day 6, 28, 42 Facility\n",
    "#NC2-Nf2\n",
    "#NC3=Neonatal morbidity (Community)\n",
    "#NF3: Neonatal outpatient visit\n",
    "#NF5: Neonatal discharge\n",
    "#CC1: 29 days - 2 years child morbidity (Community)\n",
    "#CF1: 29 days – 2 years child morbidity (OPD visits)\n",
    "#CF2: 29 days – 2 years child morbidity (Admissions)\n",
    "#BF1: Birth Facility"
   ]
  },
  {
   "cell_type": "code",
   "execution_count": 2,
   "id": "abc388b6",
   "metadata": {},
   "outputs": [],
   "source": [
    "#child death forms \n",
    "nc2_nf2 nc3 nf3 nf5 cc1 cc2 cf1  "
   ]
  },
  {
   "cell_type": "code",
   "execution_count": null,
   "id": "3f7f2a0d",
   "metadata": {},
   "outputs": [],
   "source": []
  },
  {
   "cell_type": "code",
   "execution_count": 3,
   "id": "353090db",
   "metadata": {
    "scrolled": true
   },
   "outputs": [],
   "source": [
    "data=pd.read_csv('all_data_combined.csv', low_memory=False)"
   ]
  },
  {
   "cell_type": "code",
   "execution_count": 4,
   "id": "852a6b3e",
   "metadata": {
    "scrolled": false
   },
   "outputs": [
    {
     "data": {
      "text/html": [
       "<div>\n",
       "<style scoped>\n",
       "    .dataframe tbody tr th:only-of-type {\n",
       "        vertical-align: middle;\n",
       "    }\n",
       "\n",
       "    .dataframe tbody tr th {\n",
       "        vertical-align: top;\n",
       "    }\n",
       "\n",
       "    .dataframe thead th {\n",
       "        text-align: right;\n",
       "    }\n",
       "</style>\n",
       "<table border=\"1\" class=\"dataframe\">\n",
       "  <thead>\n",
       "    <tr style=\"text-align: right;\">\n",
       "      <th></th>\n",
       "      <th>uuid</th>\n",
       "      <th>cuuid</th>\n",
       "      <th>intdt_enroll</th>\n",
       "      <th>enroll</th>\n",
       "      <th>dodel</th>\n",
       "      <th>mch_preg</th>\n",
       "      <th>mresp_enroll</th>\n",
       "      <th>enrollloc_enroll</th>\n",
       "      <th>enrollfac_enroll</th>\n",
       "      <th>enrollhosp_enroll</th>\n",
       "      <th>...</th>\n",
       "      <th>chless2_enroll</th>\n",
       "      <th>multpreg_enroll</th>\n",
       "      <th>gapyrs_enroll</th>\n",
       "      <th>pmhcsec_enroll</th>\n",
       "      <th>pmho_enroll</th>\n",
       "      <th>lpregplan_enroll</th>\n",
       "      <th>Reltoresp_enroll</th>\n",
       "      <th>mvital_enroll</th>\n",
       "      <th>mloc_enroll</th>\n",
       "      <th>mloco_enroll</th>\n",
       "    </tr>\n",
       "  </thead>\n",
       "  <tbody>\n",
       "    <tr>\n",
       "      <th>0</th>\n",
       "      <td>00016e3719814832950c614943840c06</td>\n",
       "      <td>13e0695f-bc05-4328-98f5-d61724cb3302</td>\n",
       "      <td>16jan2020</td>\n",
       "      <td>p1</td>\n",
       "      <td>04Jan2020</td>\n",
       "      <td>1</td>\n",
       "      <td>1.0</td>\n",
       "      <td>1.0</td>\n",
       "      <td>NaN</td>\n",
       "      <td>NaN</td>\n",
       "      <td>...</td>\n",
       "      <td>NaN</td>\n",
       "      <td>NaN</td>\n",
       "      <td>NaN</td>\n",
       "      <td>NaN</td>\n",
       "      <td>NaN</td>\n",
       "      <td>NaN</td>\n",
       "      <td>NaN</td>\n",
       "      <td>NaN</td>\n",
       "      <td>NaN</td>\n",
       "      <td>NaN</td>\n",
       "    </tr>\n",
       "    <tr>\n",
       "      <th>1</th>\n",
       "      <td>00094e3a601f438fbf397fe5a258a0c5</td>\n",
       "      <td>7cf3835d6f68426c943f7214196f9b01</td>\n",
       "      <td>24dec2018</td>\n",
       "      <td>m1</td>\n",
       "      <td>NaN</td>\n",
       "      <td>1</td>\n",
       "      <td>1.0</td>\n",
       "      <td>NaN</td>\n",
       "      <td>NaN</td>\n",
       "      <td>NaN</td>\n",
       "      <td>...</td>\n",
       "      <td>1.0</td>\n",
       "      <td>NaN</td>\n",
       "      <td>4.0</td>\n",
       "      <td>0.0</td>\n",
       "      <td>NaN</td>\n",
       "      <td>1.0</td>\n",
       "      <td>NaN</td>\n",
       "      <td>NaN</td>\n",
       "      <td>NaN</td>\n",
       "      <td>NaN</td>\n",
       "    </tr>\n",
       "    <tr>\n",
       "      <th>2</th>\n",
       "      <td>00094e3a601f438fbf397fe5a258a0c5</td>\n",
       "      <td>1b263122-3dcb-48e4-804b-a3d917f28ef7</td>\n",
       "      <td>29oct2019</td>\n",
       "      <td>p1</td>\n",
       "      <td>29Oct2019</td>\n",
       "      <td>2</td>\n",
       "      <td>1.0</td>\n",
       "      <td>1.0</td>\n",
       "      <td>NaN</td>\n",
       "      <td>NaN</td>\n",
       "      <td>...</td>\n",
       "      <td>NaN</td>\n",
       "      <td>NaN</td>\n",
       "      <td>NaN</td>\n",
       "      <td>NaN</td>\n",
       "      <td>NaN</td>\n",
       "      <td>NaN</td>\n",
       "      <td>NaN</td>\n",
       "      <td>NaN</td>\n",
       "      <td>NaN</td>\n",
       "      <td>NaN</td>\n",
       "    </tr>\n",
       "    <tr>\n",
       "      <th>3</th>\n",
       "      <td>000a09920c004dc4872ce3e9d8be2b51</td>\n",
       "      <td>5190080b-cbc4-4fbf-8c44-e1558af43d5e</td>\n",
       "      <td>04jun2019</td>\n",
       "      <td>p1</td>\n",
       "      <td>06Jul2019</td>\n",
       "      <td>1</td>\n",
       "      <td>1.0</td>\n",
       "      <td>1.0</td>\n",
       "      <td>NaN</td>\n",
       "      <td>NaN</td>\n",
       "      <td>...</td>\n",
       "      <td>NaN</td>\n",
       "      <td>NaN</td>\n",
       "      <td>NaN</td>\n",
       "      <td>NaN</td>\n",
       "      <td>NaN</td>\n",
       "      <td>NaN</td>\n",
       "      <td>NaN</td>\n",
       "      <td>NaN</td>\n",
       "      <td>NaN</td>\n",
       "      <td>NaN</td>\n",
       "    </tr>\n",
       "    <tr>\n",
       "      <th>4</th>\n",
       "      <td>00156f4dbcda4715b38ef830395b2f5a</td>\n",
       "      <td>0ab0b3d8-3f80-4883-92d8-08f95e131c22</td>\n",
       "      <td>21nov2019</td>\n",
       "      <td>p1</td>\n",
       "      <td>26Jan2020</td>\n",
       "      <td>1</td>\n",
       "      <td>1.0</td>\n",
       "      <td>1.0</td>\n",
       "      <td>NaN</td>\n",
       "      <td>NaN</td>\n",
       "      <td>...</td>\n",
       "      <td>NaN</td>\n",
       "      <td>NaN</td>\n",
       "      <td>NaN</td>\n",
       "      <td>NaN</td>\n",
       "      <td>NaN</td>\n",
       "      <td>NaN</td>\n",
       "      <td>NaN</td>\n",
       "      <td>NaN</td>\n",
       "      <td>NaN</td>\n",
       "      <td>NaN</td>\n",
       "    </tr>\n",
       "  </tbody>\n",
       "</table>\n",
       "<p>5 rows × 11039 columns</p>\n",
       "</div>"
      ],
      "text/plain": [
       "                               uuid                                 cuuid   \n",
       "0  00016e3719814832950c614943840c06  13e0695f-bc05-4328-98f5-d61724cb3302  \\\n",
       "1  00094e3a601f438fbf397fe5a258a0c5      7cf3835d6f68426c943f7214196f9b01   \n",
       "2  00094e3a601f438fbf397fe5a258a0c5  1b263122-3dcb-48e4-804b-a3d917f28ef7   \n",
       "3  000a09920c004dc4872ce3e9d8be2b51  5190080b-cbc4-4fbf-8c44-e1558af43d5e   \n",
       "4  00156f4dbcda4715b38ef830395b2f5a  0ab0b3d8-3f80-4883-92d8-08f95e131c22   \n",
       "\n",
       "  intdt_enroll enroll      dodel  mch_preg  mresp_enroll  enrollloc_enroll   \n",
       "0    16jan2020     p1  04Jan2020         1           1.0               1.0  \\\n",
       "1    24dec2018     m1        NaN         1           1.0               NaN   \n",
       "2    29oct2019     p1  29Oct2019         2           1.0               1.0   \n",
       "3    04jun2019     p1  06Jul2019         1           1.0               1.0   \n",
       "4    21nov2019     p1  26Jan2020         1           1.0               1.0   \n",
       "\n",
       "   enrollfac_enroll  enrollhosp_enroll  ...  chless2_enroll  multpreg_enroll   \n",
       "0               NaN                NaN  ...             NaN              NaN  \\\n",
       "1               NaN                NaN  ...             1.0              NaN   \n",
       "2               NaN                NaN  ...             NaN              NaN   \n",
       "3               NaN                NaN  ...             NaN              NaN   \n",
       "4               NaN                NaN  ...             NaN              NaN   \n",
       "\n",
       "  gapyrs_enroll  pmhcsec_enroll  pmho_enroll  lpregplan_enroll   \n",
       "0           NaN             NaN          NaN               NaN  \\\n",
       "1           4.0             0.0          NaN               1.0   \n",
       "2           NaN             NaN          NaN               NaN   \n",
       "3           NaN             NaN          NaN               NaN   \n",
       "4           NaN             NaN          NaN               NaN   \n",
       "\n",
       "   Reltoresp_enroll  mvital_enroll  mloc_enroll  mloco_enroll  \n",
       "0               NaN            NaN          NaN           NaN  \n",
       "1               NaN            NaN          NaN           NaN  \n",
       "2               NaN            NaN          NaN           NaN  \n",
       "3               NaN            NaN          NaN           NaN  \n",
       "4               NaN            NaN          NaN           NaN  \n",
       "\n",
       "[5 rows x 11039 columns]"
      ]
     },
     "execution_count": 4,
     "metadata": {},
     "output_type": "execute_result"
    }
   ],
   "source": [
    "data.head(5)"
   ]
  },
  {
   "cell_type": "code",
   "execution_count": 48,
   "id": "cbab79d6",
   "metadata": {},
   "outputs": [
    {
     "data": {
      "text/plain": [
       "4634"
      ]
     },
     "execution_count": 48,
     "metadata": {},
     "output_type": "execute_result"
    }
   ],
   "source": [
    "len(data)"
   ]
  },
  {
   "cell_type": "code",
   "execution_count": 175,
   "id": "72bcba9e",
   "metadata": {
    "scrolled": false
   },
   "outputs": [
    {
     "data": {
      "text/plain": [
       "uuid                 object\n",
       "cuuid                object\n",
       "intdt_enroll         object\n",
       "enroll               object\n",
       "dodel                object\n",
       "                     ...   \n",
       "lpregplan_enroll    float64\n",
       "Reltoresp_enroll    float64\n",
       "mvital_enroll       float64\n",
       "mloc_enroll         float64\n",
       "mloco_enroll         object\n",
       "Length: 11039, dtype: object"
      ]
     },
     "execution_count": 175,
     "metadata": {},
     "output_type": "execute_result"
    }
   ],
   "source": [
    "data.dtypes"
   ]
  },
  {
   "cell_type": "code",
   "execution_count": 95,
   "id": "69e0dccc",
   "metadata": {},
   "outputs": [
    {
     "data": {
      "text/plain": [
       "(4634, 11039)"
      ]
     },
     "execution_count": 95,
     "metadata": {},
     "output_type": "execute_result"
    }
   ],
   "source": [
    "data.shape"
   ]
  },
  {
   "cell_type": "code",
   "execution_count": null,
   "id": "5f4efe6d",
   "metadata": {},
   "outputs": [],
   "source": [
    "#Filter causes of death from the following forms\n",
    "   #1. nc2_nf2 \n",
    "   #2. nc3 \n",
    "   #3. nf3 \n",
    "   #4. nf5 \n",
    "   #5. cc1 \n",
    "   #6. cc2 \n",
    "   #7. cf1 "
   ]
  },
  {
   "cell_type": "code",
   "execution_count": null,
   "id": "d24ea62f",
   "metadata": {},
   "outputs": [],
   "source": [
    "#b: variables included in birth forms BF1 and BC1\n",
    "   #•\tBF1: Birth – catchment and non-catchment \n",
    "   #•\tBC1: Births "
   ]
  },
  {
   "cell_type": "code",
   "execution_count": 6,
   "id": "373f3338",
   "metadata": {},
   "outputs": [
    {
     "data": {
      "text/plain": [
       "4548"
      ]
     },
     "execution_count": 6,
     "metadata": {},
     "output_type": "execute_result"
    }
   ],
   "source": [
    "#Total number of alive children\n",
    "data['cddeath_b'].isnull().sum()"
   ]
  },
  {
   "cell_type": "code",
   "execution_count": 52,
   "id": "db3895b5",
   "metadata": {
    "scrolled": false
   },
   "outputs": [
    {
     "data": {
      "text/plain": [
       "86"
      ]
     },
     "execution_count": 52,
     "metadata": {},
     "output_type": "execute_result"
    }
   ],
   "source": [
    "#Total Number of death from  BF1 and BC1 forms \n",
    "4634-data['cddeath_b'].isnull().sum()"
   ]
  },
  {
   "cell_type": "code",
   "execution_count": null,
   "id": "ba68fea5",
   "metadata": {},
   "outputs": [],
   "source": []
  },
  {
   "cell_type": "code",
   "execution_count": 54,
   "id": "edbe6a19",
   "metadata": {
    "scrolled": true
   },
   "outputs": [
    {
     "data": {
      "text/plain": [
       "23"
      ]
     },
     "execution_count": 54,
     "metadata": {},
     "output_type": "execute_result"
    }
   ],
   "source": [
    "#Total Number of death from  nc2_nf2_1 forms \n",
    "4634-data['cddeath_nc2_nf2_1'].isnull().sum()"
   ]
  },
  {
   "cell_type": "code",
   "execution_count": 124,
   "id": "1bf4227e",
   "metadata": {},
   "outputs": [],
   "source": [
    "nc2_nf2_1=nc2_nf2_1.rename(columns={'cddeath_nc2_nf2_1':'Death',\n",
    "                                    'codbirthasphyx_nc2_nf2_1':'Asphyxia',\n",
    "                                   'codpremature_nc2_nf2_1':'prematurity',\n",
    "                                  'codjdice_nc2_nf2_1':'neontal jaundice', \n",
    "                                   'codpna_nc2_nf2_1':'Pneumonia',\n",
    "                                   'codsepsis_nc2_nf2_1':'neonatal sepsis',\n",
    "                                   'codtetanus_nc2_nf2_1':'neonatal tetanus',\n",
    "                                   'codcongenmal_nc2_nf2_1':'congenital malformation',\n",
    "                                   'codo_nc2_nf2_1':'Others',\n",
    "                                   'coduk_nc2_nf2_1':'Un known'})"
   ]
  },
  {
   "cell_type": "code",
   "execution_count": 97,
   "id": "4a4b6f56",
   "metadata": {},
   "outputs": [],
   "source": [
    "nc2_nf2_1=data[['cddeath_nc2_nf2_1','codbirthasphyx_nc2_nf2_1','codpremature_nc2_nf2_1','codjdice_nc2_nf2_1','codpna_nc2_nf2_1','codsepsis_nc2_nf2_1','codtetanus_nc2_nf2_1','codcongenmal_nc2_nf2_1','codo_nc2_nf2_1','coduk_nc2_nf2_1']]"
   ]
  },
  {
   "cell_type": "code",
   "execution_count": 98,
   "id": "bcce7677",
   "metadata": {
    "scrolled": false
   },
   "outputs": [
    {
     "data": {
      "text/html": [
       "<div>\n",
       "<style scoped>\n",
       "    .dataframe tbody tr th:only-of-type {\n",
       "        vertical-align: middle;\n",
       "    }\n",
       "\n",
       "    .dataframe tbody tr th {\n",
       "        vertical-align: top;\n",
       "    }\n",
       "\n",
       "    .dataframe thead th {\n",
       "        text-align: right;\n",
       "    }\n",
       "</style>\n",
       "<table border=\"1\" class=\"dataframe\">\n",
       "  <thead>\n",
       "    <tr style=\"text-align: right;\">\n",
       "      <th></th>\n",
       "      <th>cddeath_nc2_nf2_1</th>\n",
       "      <th>codbirthasphyx_nc2_nf2_1</th>\n",
       "      <th>codpremature_nc2_nf2_1</th>\n",
       "      <th>codjdice_nc2_nf2_1</th>\n",
       "      <th>codpna_nc2_nf2_1</th>\n",
       "      <th>codsepsis_nc2_nf2_1</th>\n",
       "      <th>codtetanus_nc2_nf2_1</th>\n",
       "      <th>codcongenmal_nc2_nf2_1</th>\n",
       "      <th>codo_nc2_nf2_1</th>\n",
       "      <th>coduk_nc2_nf2_1</th>\n",
       "    </tr>\n",
       "  </thead>\n",
       "  <tbody>\n",
       "    <tr>\n",
       "      <th>52</th>\n",
       "      <td>09may2019</td>\n",
       "      <td>0.0</td>\n",
       "      <td>1.0</td>\n",
       "      <td>0.0</td>\n",
       "      <td>0.0</td>\n",
       "      <td>0.0</td>\n",
       "      <td>0.0</td>\n",
       "      <td>0.0</td>\n",
       "      <td>0.0</td>\n",
       "      <td>0.0</td>\n",
       "    </tr>\n",
       "    <tr>\n",
       "      <th>74</th>\n",
       "      <td>16jun2019</td>\n",
       "      <td>0.0</td>\n",
       "      <td>1.0</td>\n",
       "      <td>0.0</td>\n",
       "      <td>0.0</td>\n",
       "      <td>0.0</td>\n",
       "      <td>0.0</td>\n",
       "      <td>0.0</td>\n",
       "      <td>0.0</td>\n",
       "      <td>0.0</td>\n",
       "    </tr>\n",
       "    <tr>\n",
       "      <th>149</th>\n",
       "      <td>16oct2019</td>\n",
       "      <td>0.0</td>\n",
       "      <td>0.0</td>\n",
       "      <td>0.0</td>\n",
       "      <td>0.0</td>\n",
       "      <td>0.0</td>\n",
       "      <td>0.0</td>\n",
       "      <td>0.0</td>\n",
       "      <td>0.0</td>\n",
       "      <td>1.0</td>\n",
       "    </tr>\n",
       "    <tr>\n",
       "      <th>197</th>\n",
       "      <td>26jan2019</td>\n",
       "      <td>0.0</td>\n",
       "      <td>1.0</td>\n",
       "      <td>0.0</td>\n",
       "      <td>0.0</td>\n",
       "      <td>0.0</td>\n",
       "      <td>0.0</td>\n",
       "      <td>0.0</td>\n",
       "      <td>0.0</td>\n",
       "      <td>0.0</td>\n",
       "    </tr>\n",
       "    <tr>\n",
       "      <th>618</th>\n",
       "      <td>16jul2020</td>\n",
       "      <td>0.0</td>\n",
       "      <td>0.0</td>\n",
       "      <td>0.0</td>\n",
       "      <td>0.0</td>\n",
       "      <td>0.0</td>\n",
       "      <td>0.0</td>\n",
       "      <td>0.0</td>\n",
       "      <td>1.0</td>\n",
       "      <td>0.0</td>\n",
       "    </tr>\n",
       "    <tr>\n",
       "      <th>905</th>\n",
       "      <td>03jun2019</td>\n",
       "      <td>0.0</td>\n",
       "      <td>0.0</td>\n",
       "      <td>0.0</td>\n",
       "      <td>0.0</td>\n",
       "      <td>1.0</td>\n",
       "      <td>0.0</td>\n",
       "      <td>0.0</td>\n",
       "      <td>0.0</td>\n",
       "      <td>0.0</td>\n",
       "    </tr>\n",
       "    <tr>\n",
       "      <th>2044</th>\n",
       "      <td>18oct2019</td>\n",
       "      <td>0.0</td>\n",
       "      <td>1.0</td>\n",
       "      <td>0.0</td>\n",
       "      <td>0.0</td>\n",
       "      <td>0.0</td>\n",
       "      <td>0.0</td>\n",
       "      <td>0.0</td>\n",
       "      <td>0.0</td>\n",
       "      <td>0.0</td>\n",
       "    </tr>\n",
       "    <tr>\n",
       "      <th>2465</th>\n",
       "      <td>28aug2019</td>\n",
       "      <td>1.0</td>\n",
       "      <td>0.0</td>\n",
       "      <td>1.0</td>\n",
       "      <td>0.0</td>\n",
       "      <td>0.0</td>\n",
       "      <td>0.0</td>\n",
       "      <td>1.0</td>\n",
       "      <td>0.0</td>\n",
       "      <td>0.0</td>\n",
       "    </tr>\n",
       "    <tr>\n",
       "      <th>2565</th>\n",
       "      <td>16nov2018</td>\n",
       "      <td>0.0</td>\n",
       "      <td>0.0</td>\n",
       "      <td>0.0</td>\n",
       "      <td>1.0</td>\n",
       "      <td>0.0</td>\n",
       "      <td>0.0</td>\n",
       "      <td>0.0</td>\n",
       "      <td>0.0</td>\n",
       "      <td>0.0</td>\n",
       "    </tr>\n",
       "    <tr>\n",
       "      <th>2589</th>\n",
       "      <td>18nov2018</td>\n",
       "      <td>0.0</td>\n",
       "      <td>0.0</td>\n",
       "      <td>0.0</td>\n",
       "      <td>0.0</td>\n",
       "      <td>0.0</td>\n",
       "      <td>0.0</td>\n",
       "      <td>0.0</td>\n",
       "      <td>0.0</td>\n",
       "      <td>1.0</td>\n",
       "    </tr>\n",
       "    <tr>\n",
       "      <th>2714</th>\n",
       "      <td>05nov2019</td>\n",
       "      <td>0.0</td>\n",
       "      <td>1.0</td>\n",
       "      <td>1.0</td>\n",
       "      <td>0.0</td>\n",
       "      <td>0.0</td>\n",
       "      <td>0.0</td>\n",
       "      <td>0.0</td>\n",
       "      <td>0.0</td>\n",
       "      <td>0.0</td>\n",
       "    </tr>\n",
       "    <tr>\n",
       "      <th>2754</th>\n",
       "      <td>11oct2019</td>\n",
       "      <td>1.0</td>\n",
       "      <td>0.0</td>\n",
       "      <td>0.0</td>\n",
       "      <td>0.0</td>\n",
       "      <td>0.0</td>\n",
       "      <td>0.0</td>\n",
       "      <td>0.0</td>\n",
       "      <td>0.0</td>\n",
       "      <td>1.0</td>\n",
       "    </tr>\n",
       "    <tr>\n",
       "      <th>2882</th>\n",
       "      <td>19may2019</td>\n",
       "      <td>0.0</td>\n",
       "      <td>1.0</td>\n",
       "      <td>1.0</td>\n",
       "      <td>0.0</td>\n",
       "      <td>0.0</td>\n",
       "      <td>0.0</td>\n",
       "      <td>0.0</td>\n",
       "      <td>0.0</td>\n",
       "      <td>0.0</td>\n",
       "    </tr>\n",
       "    <tr>\n",
       "      <th>2901</th>\n",
       "      <td>30dec2019</td>\n",
       "      <td>0.0</td>\n",
       "      <td>0.0</td>\n",
       "      <td>0.0</td>\n",
       "      <td>0.0</td>\n",
       "      <td>0.0</td>\n",
       "      <td>0.0</td>\n",
       "      <td>0.0</td>\n",
       "      <td>0.0</td>\n",
       "      <td>1.0</td>\n",
       "    </tr>\n",
       "    <tr>\n",
       "      <th>3178</th>\n",
       "      <td>23mar2019</td>\n",
       "      <td>0.0</td>\n",
       "      <td>0.0</td>\n",
       "      <td>0.0</td>\n",
       "      <td>0.0</td>\n",
       "      <td>0.0</td>\n",
       "      <td>0.0</td>\n",
       "      <td>0.0</td>\n",
       "      <td>0.0</td>\n",
       "      <td>1.0</td>\n",
       "    </tr>\n",
       "    <tr>\n",
       "      <th>3214</th>\n",
       "      <td>26mar2019</td>\n",
       "      <td>0.0</td>\n",
       "      <td>1.0</td>\n",
       "      <td>0.0</td>\n",
       "      <td>0.0</td>\n",
       "      <td>0.0</td>\n",
       "      <td>0.0</td>\n",
       "      <td>0.0</td>\n",
       "      <td>0.0</td>\n",
       "      <td>0.0</td>\n",
       "    </tr>\n",
       "    <tr>\n",
       "      <th>3427</th>\n",
       "      <td>08jun2020</td>\n",
       "      <td>0.0</td>\n",
       "      <td>0.0</td>\n",
       "      <td>0.0</td>\n",
       "      <td>0.0</td>\n",
       "      <td>0.0</td>\n",
       "      <td>0.0</td>\n",
       "      <td>0.0</td>\n",
       "      <td>0.0</td>\n",
       "      <td>1.0</td>\n",
       "    </tr>\n",
       "    <tr>\n",
       "      <th>3490</th>\n",
       "      <td>14feb2019</td>\n",
       "      <td>0.0</td>\n",
       "      <td>1.0</td>\n",
       "      <td>0.0</td>\n",
       "      <td>0.0</td>\n",
       "      <td>0.0</td>\n",
       "      <td>0.0</td>\n",
       "      <td>0.0</td>\n",
       "      <td>0.0</td>\n",
       "      <td>0.0</td>\n",
       "    </tr>\n",
       "    <tr>\n",
       "      <th>3611</th>\n",
       "      <td>06jan2019</td>\n",
       "      <td>0.0</td>\n",
       "      <td>0.0</td>\n",
       "      <td>0.0</td>\n",
       "      <td>0.0</td>\n",
       "      <td>1.0</td>\n",
       "      <td>0.0</td>\n",
       "      <td>0.0</td>\n",
       "      <td>0.0</td>\n",
       "      <td>0.0</td>\n",
       "    </tr>\n",
       "    <tr>\n",
       "      <th>3704</th>\n",
       "      <td>12jun2019</td>\n",
       "      <td>0.0</td>\n",
       "      <td>0.0</td>\n",
       "      <td>0.0</td>\n",
       "      <td>0.0</td>\n",
       "      <td>0.0</td>\n",
       "      <td>0.0</td>\n",
       "      <td>0.0</td>\n",
       "      <td>0.0</td>\n",
       "      <td>1.0</td>\n",
       "    </tr>\n",
       "    <tr>\n",
       "      <th>3869</th>\n",
       "      <td>10dec2018</td>\n",
       "      <td>0.0</td>\n",
       "      <td>0.0</td>\n",
       "      <td>0.0</td>\n",
       "      <td>0.0</td>\n",
       "      <td>0.0</td>\n",
       "      <td>0.0</td>\n",
       "      <td>1.0</td>\n",
       "      <td>0.0</td>\n",
       "      <td>0.0</td>\n",
       "    </tr>\n",
       "    <tr>\n",
       "      <th>4106</th>\n",
       "      <td>22feb2020</td>\n",
       "      <td>0.0</td>\n",
       "      <td>1.0</td>\n",
       "      <td>0.0</td>\n",
       "      <td>1.0</td>\n",
       "      <td>0.0</td>\n",
       "      <td>0.0</td>\n",
       "      <td>0.0</td>\n",
       "      <td>0.0</td>\n",
       "      <td>0.0</td>\n",
       "    </tr>\n",
       "    <tr>\n",
       "      <th>4469</th>\n",
       "      <td>24feb2019</td>\n",
       "      <td>0.0</td>\n",
       "      <td>0.0</td>\n",
       "      <td>0.0</td>\n",
       "      <td>0.0</td>\n",
       "      <td>1.0</td>\n",
       "      <td>0.0</td>\n",
       "      <td>0.0</td>\n",
       "      <td>0.0</td>\n",
       "      <td>0.0</td>\n",
       "    </tr>\n",
       "  </tbody>\n",
       "</table>\n",
       "</div>"
      ],
      "text/plain": [
       "     cddeath_nc2_nf2_1  codbirthasphyx_nc2_nf2_1  codpremature_nc2_nf2_1   \n",
       "52           09may2019                       0.0                     1.0  \\\n",
       "74           16jun2019                       0.0                     1.0   \n",
       "149          16oct2019                       0.0                     0.0   \n",
       "197          26jan2019                       0.0                     1.0   \n",
       "618          16jul2020                       0.0                     0.0   \n",
       "905          03jun2019                       0.0                     0.0   \n",
       "2044         18oct2019                       0.0                     1.0   \n",
       "2465         28aug2019                       1.0                     0.0   \n",
       "2565         16nov2018                       0.0                     0.0   \n",
       "2589         18nov2018                       0.0                     0.0   \n",
       "2714         05nov2019                       0.0                     1.0   \n",
       "2754         11oct2019                       1.0                     0.0   \n",
       "2882         19may2019                       0.0                     1.0   \n",
       "2901         30dec2019                       0.0                     0.0   \n",
       "3178         23mar2019                       0.0                     0.0   \n",
       "3214         26mar2019                       0.0                     1.0   \n",
       "3427         08jun2020                       0.0                     0.0   \n",
       "3490         14feb2019                       0.0                     1.0   \n",
       "3611         06jan2019                       0.0                     0.0   \n",
       "3704         12jun2019                       0.0                     0.0   \n",
       "3869         10dec2018                       0.0                     0.0   \n",
       "4106         22feb2020                       0.0                     1.0   \n",
       "4469         24feb2019                       0.0                     0.0   \n",
       "\n",
       "      codjdice_nc2_nf2_1  codpna_nc2_nf2_1  codsepsis_nc2_nf2_1   \n",
       "52                   0.0               0.0                  0.0  \\\n",
       "74                   0.0               0.0                  0.0   \n",
       "149                  0.0               0.0                  0.0   \n",
       "197                  0.0               0.0                  0.0   \n",
       "618                  0.0               0.0                  0.0   \n",
       "905                  0.0               0.0                  1.0   \n",
       "2044                 0.0               0.0                  0.0   \n",
       "2465                 1.0               0.0                  0.0   \n",
       "2565                 0.0               1.0                  0.0   \n",
       "2589                 0.0               0.0                  0.0   \n",
       "2714                 1.0               0.0                  0.0   \n",
       "2754                 0.0               0.0                  0.0   \n",
       "2882                 1.0               0.0                  0.0   \n",
       "2901                 0.0               0.0                  0.0   \n",
       "3178                 0.0               0.0                  0.0   \n",
       "3214                 0.0               0.0                  0.0   \n",
       "3427                 0.0               0.0                  0.0   \n",
       "3490                 0.0               0.0                  0.0   \n",
       "3611                 0.0               0.0                  1.0   \n",
       "3704                 0.0               0.0                  0.0   \n",
       "3869                 0.0               0.0                  0.0   \n",
       "4106                 0.0               1.0                  0.0   \n",
       "4469                 0.0               0.0                  1.0   \n",
       "\n",
       "      codtetanus_nc2_nf2_1  codcongenmal_nc2_nf2_1  codo_nc2_nf2_1   \n",
       "52                     0.0                     0.0             0.0  \\\n",
       "74                     0.0                     0.0             0.0   \n",
       "149                    0.0                     0.0             0.0   \n",
       "197                    0.0                     0.0             0.0   \n",
       "618                    0.0                     0.0             1.0   \n",
       "905                    0.0                     0.0             0.0   \n",
       "2044                   0.0                     0.0             0.0   \n",
       "2465                   0.0                     1.0             0.0   \n",
       "2565                   0.0                     0.0             0.0   \n",
       "2589                   0.0                     0.0             0.0   \n",
       "2714                   0.0                     0.0             0.0   \n",
       "2754                   0.0                     0.0             0.0   \n",
       "2882                   0.0                     0.0             0.0   \n",
       "2901                   0.0                     0.0             0.0   \n",
       "3178                   0.0                     0.0             0.0   \n",
       "3214                   0.0                     0.0             0.0   \n",
       "3427                   0.0                     0.0             0.0   \n",
       "3490                   0.0                     0.0             0.0   \n",
       "3611                   0.0                     0.0             0.0   \n",
       "3704                   0.0                     0.0             0.0   \n",
       "3869                   0.0                     1.0             0.0   \n",
       "4106                   0.0                     0.0             0.0   \n",
       "4469                   0.0                     0.0             0.0   \n",
       "\n",
       "      coduk_nc2_nf2_1  \n",
       "52                0.0  \n",
       "74                0.0  \n",
       "149               1.0  \n",
       "197               0.0  \n",
       "618               0.0  \n",
       "905               0.0  \n",
       "2044              0.0  \n",
       "2465              0.0  \n",
       "2565              0.0  \n",
       "2589              1.0  \n",
       "2714              0.0  \n",
       "2754              1.0  \n",
       "2882              0.0  \n",
       "2901              1.0  \n",
       "3178              1.0  \n",
       "3214              0.0  \n",
       "3427              1.0  \n",
       "3490              0.0  \n",
       "3611              0.0  \n",
       "3704              1.0  \n",
       "3869              0.0  \n",
       "4106              0.0  \n",
       "4469              0.0  "
      ]
     },
     "execution_count": 98,
     "metadata": {},
     "output_type": "execute_result"
    }
   ],
   "source": [
    "nc2_nf2_1 = nc2_nf2_1[nc2_nf2_1.notnull().all(axis=1)]\n",
    "nc2_nf2_1"
   ]
  },
  {
   "cell_type": "code",
   "execution_count": null,
   "id": "231274c5",
   "metadata": {},
   "outputs": [],
   "source": []
  },
  {
   "cell_type": "code",
   "execution_count": null,
   "id": "29244fdd",
   "metadata": {},
   "outputs": [],
   "source": []
  },
  {
   "cell_type": "code",
   "execution_count": 55,
   "id": "4ee21f09",
   "metadata": {},
   "outputs": [
    {
     "data": {
      "text/plain": [
       "5"
      ]
     },
     "execution_count": 55,
     "metadata": {},
     "output_type": "execute_result"
    }
   ],
   "source": [
    "#Total Number of death from  nc2_nf2_2 forms \n",
    "4634-data['cddeath_nc2_nf2_2'].isnull().sum()"
   ]
  },
  {
   "cell_type": "code",
   "execution_count": 126,
   "id": "8fc18632",
   "metadata": {},
   "outputs": [],
   "source": [
    "nc2_nf2_2=nc2_nf2_2.rename(columns={'cddeath_nc2_nf2_2':'Death',\n",
    "                                    'codbirthasphyx_nc2_nf2_2':'Asphyxia',\n",
    "                                   'codpremature_nc2_nf2_2':'prematurity',\n",
    "                                  'codjdice_nc2_nf2_2':'neontal jaundice', \n",
    "                                   'codpna_nc2_nf2_2':'Pneumonia',\n",
    "                                   'codsepsis_nc2_nf2_2':'neonatal sepsis',\n",
    "                                   'codtetanus_nc2_nf2_2':'neonatal tetanus',\n",
    "                                   'codcongenmal_nc2_nf2_2':'congenital malformation',\n",
    "                                   'codo_nc2_nf2_2':'Others',\n",
    "                                   'coduk_nc2_nf2_2':'Unknown'})"
   ]
  },
  {
   "cell_type": "code",
   "execution_count": 107,
   "id": "887698ef",
   "metadata": {
    "scrolled": true
   },
   "outputs": [
    {
     "data": {
      "text/html": [
       "<div>\n",
       "<style scoped>\n",
       "    .dataframe tbody tr th:only-of-type {\n",
       "        vertical-align: middle;\n",
       "    }\n",
       "\n",
       "    .dataframe tbody tr th {\n",
       "        vertical-align: top;\n",
       "    }\n",
       "\n",
       "    .dataframe thead th {\n",
       "        text-align: right;\n",
       "    }\n",
       "</style>\n",
       "<table border=\"1\" class=\"dataframe\">\n",
       "  <thead>\n",
       "    <tr style=\"text-align: right;\">\n",
       "      <th></th>\n",
       "      <th>cddeath_nc2_nf2_2</th>\n",
       "      <th>codbirthasphyx_nc2_nf2_2</th>\n",
       "      <th>codpremature_nc2_nf2_2</th>\n",
       "      <th>codjdice_nc2_nf2_2</th>\n",
       "      <th>codpna_nc2_nf2_2</th>\n",
       "      <th>codsepsis_nc2_nf2_2</th>\n",
       "      <th>codtetanus_nc2_nf2_2</th>\n",
       "      <th>codcongenmal_nc2_nf2_2</th>\n",
       "      <th>codo_nc2_nf2_2</th>\n",
       "      <th>coduk_nc2_nf2_2</th>\n",
       "    </tr>\n",
       "  </thead>\n",
       "  <tbody>\n",
       "    <tr>\n",
       "      <th>652</th>\n",
       "      <td>13oct2020</td>\n",
       "      <td>0.0</td>\n",
       "      <td>0.0</td>\n",
       "      <td>0.0</td>\n",
       "      <td>0.0</td>\n",
       "      <td>0.0</td>\n",
       "      <td>0.0</td>\n",
       "      <td>0.0</td>\n",
       "      <td>0.0</td>\n",
       "      <td>1.0</td>\n",
       "    </tr>\n",
       "    <tr>\n",
       "      <th>3643</th>\n",
       "      <td>16nov2019</td>\n",
       "      <td>0.0</td>\n",
       "      <td>1.0</td>\n",
       "      <td>0.0</td>\n",
       "      <td>0.0</td>\n",
       "      <td>0.0</td>\n",
       "      <td>0.0</td>\n",
       "      <td>0.0</td>\n",
       "      <td>0.0</td>\n",
       "      <td>0.0</td>\n",
       "    </tr>\n",
       "    <tr>\n",
       "      <th>4170</th>\n",
       "      <td>24apr2019</td>\n",
       "      <td>0.0</td>\n",
       "      <td>0.0</td>\n",
       "      <td>0.0</td>\n",
       "      <td>0.0</td>\n",
       "      <td>0.0</td>\n",
       "      <td>0.0</td>\n",
       "      <td>0.0</td>\n",
       "      <td>0.0</td>\n",
       "      <td>0.0</td>\n",
       "    </tr>\n",
       "    <tr>\n",
       "      <th>4172</th>\n",
       "      <td>23apr2019</td>\n",
       "      <td>0.0</td>\n",
       "      <td>0.0</td>\n",
       "      <td>0.0</td>\n",
       "      <td>0.0</td>\n",
       "      <td>0.0</td>\n",
       "      <td>0.0</td>\n",
       "      <td>0.0</td>\n",
       "      <td>0.0</td>\n",
       "      <td>1.0</td>\n",
       "    </tr>\n",
       "    <tr>\n",
       "      <th>4582</th>\n",
       "      <td>21apr2019</td>\n",
       "      <td>0.0</td>\n",
       "      <td>0.0</td>\n",
       "      <td>0.0</td>\n",
       "      <td>0.0</td>\n",
       "      <td>0.0</td>\n",
       "      <td>0.0</td>\n",
       "      <td>0.0</td>\n",
       "      <td>1.0</td>\n",
       "      <td>0.0</td>\n",
       "    </tr>\n",
       "  </tbody>\n",
       "</table>\n",
       "</div>"
      ],
      "text/plain": [
       "     cddeath_nc2_nf2_2  codbirthasphyx_nc2_nf2_2  codpremature_nc2_nf2_2   \n",
       "652          13oct2020                       0.0                     0.0  \\\n",
       "3643         16nov2019                       0.0                     1.0   \n",
       "4170         24apr2019                       0.0                     0.0   \n",
       "4172         23apr2019                       0.0                     0.0   \n",
       "4582         21apr2019                       0.0                     0.0   \n",
       "\n",
       "      codjdice_nc2_nf2_2  codpna_nc2_nf2_2  codsepsis_nc2_nf2_2   \n",
       "652                  0.0               0.0                  0.0  \\\n",
       "3643                 0.0               0.0                  0.0   \n",
       "4170                 0.0               0.0                  0.0   \n",
       "4172                 0.0               0.0                  0.0   \n",
       "4582                 0.0               0.0                  0.0   \n",
       "\n",
       "      codtetanus_nc2_nf2_2  codcongenmal_nc2_nf2_2  codo_nc2_nf2_2   \n",
       "652                    0.0                     0.0             0.0  \\\n",
       "3643                   0.0                     0.0             0.0   \n",
       "4170                   0.0                     0.0             0.0   \n",
       "4172                   0.0                     0.0             0.0   \n",
       "4582                   0.0                     0.0             1.0   \n",
       "\n",
       "      coduk_nc2_nf2_2  \n",
       "652               1.0  \n",
       "3643              0.0  \n",
       "4170              0.0  \n",
       "4172              1.0  \n",
       "4582              0.0  "
      ]
     },
     "execution_count": 107,
     "metadata": {},
     "output_type": "execute_result"
    }
   ],
   "source": [
    "nc2_nf2_2=data[['cddeath_nc2_nf2_2','codbirthasphyx_nc2_nf2_2','codpremature_nc2_nf2_2','codjdice_nc2_nf2_2','codpna_nc2_nf2_2','codsepsis_nc2_nf2_2','codtetanus_nc2_nf2_2','codcongenmal_nc2_nf2_2','codo_nc2_nf2_2','coduk_nc2_nf2_2']]\n",
    "nc2_nf2_2 = nc2_nf2_2[nc2_nf2_2.notnull().all(axis=1)]\n",
    "nc2_nf2_2"
   ]
  },
  {
   "cell_type": "code",
   "execution_count": null,
   "id": "efbb61ce",
   "metadata": {},
   "outputs": [],
   "source": []
  },
  {
   "cell_type": "code",
   "execution_count": null,
   "id": "3257cc3b",
   "metadata": {},
   "outputs": [],
   "source": []
  },
  {
   "cell_type": "code",
   "execution_count": 127,
   "id": "467f8c6b",
   "metadata": {},
   "outputs": [],
   "source": [
    "nc2_nf2_3=nc2_nf2_3.rename(columns={'cddeath_nc2_nf2_3':'Death',\n",
    "                                    'codbirthasphyx_nc2_nf2_3':'Asphyxia',\n",
    "                                   'codpremature_nc2_nf2_3':'prematurity',\n",
    "                                  'codjdice_nc2_nf2_3':'neontal jaundice', \n",
    "                                   'codpna_nc2_nf2_3':'Pneumonia',\n",
    "                                   'codsepsis_nc2_nf2_3':'neonatal sepsis',\n",
    "                                   'codtetanus_nc2_nf2_3':'neonatal tetanus',\n",
    "                                   'codcongenmal_nc2_nf2_3':'congenital malformation',\n",
    "                                   'codo_nc2_nf2_3':'Others',\n",
    "                                   'coduk_nc2_nf2_3':'Unknown'})"
   ]
  },
  {
   "cell_type": "code",
   "execution_count": 59,
   "id": "2a61ee50",
   "metadata": {},
   "outputs": [
    {
     "data": {
      "text/plain": [
       "2"
      ]
     },
     "execution_count": 59,
     "metadata": {},
     "output_type": "execute_result"
    }
   ],
   "source": [
    "#Total Number of death from  nc2_nf2_3 forms \n",
    "4634-data['cddeath_nc2_nf2_3'].isnull().sum()"
   ]
  },
  {
   "cell_type": "code",
   "execution_count": 109,
   "id": "87bd4b5b",
   "metadata": {},
   "outputs": [
    {
     "data": {
      "text/html": [
       "<div>\n",
       "<style scoped>\n",
       "    .dataframe tbody tr th:only-of-type {\n",
       "        vertical-align: middle;\n",
       "    }\n",
       "\n",
       "    .dataframe tbody tr th {\n",
       "        vertical-align: top;\n",
       "    }\n",
       "\n",
       "    .dataframe thead th {\n",
       "        text-align: right;\n",
       "    }\n",
       "</style>\n",
       "<table border=\"1\" class=\"dataframe\">\n",
       "  <thead>\n",
       "    <tr style=\"text-align: right;\">\n",
       "      <th></th>\n",
       "      <th>cddeath_nc2_nf2_3</th>\n",
       "      <th>codbirthasphyx_nc2_nf2_3</th>\n",
       "      <th>codpremature_nc2_nf2_3</th>\n",
       "      <th>codjdice_nc2_nf2_3</th>\n",
       "      <th>codpna_nc2_nf2_3</th>\n",
       "      <th>codsepsis_nc2_nf2_3</th>\n",
       "      <th>codtetanus_nc2_nf2_3</th>\n",
       "      <th>codcongenmal_nc2_nf2_3</th>\n",
       "      <th>codo_nc2_nf2_3</th>\n",
       "      <th>coduk_nc2_nf2_3</th>\n",
       "    </tr>\n",
       "  </thead>\n",
       "  <tbody>\n",
       "    <tr>\n",
       "      <th>2598</th>\n",
       "      <td>25dec2019</td>\n",
       "      <td>0.0</td>\n",
       "      <td>0.0</td>\n",
       "      <td>0.0</td>\n",
       "      <td>0.0</td>\n",
       "      <td>0.0</td>\n",
       "      <td>0.0</td>\n",
       "      <td>0.0</td>\n",
       "      <td>1.0</td>\n",
       "      <td>1.0</td>\n",
       "    </tr>\n",
       "    <tr>\n",
       "      <th>3934</th>\n",
       "      <td>28jan2020</td>\n",
       "      <td>0.0</td>\n",
       "      <td>0.0</td>\n",
       "      <td>0.0</td>\n",
       "      <td>0.0</td>\n",
       "      <td>0.0</td>\n",
       "      <td>0.0</td>\n",
       "      <td>0.0</td>\n",
       "      <td>0.0</td>\n",
       "      <td>1.0</td>\n",
       "    </tr>\n",
       "  </tbody>\n",
       "</table>\n",
       "</div>"
      ],
      "text/plain": [
       "     cddeath_nc2_nf2_3  codbirthasphyx_nc2_nf2_3  codpremature_nc2_nf2_3   \n",
       "2598         25dec2019                       0.0                     0.0  \\\n",
       "3934         28jan2020                       0.0                     0.0   \n",
       "\n",
       "      codjdice_nc2_nf2_3  codpna_nc2_nf2_3  codsepsis_nc2_nf2_3   \n",
       "2598                 0.0               0.0                  0.0  \\\n",
       "3934                 0.0               0.0                  0.0   \n",
       "\n",
       "      codtetanus_nc2_nf2_3  codcongenmal_nc2_nf2_3  codo_nc2_nf2_3   \n",
       "2598                   0.0                     0.0             1.0  \\\n",
       "3934                   0.0                     0.0             0.0   \n",
       "\n",
       "      coduk_nc2_nf2_3  \n",
       "2598              1.0  \n",
       "3934              1.0  "
      ]
     },
     "execution_count": 109,
     "metadata": {},
     "output_type": "execute_result"
    }
   ],
   "source": [
    "nc2_nf2_3=data[['cddeath_nc2_nf2_3','codbirthasphyx_nc2_nf2_3','codpremature_nc2_nf2_3','codjdice_nc2_nf2_3','codpna_nc2_nf2_3','codsepsis_nc2_nf2_3','codtetanus_nc2_nf2_3','codcongenmal_nc2_nf2_3','codo_nc2_nf2_3','coduk_nc2_nf2_3']]\n",
    "nc2_nf2_3 = nc2_nf2_3[nc2_nf2_3.notnull().all(axis=1)]\n",
    "nc2_nf2_3"
   ]
  },
  {
   "cell_type": "code",
   "execution_count": null,
   "id": "ee3bbad3",
   "metadata": {},
   "outputs": [],
   "source": []
  },
  {
   "cell_type": "code",
   "execution_count": null,
   "id": "749a4c58",
   "metadata": {},
   "outputs": [],
   "source": []
  },
  {
   "cell_type": "code",
   "execution_count": 129,
   "id": "e559be9a",
   "metadata": {},
   "outputs": [],
   "source": [
    "nc3_1=nc3_1.rename(columns={'cddeath_nc3_1':'Death',\n",
    "                                    'codbirthasphyx_nc3_1':'Asphyxia',\n",
    "                                   'codpremature_nc3_1':'prematurity',\n",
    "                                  'codjdice_nc3_1':'neontal jaundice', \n",
    "                                   'codpna_nc3_1':'Pneumonia',\n",
    "                                   'codsepsis_nc3_1':'neonatal sepsis',\n",
    "                                   'codtetanus_nc3_1':'neonatal tetanus',\n",
    "                                   'codcongenmal_nc3_1':'congenital malformation',\n",
    "                                   'codo_nc3_1':'Others',\n",
    "                                   'coduk_nc3_1':'Unknown'})"
   ]
  },
  {
   "cell_type": "code",
   "execution_count": 61,
   "id": "eae59aa2",
   "metadata": {},
   "outputs": [
    {
     "data": {
      "text/plain": [
       "7"
      ]
     },
     "execution_count": 61,
     "metadata": {},
     "output_type": "execute_result"
    }
   ],
   "source": [
    "#Total Number of death from nc3_1 forms \n",
    "4634-data['cddeath_nc3_1'].isnull().sum()"
   ]
  },
  {
   "cell_type": "code",
   "execution_count": 110,
   "id": "8a8ec5b4",
   "metadata": {
    "scrolled": true
   },
   "outputs": [
    {
     "data": {
      "text/html": [
       "<div>\n",
       "<style scoped>\n",
       "    .dataframe tbody tr th:only-of-type {\n",
       "        vertical-align: middle;\n",
       "    }\n",
       "\n",
       "    .dataframe tbody tr th {\n",
       "        vertical-align: top;\n",
       "    }\n",
       "\n",
       "    .dataframe thead th {\n",
       "        text-align: right;\n",
       "    }\n",
       "</style>\n",
       "<table border=\"1\" class=\"dataframe\">\n",
       "  <thead>\n",
       "    <tr style=\"text-align: right;\">\n",
       "      <th></th>\n",
       "      <th>cddeath_nc3_1</th>\n",
       "      <th>codbirthasphyx_nc3_1</th>\n",
       "      <th>codpremature_nc3_1</th>\n",
       "      <th>codjdice_nc3_1</th>\n",
       "      <th>codpna_nc3_1</th>\n",
       "      <th>codsepsis_nc3_1</th>\n",
       "      <th>codtetanus_nc3_1</th>\n",
       "      <th>codcongenmal_nc3_1</th>\n",
       "      <th>codo_nc3_1</th>\n",
       "      <th>coduk_nc3_1</th>\n",
       "    </tr>\n",
       "  </thead>\n",
       "  <tbody>\n",
       "    <tr>\n",
       "      <th>311</th>\n",
       "      <td>06nov2019</td>\n",
       "      <td>0.0</td>\n",
       "      <td>0.0</td>\n",
       "      <td>0.0</td>\n",
       "      <td>0.0</td>\n",
       "      <td>0.0</td>\n",
       "      <td>0.0</td>\n",
       "      <td>0.0</td>\n",
       "      <td>1.0</td>\n",
       "      <td>0.0</td>\n",
       "    </tr>\n",
       "    <tr>\n",
       "      <th>1259</th>\n",
       "      <td>19mar2019</td>\n",
       "      <td>0.0</td>\n",
       "      <td>1.0</td>\n",
       "      <td>0.0</td>\n",
       "      <td>0.0</td>\n",
       "      <td>0.0</td>\n",
       "      <td>0.0</td>\n",
       "      <td>0.0</td>\n",
       "      <td>0.0</td>\n",
       "      <td>0.0</td>\n",
       "    </tr>\n",
       "    <tr>\n",
       "      <th>1753</th>\n",
       "      <td>27nov2019</td>\n",
       "      <td>0.0</td>\n",
       "      <td>0.0</td>\n",
       "      <td>0.0</td>\n",
       "      <td>0.0</td>\n",
       "      <td>0.0</td>\n",
       "      <td>0.0</td>\n",
       "      <td>0.0</td>\n",
       "      <td>1.0</td>\n",
       "      <td>0.0</td>\n",
       "    </tr>\n",
       "    <tr>\n",
       "      <th>3263</th>\n",
       "      <td>03jul2020</td>\n",
       "      <td>0.0</td>\n",
       "      <td>0.0</td>\n",
       "      <td>0.0</td>\n",
       "      <td>0.0</td>\n",
       "      <td>0.0</td>\n",
       "      <td>0.0</td>\n",
       "      <td>0.0</td>\n",
       "      <td>1.0</td>\n",
       "      <td>0.0</td>\n",
       "    </tr>\n",
       "    <tr>\n",
       "      <th>4343</th>\n",
       "      <td>06jun2019</td>\n",
       "      <td>0.0</td>\n",
       "      <td>0.0</td>\n",
       "      <td>0.0</td>\n",
       "      <td>0.0</td>\n",
       "      <td>0.0</td>\n",
       "      <td>0.0</td>\n",
       "      <td>0.0</td>\n",
       "      <td>1.0</td>\n",
       "      <td>0.0</td>\n",
       "    </tr>\n",
       "    <tr>\n",
       "      <th>4429</th>\n",
       "      <td>26sep2019</td>\n",
       "      <td>0.0</td>\n",
       "      <td>0.0</td>\n",
       "      <td>0.0</td>\n",
       "      <td>0.0</td>\n",
       "      <td>0.0</td>\n",
       "      <td>0.0</td>\n",
       "      <td>0.0</td>\n",
       "      <td>1.0</td>\n",
       "      <td>0.0</td>\n",
       "    </tr>\n",
       "    <tr>\n",
       "      <th>4631</th>\n",
       "      <td>26jul2019</td>\n",
       "      <td>0.0</td>\n",
       "      <td>0.0</td>\n",
       "      <td>0.0</td>\n",
       "      <td>0.0</td>\n",
       "      <td>0.0</td>\n",
       "      <td>0.0</td>\n",
       "      <td>0.0</td>\n",
       "      <td>0.0</td>\n",
       "      <td>0.0</td>\n",
       "    </tr>\n",
       "  </tbody>\n",
       "</table>\n",
       "</div>"
      ],
      "text/plain": [
       "     cddeath_nc3_1  codbirthasphyx_nc3_1  codpremature_nc3_1  codjdice_nc3_1   \n",
       "311      06nov2019                   0.0                 0.0             0.0  \\\n",
       "1259     19mar2019                   0.0                 1.0             0.0   \n",
       "1753     27nov2019                   0.0                 0.0             0.0   \n",
       "3263     03jul2020                   0.0                 0.0             0.0   \n",
       "4343     06jun2019                   0.0                 0.0             0.0   \n",
       "4429     26sep2019                   0.0                 0.0             0.0   \n",
       "4631     26jul2019                   0.0                 0.0             0.0   \n",
       "\n",
       "      codpna_nc3_1  codsepsis_nc3_1  codtetanus_nc3_1  codcongenmal_nc3_1   \n",
       "311            0.0              0.0               0.0                 0.0  \\\n",
       "1259           0.0              0.0               0.0                 0.0   \n",
       "1753           0.0              0.0               0.0                 0.0   \n",
       "3263           0.0              0.0               0.0                 0.0   \n",
       "4343           0.0              0.0               0.0                 0.0   \n",
       "4429           0.0              0.0               0.0                 0.0   \n",
       "4631           0.0              0.0               0.0                 0.0   \n",
       "\n",
       "      codo_nc3_1  coduk_nc3_1  \n",
       "311          1.0          0.0  \n",
       "1259         0.0          0.0  \n",
       "1753         1.0          0.0  \n",
       "3263         1.0          0.0  \n",
       "4343         1.0          0.0  \n",
       "4429         1.0          0.0  \n",
       "4631         0.0          0.0  "
      ]
     },
     "execution_count": 110,
     "metadata": {},
     "output_type": "execute_result"
    }
   ],
   "source": [
    "nc3_1=data[['cddeath_nc3_1','codbirthasphyx_nc3_1','codpremature_nc3_1','codjdice_nc3_1','codpna_nc3_1','codsepsis_nc3_1','codtetanus_nc3_1','codcongenmal_nc3_1','codo_nc3_1','coduk_nc3_1']]\n",
    "nc3_1= nc3_1[nc3_1.notnull().all(axis=1)]\n",
    "nc3_1"
   ]
  },
  {
   "cell_type": "code",
   "execution_count": null,
   "id": "982ff558",
   "metadata": {},
   "outputs": [],
   "source": []
  },
  {
   "cell_type": "code",
   "execution_count": null,
   "id": "ac82398f",
   "metadata": {},
   "outputs": [],
   "source": []
  },
  {
   "cell_type": "code",
   "execution_count": null,
   "id": "e3bd481a",
   "metadata": {},
   "outputs": [],
   "source": []
  },
  {
   "cell_type": "code",
   "execution_count": 62,
   "id": "a50c7db0",
   "metadata": {},
   "outputs": [
    {
     "data": {
      "text/plain": [
       "1"
      ]
     },
     "execution_count": 62,
     "metadata": {},
     "output_type": "execute_result"
    }
   ],
   "source": [
    "#Total Number of death from nc3_2 forms \n",
    "4634-data['cddeath_nc3_2'].isnull().sum()"
   ]
  },
  {
   "cell_type": "code",
   "execution_count": null,
   "id": "6e557b64",
   "metadata": {},
   "outputs": [],
   "source": []
  },
  {
   "cell_type": "code",
   "execution_count": null,
   "id": "8f96fcbd",
   "metadata": {},
   "outputs": [],
   "source": []
  },
  {
   "cell_type": "code",
   "execution_count": 134,
   "id": "34e4726b",
   "metadata": {},
   "outputs": [],
   "source": [
    "nf3_1=nf3_1.rename(columns={'cddeath_nf3_1':'Death',\n",
    "                                    'codbirthasphyx_nf3_1':'Asphyxia',\n",
    "                                   'codpremature_nf3_1':'prematurity',\n",
    "                                  'codjdice_nf3_1':'neontal jaundice', \n",
    "                                   'codpna_nf3_1':'Pneumonia',\n",
    "                                   'codsepsis_nf3_1':'neonatal sepsis',\n",
    "                                   'codtetanus_nf3_1':'neonatal tetanus',\n",
    "                                   'codcongenmal_nf3_1':'congenital malformation',\n",
    "                                   'codo_nf3_1':'Others',\n",
    "                                   'coduk_nf3_1':'Unknown'})"
   ]
  },
  {
   "cell_type": "code",
   "execution_count": 118,
   "id": "e3d577cd",
   "metadata": {},
   "outputs": [
    {
     "data": {
      "text/plain": [
       "2"
      ]
     },
     "execution_count": 118,
     "metadata": {},
     "output_type": "execute_result"
    }
   ],
   "source": [
    "#Total Number of death from nf3_1 forms \n",
    "4634-data['cddeath_nf3_1'].isnull().sum()"
   ]
  },
  {
   "cell_type": "code",
   "execution_count": 123,
   "id": "a2fa00ee",
   "metadata": {
    "scrolled": true
   },
   "outputs": [
    {
     "data": {
      "text/html": [
       "<div>\n",
       "<style scoped>\n",
       "    .dataframe tbody tr th:only-of-type {\n",
       "        vertical-align: middle;\n",
       "    }\n",
       "\n",
       "    .dataframe tbody tr th {\n",
       "        vertical-align: top;\n",
       "    }\n",
       "\n",
       "    .dataframe thead th {\n",
       "        text-align: right;\n",
       "    }\n",
       "</style>\n",
       "<table border=\"1\" class=\"dataframe\">\n",
       "  <thead>\n",
       "    <tr style=\"text-align: right;\">\n",
       "      <th></th>\n",
       "      <th>cddeath_nf3_1</th>\n",
       "      <th>codbirthasphyx_nf3_1</th>\n",
       "      <th>codpremature_nf3_1</th>\n",
       "      <th>codjdice_nf3_1</th>\n",
       "      <th>codpna_nf3_1</th>\n",
       "      <th>codsepsis_nf3_1</th>\n",
       "      <th>codtetanus_nf3_1</th>\n",
       "      <th>codcongenmal_nf3_1</th>\n",
       "      <th>codo_nf3_1</th>\n",
       "    </tr>\n",
       "  </thead>\n",
       "  <tbody>\n",
       "    <tr>\n",
       "      <th>2754</th>\n",
       "      <td>11oct2019</td>\n",
       "      <td>1.0</td>\n",
       "      <td>0.0</td>\n",
       "      <td>0.0</td>\n",
       "      <td>0.0</td>\n",
       "      <td>0.0</td>\n",
       "      <td>0.0</td>\n",
       "      <td>0.0</td>\n",
       "      <td>1.0</td>\n",
       "    </tr>\n",
       "    <tr>\n",
       "      <th>3979</th>\n",
       "      <td>08oct2019</td>\n",
       "      <td>0.0</td>\n",
       "      <td>0.0</td>\n",
       "      <td>0.0</td>\n",
       "      <td>0.0</td>\n",
       "      <td>0.0</td>\n",
       "      <td>0.0</td>\n",
       "      <td>0.0</td>\n",
       "      <td>1.0</td>\n",
       "    </tr>\n",
       "  </tbody>\n",
       "</table>\n",
       "</div>"
      ],
      "text/plain": [
       "     cddeath_nf3_1  codbirthasphyx_nf3_1  codpremature_nf3_1  codjdice_nf3_1   \n",
       "2754     11oct2019                   1.0                 0.0             0.0  \\\n",
       "3979     08oct2019                   0.0                 0.0             0.0   \n",
       "\n",
       "      codpna_nf3_1  codsepsis_nf3_1  codtetanus_nf3_1  codcongenmal_nf3_1   \n",
       "2754           0.0              0.0               0.0                 0.0  \\\n",
       "3979           0.0              0.0               0.0                 0.0   \n",
       "\n",
       "      codo_nf3_1  \n",
       "2754         1.0  \n",
       "3979         1.0  "
      ]
     },
     "execution_count": 123,
     "metadata": {},
     "output_type": "execute_result"
    }
   ],
   "source": [
    "nf3_1=data[['cddeath_nf3_1','codbirthasphyx_nf3_1','codpremature_nf3_1','codjdice_nf3_1','codpna_nf3_1','codsepsis_nf3_1','codtetanus_nf3_1','codcongenmal_nf3_1','codo_nf3_1']]\n",
    "nf3_1= nf3_1[nf3_1.notnull().all(axis=1)]\n",
    "nf3_1"
   ]
  },
  {
   "cell_type": "code",
   "execution_count": 135,
   "id": "050800c2",
   "metadata": {
    "scrolled": true
   },
   "outputs": [
    {
     "data": {
      "text/html": [
       "<div>\n",
       "<style scoped>\n",
       "    .dataframe tbody tr th:only-of-type {\n",
       "        vertical-align: middle;\n",
       "    }\n",
       "\n",
       "    .dataframe tbody tr th {\n",
       "        vertical-align: top;\n",
       "    }\n",
       "\n",
       "    .dataframe thead th {\n",
       "        text-align: right;\n",
       "    }\n",
       "</style>\n",
       "<table border=\"1\" class=\"dataframe\">\n",
       "  <thead>\n",
       "    <tr style=\"text-align: right;\">\n",
       "      <th></th>\n",
       "      <th>Death</th>\n",
       "      <th>Asphyxia</th>\n",
       "      <th>prematurity</th>\n",
       "      <th>neontal jaundice</th>\n",
       "      <th>Pneumonia</th>\n",
       "      <th>neonatal sepsis</th>\n",
       "      <th>neonatal tetanus</th>\n",
       "      <th>congenital malformation</th>\n",
       "      <th>Others</th>\n",
       "    </tr>\n",
       "  </thead>\n",
       "  <tbody>\n",
       "    <tr>\n",
       "      <th>2754</th>\n",
       "      <td>11oct2019</td>\n",
       "      <td>1.0</td>\n",
       "      <td>0.0</td>\n",
       "      <td>0.0</td>\n",
       "      <td>0.0</td>\n",
       "      <td>0.0</td>\n",
       "      <td>0.0</td>\n",
       "      <td>0.0</td>\n",
       "      <td>1.0</td>\n",
       "    </tr>\n",
       "    <tr>\n",
       "      <th>3979</th>\n",
       "      <td>08oct2019</td>\n",
       "      <td>0.0</td>\n",
       "      <td>0.0</td>\n",
       "      <td>0.0</td>\n",
       "      <td>0.0</td>\n",
       "      <td>0.0</td>\n",
       "      <td>0.0</td>\n",
       "      <td>0.0</td>\n",
       "      <td>1.0</td>\n",
       "    </tr>\n",
       "  </tbody>\n",
       "</table>\n",
       "</div>"
      ],
      "text/plain": [
       "          Death  Asphyxia  prematurity  neontal jaundice  Pneumonia   \n",
       "2754  11oct2019       1.0          0.0               0.0        0.0  \\\n",
       "3979  08oct2019       0.0          0.0               0.0        0.0   \n",
       "\n",
       "      neonatal sepsis  neonatal tetanus  congenital malformation  Others  \n",
       "2754              0.0               0.0                      0.0     1.0  \n",
       "3979              0.0               0.0                      0.0     1.0  "
      ]
     },
     "execution_count": 135,
     "metadata": {},
     "output_type": "execute_result"
    }
   ],
   "source": [
    "nf3_1"
   ]
  },
  {
   "cell_type": "code",
   "execution_count": null,
   "id": "58cc780f",
   "metadata": {},
   "outputs": [],
   "source": []
  },
  {
   "cell_type": "code",
   "execution_count": null,
   "id": "73d70368",
   "metadata": {},
   "outputs": [],
   "source": []
  },
  {
   "cell_type": "code",
   "execution_count": 136,
   "id": "ebe13181",
   "metadata": {},
   "outputs": [],
   "source": [
    "nf5_1=nf5_1.rename(columns={'cddeath_nf5_1':'Death',\n",
    "                                    'codbirthasphyx_nf5_1':'Asphyxia',\n",
    "                                   'codpremature_nf5_1':'prematurity',\n",
    "                                  'codjdice_nf5_1':'neontal jaundice', \n",
    "                                   'codpna_nf5_1':'Pneumonia',\n",
    "                                   'codsepsis_nf5_1':'neonatal sepsis',\n",
    "                                   'codtetanus_nf5_1':'neonatal tetanus',\n",
    "                                   'codcongenmal_nf5_1':'congenital malformation',\n",
    "                                   'codo_nf5_1':'Others',\n",
    "                                   'coduk_nf5_1':'Unknown'})"
   ]
  },
  {
   "cell_type": "code",
   "execution_count": 72,
   "id": "be13d314",
   "metadata": {},
   "outputs": [
    {
     "data": {
      "text/plain": [
       "12"
      ]
     },
     "execution_count": 72,
     "metadata": {},
     "output_type": "execute_result"
    }
   ],
   "source": [
    "#Total Number of death from nf5_1 forms \n",
    "4634-data['cddeath_nf5_1'].isnull().sum()"
   ]
  },
  {
   "cell_type": "code",
   "execution_count": 120,
   "id": "6475e182",
   "metadata": {
    "scrolled": false
   },
   "outputs": [
    {
     "data": {
      "text/html": [
       "<div>\n",
       "<style scoped>\n",
       "    .dataframe tbody tr th:only-of-type {\n",
       "        vertical-align: middle;\n",
       "    }\n",
       "\n",
       "    .dataframe tbody tr th {\n",
       "        vertical-align: top;\n",
       "    }\n",
       "\n",
       "    .dataframe thead th {\n",
       "        text-align: right;\n",
       "    }\n",
       "</style>\n",
       "<table border=\"1\" class=\"dataframe\">\n",
       "  <thead>\n",
       "    <tr style=\"text-align: right;\">\n",
       "      <th></th>\n",
       "      <th>cddeath_nf5_1</th>\n",
       "      <th>codbirthasphyx_nf5_1</th>\n",
       "      <th>codpremature_nf5_1</th>\n",
       "      <th>codjdice_nf5_1</th>\n",
       "      <th>codpna_nf5_1</th>\n",
       "      <th>codsepsis_nf5_1</th>\n",
       "      <th>codtetanus_nf5_1</th>\n",
       "      <th>codcongenmal_nf5_1</th>\n",
       "      <th>codo_nf5_1</th>\n",
       "      <th>coduk_nf5_1</th>\n",
       "    </tr>\n",
       "  </thead>\n",
       "  <tbody>\n",
       "    <tr>\n",
       "      <th>75</th>\n",
       "      <td>30mar2019</td>\n",
       "      <td>0.0</td>\n",
       "      <td>1.0</td>\n",
       "      <td>1.0</td>\n",
       "      <td>0.0</td>\n",
       "      <td>1.0</td>\n",
       "      <td>0.0</td>\n",
       "      <td>0.0</td>\n",
       "      <td>1.0</td>\n",
       "      <td>0.0</td>\n",
       "    </tr>\n",
       "    <tr>\n",
       "      <th>88</th>\n",
       "      <td>20jan2020</td>\n",
       "      <td>1.0</td>\n",
       "      <td>0.0</td>\n",
       "      <td>0.0</td>\n",
       "      <td>0.0</td>\n",
       "      <td>1.0</td>\n",
       "      <td>0.0</td>\n",
       "      <td>0.0</td>\n",
       "      <td>0.0</td>\n",
       "      <td>0.0</td>\n",
       "    </tr>\n",
       "    <tr>\n",
       "      <th>149</th>\n",
       "      <td>16oct2019</td>\n",
       "      <td>1.0</td>\n",
       "      <td>0.0</td>\n",
       "      <td>0.0</td>\n",
       "      <td>0.0</td>\n",
       "      <td>0.0</td>\n",
       "      <td>0.0</td>\n",
       "      <td>0.0</td>\n",
       "      <td>1.0</td>\n",
       "      <td>0.0</td>\n",
       "    </tr>\n",
       "    <tr>\n",
       "      <th>1188</th>\n",
       "      <td>14feb2019</td>\n",
       "      <td>0.0</td>\n",
       "      <td>0.0</td>\n",
       "      <td>0.0</td>\n",
       "      <td>0.0</td>\n",
       "      <td>0.0</td>\n",
       "      <td>0.0</td>\n",
       "      <td>0.0</td>\n",
       "      <td>1.0</td>\n",
       "      <td>0.0</td>\n",
       "    </tr>\n",
       "    <tr>\n",
       "      <th>1810</th>\n",
       "      <td>03nov2019</td>\n",
       "      <td>0.0</td>\n",
       "      <td>0.0</td>\n",
       "      <td>0.0</td>\n",
       "      <td>0.0</td>\n",
       "      <td>0.0</td>\n",
       "      <td>0.0</td>\n",
       "      <td>1.0</td>\n",
       "      <td>1.0</td>\n",
       "      <td>0.0</td>\n",
       "    </tr>\n",
       "    <tr>\n",
       "      <th>2881</th>\n",
       "      <td>19may2019</td>\n",
       "      <td>0.0</td>\n",
       "      <td>1.0</td>\n",
       "      <td>0.0</td>\n",
       "      <td>0.0</td>\n",
       "      <td>0.0</td>\n",
       "      <td>0.0</td>\n",
       "      <td>0.0</td>\n",
       "      <td>1.0</td>\n",
       "      <td>0.0</td>\n",
       "    </tr>\n",
       "    <tr>\n",
       "      <th>3135</th>\n",
       "      <td>01dec2019</td>\n",
       "      <td>0.0</td>\n",
       "      <td>1.0</td>\n",
       "      <td>0.0</td>\n",
       "      <td>0.0</td>\n",
       "      <td>0.0</td>\n",
       "      <td>0.0</td>\n",
       "      <td>0.0</td>\n",
       "      <td>0.0</td>\n",
       "      <td>0.0</td>\n",
       "    </tr>\n",
       "    <tr>\n",
       "      <th>3341</th>\n",
       "      <td>24dec2019</td>\n",
       "      <td>0.0</td>\n",
       "      <td>1.0</td>\n",
       "      <td>0.0</td>\n",
       "      <td>0.0</td>\n",
       "      <td>0.0</td>\n",
       "      <td>0.0</td>\n",
       "      <td>0.0</td>\n",
       "      <td>0.0</td>\n",
       "      <td>0.0</td>\n",
       "    </tr>\n",
       "    <tr>\n",
       "      <th>3590</th>\n",
       "      <td>06dec2019</td>\n",
       "      <td>0.0</td>\n",
       "      <td>1.0</td>\n",
       "      <td>0.0</td>\n",
       "      <td>0.0</td>\n",
       "      <td>1.0</td>\n",
       "      <td>0.0</td>\n",
       "      <td>0.0</td>\n",
       "      <td>0.0</td>\n",
       "      <td>0.0</td>\n",
       "    </tr>\n",
       "    <tr>\n",
       "      <th>3632</th>\n",
       "      <td>15apr2019</td>\n",
       "      <td>0.0</td>\n",
       "      <td>1.0</td>\n",
       "      <td>0.0</td>\n",
       "      <td>0.0</td>\n",
       "      <td>1.0</td>\n",
       "      <td>0.0</td>\n",
       "      <td>0.0</td>\n",
       "      <td>0.0</td>\n",
       "      <td>0.0</td>\n",
       "    </tr>\n",
       "    <tr>\n",
       "      <th>4005</th>\n",
       "      <td>13mar2020</td>\n",
       "      <td>0.0</td>\n",
       "      <td>0.0</td>\n",
       "      <td>0.0</td>\n",
       "      <td>0.0</td>\n",
       "      <td>1.0</td>\n",
       "      <td>0.0</td>\n",
       "      <td>0.0</td>\n",
       "      <td>1.0</td>\n",
       "      <td>0.0</td>\n",
       "    </tr>\n",
       "    <tr>\n",
       "      <th>4159</th>\n",
       "      <td>06may2019</td>\n",
       "      <td>0.0</td>\n",
       "      <td>1.0</td>\n",
       "      <td>0.0</td>\n",
       "      <td>0.0</td>\n",
       "      <td>0.0</td>\n",
       "      <td>0.0</td>\n",
       "      <td>0.0</td>\n",
       "      <td>1.0</td>\n",
       "      <td>0.0</td>\n",
       "    </tr>\n",
       "  </tbody>\n",
       "</table>\n",
       "</div>"
      ],
      "text/plain": [
       "     cddeath_nf5_1  codbirthasphyx_nf5_1  codpremature_nf5_1  codjdice_nf5_1   \n",
       "75       30mar2019                   0.0                 1.0             1.0  \\\n",
       "88       20jan2020                   1.0                 0.0             0.0   \n",
       "149      16oct2019                   1.0                 0.0             0.0   \n",
       "1188     14feb2019                   0.0                 0.0             0.0   \n",
       "1810     03nov2019                   0.0                 0.0             0.0   \n",
       "2881     19may2019                   0.0                 1.0             0.0   \n",
       "3135     01dec2019                   0.0                 1.0             0.0   \n",
       "3341     24dec2019                   0.0                 1.0             0.0   \n",
       "3590     06dec2019                   0.0                 1.0             0.0   \n",
       "3632     15apr2019                   0.0                 1.0             0.0   \n",
       "4005     13mar2020                   0.0                 0.0             0.0   \n",
       "4159     06may2019                   0.0                 1.0             0.0   \n",
       "\n",
       "      codpna_nf5_1  codsepsis_nf5_1  codtetanus_nf5_1  codcongenmal_nf5_1   \n",
       "75             0.0              1.0               0.0                 0.0  \\\n",
       "88             0.0              1.0               0.0                 0.0   \n",
       "149            0.0              0.0               0.0                 0.0   \n",
       "1188           0.0              0.0               0.0                 0.0   \n",
       "1810           0.0              0.0               0.0                 1.0   \n",
       "2881           0.0              0.0               0.0                 0.0   \n",
       "3135           0.0              0.0               0.0                 0.0   \n",
       "3341           0.0              0.0               0.0                 0.0   \n",
       "3590           0.0              1.0               0.0                 0.0   \n",
       "3632           0.0              1.0               0.0                 0.0   \n",
       "4005           0.0              1.0               0.0                 0.0   \n",
       "4159           0.0              0.0               0.0                 0.0   \n",
       "\n",
       "      codo_nf5_1  coduk_nf5_1  \n",
       "75           1.0          0.0  \n",
       "88           0.0          0.0  \n",
       "149          1.0          0.0  \n",
       "1188         1.0          0.0  \n",
       "1810         1.0          0.0  \n",
       "2881         1.0          0.0  \n",
       "3135         0.0          0.0  \n",
       "3341         0.0          0.0  \n",
       "3590         0.0          0.0  \n",
       "3632         0.0          0.0  \n",
       "4005         1.0          0.0  \n",
       "4159         1.0          0.0  "
      ]
     },
     "execution_count": 120,
     "metadata": {},
     "output_type": "execute_result"
    }
   ],
   "source": [
    "nf5_1=data[['cddeath_nf5_1','codbirthasphyx_nf5_1','codpremature_nf5_1','codjdice_nf5_1','codpna_nf5_1','codsepsis_nf5_1','codtetanus_nf5_1','codcongenmal_nf5_1','codo_nf5_1','coduk_nf5_1']]\n",
    "nf5_1= nf5_1[nf5_1.notnull().all(axis=1)]\n",
    "nf5_1"
   ]
  },
  {
   "cell_type": "code",
   "execution_count": 139,
   "id": "e733d280",
   "metadata": {},
   "outputs": [
    {
     "data": {
      "text/html": [
       "<div>\n",
       "<style scoped>\n",
       "    .dataframe tbody tr th:only-of-type {\n",
       "        vertical-align: middle;\n",
       "    }\n",
       "\n",
       "    .dataframe tbody tr th {\n",
       "        vertical-align: top;\n",
       "    }\n",
       "\n",
       "    .dataframe thead th {\n",
       "        text-align: right;\n",
       "    }\n",
       "</style>\n",
       "<table border=\"1\" class=\"dataframe\">\n",
       "  <thead>\n",
       "    <tr style=\"text-align: right;\">\n",
       "      <th></th>\n",
       "      <th>Death</th>\n",
       "      <th>Asphyxia</th>\n",
       "      <th>prematurity</th>\n",
       "      <th>neontal jaundice</th>\n",
       "      <th>Pneumonia</th>\n",
       "      <th>neonatal sepsis</th>\n",
       "      <th>neonatal tetanus</th>\n",
       "      <th>congenital malformation</th>\n",
       "      <th>Others</th>\n",
       "      <th>Unknown</th>\n",
       "    </tr>\n",
       "  </thead>\n",
       "  <tbody>\n",
       "    <tr>\n",
       "      <th>75</th>\n",
       "      <td>30mar2019</td>\n",
       "      <td>0.0</td>\n",
       "      <td>1.0</td>\n",
       "      <td>1.0</td>\n",
       "      <td>0.0</td>\n",
       "      <td>1.0</td>\n",
       "      <td>0.0</td>\n",
       "      <td>0.0</td>\n",
       "      <td>1.0</td>\n",
       "      <td>0.0</td>\n",
       "    </tr>\n",
       "    <tr>\n",
       "      <th>88</th>\n",
       "      <td>20jan2020</td>\n",
       "      <td>1.0</td>\n",
       "      <td>0.0</td>\n",
       "      <td>0.0</td>\n",
       "      <td>0.0</td>\n",
       "      <td>1.0</td>\n",
       "      <td>0.0</td>\n",
       "      <td>0.0</td>\n",
       "      <td>0.0</td>\n",
       "      <td>0.0</td>\n",
       "    </tr>\n",
       "    <tr>\n",
       "      <th>149</th>\n",
       "      <td>16oct2019</td>\n",
       "      <td>1.0</td>\n",
       "      <td>0.0</td>\n",
       "      <td>0.0</td>\n",
       "      <td>0.0</td>\n",
       "      <td>0.0</td>\n",
       "      <td>0.0</td>\n",
       "      <td>0.0</td>\n",
       "      <td>1.0</td>\n",
       "      <td>0.0</td>\n",
       "    </tr>\n",
       "    <tr>\n",
       "      <th>1188</th>\n",
       "      <td>14feb2019</td>\n",
       "      <td>0.0</td>\n",
       "      <td>0.0</td>\n",
       "      <td>0.0</td>\n",
       "      <td>0.0</td>\n",
       "      <td>0.0</td>\n",
       "      <td>0.0</td>\n",
       "      <td>0.0</td>\n",
       "      <td>1.0</td>\n",
       "      <td>0.0</td>\n",
       "    </tr>\n",
       "    <tr>\n",
       "      <th>1810</th>\n",
       "      <td>03nov2019</td>\n",
       "      <td>0.0</td>\n",
       "      <td>0.0</td>\n",
       "      <td>0.0</td>\n",
       "      <td>0.0</td>\n",
       "      <td>0.0</td>\n",
       "      <td>0.0</td>\n",
       "      <td>1.0</td>\n",
       "      <td>1.0</td>\n",
       "      <td>0.0</td>\n",
       "    </tr>\n",
       "    <tr>\n",
       "      <th>2881</th>\n",
       "      <td>19may2019</td>\n",
       "      <td>0.0</td>\n",
       "      <td>1.0</td>\n",
       "      <td>0.0</td>\n",
       "      <td>0.0</td>\n",
       "      <td>0.0</td>\n",
       "      <td>0.0</td>\n",
       "      <td>0.0</td>\n",
       "      <td>1.0</td>\n",
       "      <td>0.0</td>\n",
       "    </tr>\n",
       "    <tr>\n",
       "      <th>3135</th>\n",
       "      <td>01dec2019</td>\n",
       "      <td>0.0</td>\n",
       "      <td>1.0</td>\n",
       "      <td>0.0</td>\n",
       "      <td>0.0</td>\n",
       "      <td>0.0</td>\n",
       "      <td>0.0</td>\n",
       "      <td>0.0</td>\n",
       "      <td>0.0</td>\n",
       "      <td>0.0</td>\n",
       "    </tr>\n",
       "    <tr>\n",
       "      <th>3341</th>\n",
       "      <td>24dec2019</td>\n",
       "      <td>0.0</td>\n",
       "      <td>1.0</td>\n",
       "      <td>0.0</td>\n",
       "      <td>0.0</td>\n",
       "      <td>0.0</td>\n",
       "      <td>0.0</td>\n",
       "      <td>0.0</td>\n",
       "      <td>0.0</td>\n",
       "      <td>0.0</td>\n",
       "    </tr>\n",
       "    <tr>\n",
       "      <th>3590</th>\n",
       "      <td>06dec2019</td>\n",
       "      <td>0.0</td>\n",
       "      <td>1.0</td>\n",
       "      <td>0.0</td>\n",
       "      <td>0.0</td>\n",
       "      <td>1.0</td>\n",
       "      <td>0.0</td>\n",
       "      <td>0.0</td>\n",
       "      <td>0.0</td>\n",
       "      <td>0.0</td>\n",
       "    </tr>\n",
       "    <tr>\n",
       "      <th>3632</th>\n",
       "      <td>15apr2019</td>\n",
       "      <td>0.0</td>\n",
       "      <td>1.0</td>\n",
       "      <td>0.0</td>\n",
       "      <td>0.0</td>\n",
       "      <td>1.0</td>\n",
       "      <td>0.0</td>\n",
       "      <td>0.0</td>\n",
       "      <td>0.0</td>\n",
       "      <td>0.0</td>\n",
       "    </tr>\n",
       "    <tr>\n",
       "      <th>4005</th>\n",
       "      <td>13mar2020</td>\n",
       "      <td>0.0</td>\n",
       "      <td>0.0</td>\n",
       "      <td>0.0</td>\n",
       "      <td>0.0</td>\n",
       "      <td>1.0</td>\n",
       "      <td>0.0</td>\n",
       "      <td>0.0</td>\n",
       "      <td>1.0</td>\n",
       "      <td>0.0</td>\n",
       "    </tr>\n",
       "    <tr>\n",
       "      <th>4159</th>\n",
       "      <td>06may2019</td>\n",
       "      <td>0.0</td>\n",
       "      <td>1.0</td>\n",
       "      <td>0.0</td>\n",
       "      <td>0.0</td>\n",
       "      <td>0.0</td>\n",
       "      <td>0.0</td>\n",
       "      <td>0.0</td>\n",
       "      <td>1.0</td>\n",
       "      <td>0.0</td>\n",
       "    </tr>\n",
       "  </tbody>\n",
       "</table>\n",
       "</div>"
      ],
      "text/plain": [
       "          Death  Asphyxia  prematurity  neontal jaundice  Pneumonia   \n",
       "75    30mar2019       0.0          1.0               1.0        0.0  \\\n",
       "88    20jan2020       1.0          0.0               0.0        0.0   \n",
       "149   16oct2019       1.0          0.0               0.0        0.0   \n",
       "1188  14feb2019       0.0          0.0               0.0        0.0   \n",
       "1810  03nov2019       0.0          0.0               0.0        0.0   \n",
       "2881  19may2019       0.0          1.0               0.0        0.0   \n",
       "3135  01dec2019       0.0          1.0               0.0        0.0   \n",
       "3341  24dec2019       0.0          1.0               0.0        0.0   \n",
       "3590  06dec2019       0.0          1.0               0.0        0.0   \n",
       "3632  15apr2019       0.0          1.0               0.0        0.0   \n",
       "4005  13mar2020       0.0          0.0               0.0        0.0   \n",
       "4159  06may2019       0.0          1.0               0.0        0.0   \n",
       "\n",
       "      neonatal sepsis  neonatal tetanus  congenital malformation  Others   \n",
       "75                1.0               0.0                      0.0     1.0  \\\n",
       "88                1.0               0.0                      0.0     0.0   \n",
       "149               0.0               0.0                      0.0     1.0   \n",
       "1188              0.0               0.0                      0.0     1.0   \n",
       "1810              0.0               0.0                      1.0     1.0   \n",
       "2881              0.0               0.0                      0.0     1.0   \n",
       "3135              0.0               0.0                      0.0     0.0   \n",
       "3341              0.0               0.0                      0.0     0.0   \n",
       "3590              1.0               0.0                      0.0     0.0   \n",
       "3632              1.0               0.0                      0.0     0.0   \n",
       "4005              1.0               0.0                      0.0     1.0   \n",
       "4159              0.0               0.0                      0.0     1.0   \n",
       "\n",
       "      Unknown  \n",
       "75        0.0  \n",
       "88        0.0  \n",
       "149       0.0  \n",
       "1188      0.0  \n",
       "1810      0.0  \n",
       "2881      0.0  \n",
       "3135      0.0  \n",
       "3341      0.0  \n",
       "3590      0.0  \n",
       "3632      0.0  \n",
       "4005      0.0  \n",
       "4159      0.0  "
      ]
     },
     "execution_count": 139,
     "metadata": {},
     "output_type": "execute_result"
    }
   ],
   "source": [
    "nf5_1"
   ]
  },
  {
   "cell_type": "code",
   "execution_count": null,
   "id": "cc5eb1ed",
   "metadata": {},
   "outputs": [],
   "source": []
  },
  {
   "cell_type": "code",
   "execution_count": null,
   "id": "33b3937f",
   "metadata": {},
   "outputs": [],
   "source": []
  },
  {
   "cell_type": "code",
   "execution_count": 140,
   "id": "ef562ab0",
   "metadata": {},
   "outputs": [],
   "source": [
    "nf5_2=nf5_2.rename(columns={'cddeath_nf5_2':'Death',\n",
    "                                    'codbirthasphyx_nf5_2':'Asphyxia',\n",
    "                                   'codpremature_nf5_2':'prematurity',\n",
    "                                  'codjdice_nf5_2':'neontal jaundice', \n",
    "                                   'codpna_nf5_2':'Pneumonia',\n",
    "                                   'codsepsis_nf5_2':'neonatal sepsis',\n",
    "                                   'codtetanus_nf5_2':'neonatal tetanus',\n",
    "                                   'codcongenmal_nf5_2':'congenital malformation',\n",
    "                                   'codo_nf5_2':'Others',\n",
    "                                   'coduk_nf5_2':'Unknown'})"
   ]
  },
  {
   "cell_type": "code",
   "execution_count": 73,
   "id": "b1f6e71f",
   "metadata": {},
   "outputs": [
    {
     "data": {
      "text/plain": [
       "3"
      ]
     },
     "execution_count": 73,
     "metadata": {},
     "output_type": "execute_result"
    }
   ],
   "source": [
    "#Total Number of death from nf5_2 forms \n",
    "4634-data['cddeath_nf5_2'].isnull().sum()"
   ]
  },
  {
   "cell_type": "code",
   "execution_count": 114,
   "id": "0aa6b15e",
   "metadata": {},
   "outputs": [
    {
     "data": {
      "text/html": [
       "<div>\n",
       "<style scoped>\n",
       "    .dataframe tbody tr th:only-of-type {\n",
       "        vertical-align: middle;\n",
       "    }\n",
       "\n",
       "    .dataframe tbody tr th {\n",
       "        vertical-align: top;\n",
       "    }\n",
       "\n",
       "    .dataframe thead th {\n",
       "        text-align: right;\n",
       "    }\n",
       "</style>\n",
       "<table border=\"1\" class=\"dataframe\">\n",
       "  <thead>\n",
       "    <tr style=\"text-align: right;\">\n",
       "      <th></th>\n",
       "      <th>cddeath_nf5_2</th>\n",
       "      <th>codbirthasphyx_nf5_2</th>\n",
       "      <th>codpremature_nf5_2</th>\n",
       "      <th>codjdice_nf5_2</th>\n",
       "      <th>codpna_nf5_2</th>\n",
       "      <th>codsepsis_nf5_2</th>\n",
       "      <th>codtetanus_nf5_2</th>\n",
       "      <th>codcongenmal_nf5_2</th>\n",
       "      <th>codo_nf5_2</th>\n",
       "      <th>coduk_nf5_2</th>\n",
       "    </tr>\n",
       "  </thead>\n",
       "  <tbody>\n",
       "    <tr>\n",
       "      <th>403</th>\n",
       "      <td>20jun2019</td>\n",
       "      <td>1.0</td>\n",
       "      <td>0.0</td>\n",
       "      <td>0.0</td>\n",
       "      <td>0.0</td>\n",
       "      <td>1.0</td>\n",
       "      <td>0.0</td>\n",
       "      <td>0.0</td>\n",
       "      <td>0.0</td>\n",
       "      <td>0.0</td>\n",
       "    </tr>\n",
       "    <tr>\n",
       "      <th>473</th>\n",
       "      <td>26jan2020</td>\n",
       "      <td>0.0</td>\n",
       "      <td>0.0</td>\n",
       "      <td>1.0</td>\n",
       "      <td>1.0</td>\n",
       "      <td>1.0</td>\n",
       "      <td>0.0</td>\n",
       "      <td>0.0</td>\n",
       "      <td>1.0</td>\n",
       "      <td>0.0</td>\n",
       "    </tr>\n",
       "    <tr>\n",
       "      <th>2264</th>\n",
       "      <td>29jul2019</td>\n",
       "      <td>1.0</td>\n",
       "      <td>0.0</td>\n",
       "      <td>0.0</td>\n",
       "      <td>0.0</td>\n",
       "      <td>1.0</td>\n",
       "      <td>0.0</td>\n",
       "      <td>0.0</td>\n",
       "      <td>0.0</td>\n",
       "      <td>0.0</td>\n",
       "    </tr>\n",
       "  </tbody>\n",
       "</table>\n",
       "</div>"
      ],
      "text/plain": [
       "     cddeath_nf5_2  codbirthasphyx_nf5_2  codpremature_nf5_2  codjdice_nf5_2   \n",
       "403      20jun2019                   1.0                 0.0             0.0  \\\n",
       "473      26jan2020                   0.0                 0.0             1.0   \n",
       "2264     29jul2019                   1.0                 0.0             0.0   \n",
       "\n",
       "      codpna_nf5_2  codsepsis_nf5_2  codtetanus_nf5_2  codcongenmal_nf5_2   \n",
       "403            0.0              1.0               0.0                 0.0  \\\n",
       "473            1.0              1.0               0.0                 0.0   \n",
       "2264           0.0              1.0               0.0                 0.0   \n",
       "\n",
       "      codo_nf5_2  coduk_nf5_2  \n",
       "403          0.0          0.0  \n",
       "473          1.0          0.0  \n",
       "2264         0.0          0.0  "
      ]
     },
     "execution_count": 114,
     "metadata": {},
     "output_type": "execute_result"
    }
   ],
   "source": [
    "nf5_2=data[['cddeath_nf5_2','codbirthasphyx_nf5_2','codpremature_nf5_2','codjdice_nf5_2','codpna_nf5_2','codsepsis_nf5_2','codtetanus_nf5_2','codcongenmal_nf5_2','codo_nf5_2','coduk_nf5_2']]\n",
    "nf5_2 = nf5_2[nf5_2.notnull().all(axis=1)]\n",
    "nf5_2"
   ]
  },
  {
   "cell_type": "code",
   "execution_count": 141,
   "id": "6ab9966d",
   "metadata": {},
   "outputs": [
    {
     "data": {
      "text/html": [
       "<div>\n",
       "<style scoped>\n",
       "    .dataframe tbody tr th:only-of-type {\n",
       "        vertical-align: middle;\n",
       "    }\n",
       "\n",
       "    .dataframe tbody tr th {\n",
       "        vertical-align: top;\n",
       "    }\n",
       "\n",
       "    .dataframe thead th {\n",
       "        text-align: right;\n",
       "    }\n",
       "</style>\n",
       "<table border=\"1\" class=\"dataframe\">\n",
       "  <thead>\n",
       "    <tr style=\"text-align: right;\">\n",
       "      <th></th>\n",
       "      <th>Death</th>\n",
       "      <th>Asphyxia</th>\n",
       "      <th>prematurity</th>\n",
       "      <th>neontal jaundice</th>\n",
       "      <th>Pneumonia</th>\n",
       "      <th>neonatal sepsis</th>\n",
       "      <th>neonatal tetanus</th>\n",
       "      <th>congenital malformation</th>\n",
       "      <th>Others</th>\n",
       "      <th>Unknown</th>\n",
       "    </tr>\n",
       "  </thead>\n",
       "  <tbody>\n",
       "    <tr>\n",
       "      <th>403</th>\n",
       "      <td>20jun2019</td>\n",
       "      <td>1.0</td>\n",
       "      <td>0.0</td>\n",
       "      <td>0.0</td>\n",
       "      <td>0.0</td>\n",
       "      <td>1.0</td>\n",
       "      <td>0.0</td>\n",
       "      <td>0.0</td>\n",
       "      <td>0.0</td>\n",
       "      <td>0.0</td>\n",
       "    </tr>\n",
       "    <tr>\n",
       "      <th>473</th>\n",
       "      <td>26jan2020</td>\n",
       "      <td>0.0</td>\n",
       "      <td>0.0</td>\n",
       "      <td>1.0</td>\n",
       "      <td>1.0</td>\n",
       "      <td>1.0</td>\n",
       "      <td>0.0</td>\n",
       "      <td>0.0</td>\n",
       "      <td>1.0</td>\n",
       "      <td>0.0</td>\n",
       "    </tr>\n",
       "    <tr>\n",
       "      <th>2264</th>\n",
       "      <td>29jul2019</td>\n",
       "      <td>1.0</td>\n",
       "      <td>0.0</td>\n",
       "      <td>0.0</td>\n",
       "      <td>0.0</td>\n",
       "      <td>1.0</td>\n",
       "      <td>0.0</td>\n",
       "      <td>0.0</td>\n",
       "      <td>0.0</td>\n",
       "      <td>0.0</td>\n",
       "    </tr>\n",
       "  </tbody>\n",
       "</table>\n",
       "</div>"
      ],
      "text/plain": [
       "          Death  Asphyxia  prematurity  neontal jaundice  Pneumonia   \n",
       "403   20jun2019       1.0          0.0               0.0        0.0  \\\n",
       "473   26jan2020       0.0          0.0               1.0        1.0   \n",
       "2264  29jul2019       1.0          0.0               0.0        0.0   \n",
       "\n",
       "      neonatal sepsis  neonatal tetanus  congenital malformation  Others   \n",
       "403               1.0               0.0                      0.0     0.0  \\\n",
       "473               1.0               0.0                      0.0     1.0   \n",
       "2264              1.0               0.0                      0.0     0.0   \n",
       "\n",
       "      Unknown  \n",
       "403       0.0  \n",
       "473       0.0  \n",
       "2264      0.0  "
      ]
     },
     "execution_count": 141,
     "metadata": {},
     "output_type": "execute_result"
    }
   ],
   "source": [
    "nf5_2"
   ]
  },
  {
   "cell_type": "code",
   "execution_count": null,
   "id": "caca97f9",
   "metadata": {},
   "outputs": [],
   "source": []
  },
  {
   "cell_type": "code",
   "execution_count": null,
   "id": "523505cb",
   "metadata": {},
   "outputs": [],
   "source": []
  },
  {
   "cell_type": "code",
   "execution_count": 142,
   "id": "d0719d4d",
   "metadata": {},
   "outputs": [],
   "source": [
    "cc1_1=cc1_1.rename(columns={'cddeath_cc1_1':'Death',\n",
    "                                    'codbirthasphyx_cc1_1':'Asphyxia',\n",
    "                                   'codpremature_cc1_1':'prematurity',\n",
    "                                  'codjdice_cc1_1':'neontal jaundice', \n",
    "                                   'codpna_cc1_1':'Pneumonia',\n",
    "                                   'codsepsis_cc1_1':'neonatal sepsis',\n",
    "                                   'codtetanus_cc1_1':'neonatal tetanus',\n",
    "                                   'codcongenmal_cc1_1':'congenital malformation',\n",
    "                                   'codo_cc1_1':'Others',\n",
    "                                   'coduk_cc1_1':'Unknown'})"
   ]
  },
  {
   "cell_type": "code",
   "execution_count": 76,
   "id": "38c2d963",
   "metadata": {
    "scrolled": true
   },
   "outputs": [
    {
     "data": {
      "text/plain": [
       "13"
      ]
     },
     "execution_count": 76,
     "metadata": {},
     "output_type": "execute_result"
    }
   ],
   "source": [
    "#Total Number of death from cc1_1 forms \n",
    "4634-data['cddeath_cc1_1'].isnull().sum()"
   ]
  },
  {
   "cell_type": "code",
   "execution_count": 111,
   "id": "4ba43fa4",
   "metadata": {},
   "outputs": [
    {
     "data": {
      "text/html": [
       "<div>\n",
       "<style scoped>\n",
       "    .dataframe tbody tr th:only-of-type {\n",
       "        vertical-align: middle;\n",
       "    }\n",
       "\n",
       "    .dataframe tbody tr th {\n",
       "        vertical-align: top;\n",
       "    }\n",
       "\n",
       "    .dataframe thead th {\n",
       "        text-align: right;\n",
       "    }\n",
       "</style>\n",
       "<table border=\"1\" class=\"dataframe\">\n",
       "  <thead>\n",
       "    <tr style=\"text-align: right;\">\n",
       "      <th></th>\n",
       "      <th>cddeath_cc1_1</th>\n",
       "      <th>codbirthasphyx_cc1_1</th>\n",
       "      <th>codpremature_cc1_1</th>\n",
       "      <th>codjdice_cc1_1</th>\n",
       "      <th>codpna_cc1_1</th>\n",
       "      <th>codsepsis_cc1_1</th>\n",
       "      <th>codtetanus_cc1_1</th>\n",
       "      <th>codcongenmal_cc1_1</th>\n",
       "      <th>codo_cc1_1</th>\n",
       "      <th>coduk_cc1_1</th>\n",
       "    </tr>\n",
       "  </thead>\n",
       "  <tbody>\n",
       "    <tr>\n",
       "      <th>514</th>\n",
       "      <td>24mar2020</td>\n",
       "      <td>0.0</td>\n",
       "      <td>0.0</td>\n",
       "      <td>0.0</td>\n",
       "      <td>0.0</td>\n",
       "      <td>0.0</td>\n",
       "      <td>0.0</td>\n",
       "      <td>0.0</td>\n",
       "      <td>1.0</td>\n",
       "      <td>1.0</td>\n",
       "    </tr>\n",
       "    <tr>\n",
       "      <th>962</th>\n",
       "      <td>14dec2020</td>\n",
       "      <td>0.0</td>\n",
       "      <td>0.0</td>\n",
       "      <td>0.0</td>\n",
       "      <td>0.0</td>\n",
       "      <td>0.0</td>\n",
       "      <td>0.0</td>\n",
       "      <td>0.0</td>\n",
       "      <td>1.0</td>\n",
       "      <td>0.0</td>\n",
       "    </tr>\n",
       "    <tr>\n",
       "      <th>1695</th>\n",
       "      <td>06sep2019</td>\n",
       "      <td>0.0</td>\n",
       "      <td>0.0</td>\n",
       "      <td>0.0</td>\n",
       "      <td>0.0</td>\n",
       "      <td>0.0</td>\n",
       "      <td>0.0</td>\n",
       "      <td>0.0</td>\n",
       "      <td>1.0</td>\n",
       "      <td>0.0</td>\n",
       "    </tr>\n",
       "    <tr>\n",
       "      <th>2024</th>\n",
       "      <td>09oct2019</td>\n",
       "      <td>0.0</td>\n",
       "      <td>0.0</td>\n",
       "      <td>0.0</td>\n",
       "      <td>1.0</td>\n",
       "      <td>0.0</td>\n",
       "      <td>0.0</td>\n",
       "      <td>0.0</td>\n",
       "      <td>0.0</td>\n",
       "      <td>0.0</td>\n",
       "    </tr>\n",
       "    <tr>\n",
       "      <th>2039</th>\n",
       "      <td>29dec2019</td>\n",
       "      <td>0.0</td>\n",
       "      <td>0.0</td>\n",
       "      <td>0.0</td>\n",
       "      <td>1.0</td>\n",
       "      <td>0.0</td>\n",
       "      <td>0.0</td>\n",
       "      <td>0.0</td>\n",
       "      <td>1.0</td>\n",
       "      <td>0.0</td>\n",
       "    </tr>\n",
       "    <tr>\n",
       "      <th>3104</th>\n",
       "      <td>20jul2019</td>\n",
       "      <td>0.0</td>\n",
       "      <td>0.0</td>\n",
       "      <td>0.0</td>\n",
       "      <td>0.0</td>\n",
       "      <td>0.0</td>\n",
       "      <td>0.0</td>\n",
       "      <td>0.0</td>\n",
       "      <td>0.0</td>\n",
       "      <td>0.0</td>\n",
       "    </tr>\n",
       "    <tr>\n",
       "      <th>3305</th>\n",
       "      <td>03jul2021</td>\n",
       "      <td>0.0</td>\n",
       "      <td>0.0</td>\n",
       "      <td>0.0</td>\n",
       "      <td>0.0</td>\n",
       "      <td>0.0</td>\n",
       "      <td>0.0</td>\n",
       "      <td>0.0</td>\n",
       "      <td>0.0</td>\n",
       "      <td>1.0</td>\n",
       "    </tr>\n",
       "    <tr>\n",
       "      <th>3417</th>\n",
       "      <td>06aug2019</td>\n",
       "      <td>0.0</td>\n",
       "      <td>0.0</td>\n",
       "      <td>0.0</td>\n",
       "      <td>0.0</td>\n",
       "      <td>0.0</td>\n",
       "      <td>0.0</td>\n",
       "      <td>1.0</td>\n",
       "      <td>0.0</td>\n",
       "      <td>0.0</td>\n",
       "    </tr>\n",
       "    <tr>\n",
       "      <th>3430</th>\n",
       "      <td>27oct2019</td>\n",
       "      <td>0.0</td>\n",
       "      <td>0.0</td>\n",
       "      <td>0.0</td>\n",
       "      <td>0.0</td>\n",
       "      <td>0.0</td>\n",
       "      <td>0.0</td>\n",
       "      <td>0.0</td>\n",
       "      <td>1.0</td>\n",
       "      <td>0.0</td>\n",
       "    </tr>\n",
       "    <tr>\n",
       "      <th>3541</th>\n",
       "      <td>22mar2019</td>\n",
       "      <td>0.0</td>\n",
       "      <td>1.0</td>\n",
       "      <td>0.0</td>\n",
       "      <td>0.0</td>\n",
       "      <td>0.0</td>\n",
       "      <td>0.0</td>\n",
       "      <td>0.0</td>\n",
       "      <td>0.0</td>\n",
       "      <td>1.0</td>\n",
       "    </tr>\n",
       "    <tr>\n",
       "      <th>3756</th>\n",
       "      <td>08jan2019</td>\n",
       "      <td>0.0</td>\n",
       "      <td>0.0</td>\n",
       "      <td>0.0</td>\n",
       "      <td>0.0</td>\n",
       "      <td>0.0</td>\n",
       "      <td>0.0</td>\n",
       "      <td>0.0</td>\n",
       "      <td>1.0</td>\n",
       "      <td>0.0</td>\n",
       "    </tr>\n",
       "  </tbody>\n",
       "</table>\n",
       "</div>"
      ],
      "text/plain": [
       "     cddeath_cc1_1  codbirthasphyx_cc1_1  codpremature_cc1_1  codjdice_cc1_1   \n",
       "514      24mar2020                   0.0                 0.0             0.0  \\\n",
       "962      14dec2020                   0.0                 0.0             0.0   \n",
       "1695     06sep2019                   0.0                 0.0             0.0   \n",
       "2024     09oct2019                   0.0                 0.0             0.0   \n",
       "2039     29dec2019                   0.0                 0.0             0.0   \n",
       "3104     20jul2019                   0.0                 0.0             0.0   \n",
       "3305     03jul2021                   0.0                 0.0             0.0   \n",
       "3417     06aug2019                   0.0                 0.0             0.0   \n",
       "3430     27oct2019                   0.0                 0.0             0.0   \n",
       "3541     22mar2019                   0.0                 1.0             0.0   \n",
       "3756     08jan2019                   0.0                 0.0             0.0   \n",
       "\n",
       "      codpna_cc1_1  codsepsis_cc1_1  codtetanus_cc1_1  codcongenmal_cc1_1   \n",
       "514            0.0              0.0               0.0                 0.0  \\\n",
       "962            0.0              0.0               0.0                 0.0   \n",
       "1695           0.0              0.0               0.0                 0.0   \n",
       "2024           1.0              0.0               0.0                 0.0   \n",
       "2039           1.0              0.0               0.0                 0.0   \n",
       "3104           0.0              0.0               0.0                 0.0   \n",
       "3305           0.0              0.0               0.0                 0.0   \n",
       "3417           0.0              0.0               0.0                 1.0   \n",
       "3430           0.0              0.0               0.0                 0.0   \n",
       "3541           0.0              0.0               0.0                 0.0   \n",
       "3756           0.0              0.0               0.0                 0.0   \n",
       "\n",
       "      codo_cc1_1  coduk_cc1_1  \n",
       "514          1.0          1.0  \n",
       "962          1.0          0.0  \n",
       "1695         1.0          0.0  \n",
       "2024         0.0          0.0  \n",
       "2039         1.0          0.0  \n",
       "3104         0.0          0.0  \n",
       "3305         0.0          1.0  \n",
       "3417         0.0          0.0  \n",
       "3430         1.0          0.0  \n",
       "3541         0.0          1.0  \n",
       "3756         1.0          0.0  "
      ]
     },
     "execution_count": 111,
     "metadata": {},
     "output_type": "execute_result"
    }
   ],
   "source": [
    "cc1_1=data[['cddeath_cc1_1','codbirthasphyx_cc1_1','codpremature_cc1_1','codjdice_cc1_1','codpna_cc1_1','codsepsis_cc1_1','codtetanus_cc1_1','codcongenmal_cc1_1','codo_cc1_1','coduk_cc1_1']]\n",
    "cc1_1= cc1_1[cc1_1.notnull().all(axis=1)]\n",
    "cc1_1"
   ]
  },
  {
   "cell_type": "code",
   "execution_count": 143,
   "id": "aad17964",
   "metadata": {},
   "outputs": [
    {
     "data": {
      "text/html": [
       "<div>\n",
       "<style scoped>\n",
       "    .dataframe tbody tr th:only-of-type {\n",
       "        vertical-align: middle;\n",
       "    }\n",
       "\n",
       "    .dataframe tbody tr th {\n",
       "        vertical-align: top;\n",
       "    }\n",
       "\n",
       "    .dataframe thead th {\n",
       "        text-align: right;\n",
       "    }\n",
       "</style>\n",
       "<table border=\"1\" class=\"dataframe\">\n",
       "  <thead>\n",
       "    <tr style=\"text-align: right;\">\n",
       "      <th></th>\n",
       "      <th>Death</th>\n",
       "      <th>Asphyxia</th>\n",
       "      <th>prematurity</th>\n",
       "      <th>neontal jaundice</th>\n",
       "      <th>Pneumonia</th>\n",
       "      <th>neonatal sepsis</th>\n",
       "      <th>neonatal tetanus</th>\n",
       "      <th>congenital malformation</th>\n",
       "      <th>Others</th>\n",
       "      <th>Unknown</th>\n",
       "    </tr>\n",
       "  </thead>\n",
       "  <tbody>\n",
       "    <tr>\n",
       "      <th>514</th>\n",
       "      <td>24mar2020</td>\n",
       "      <td>0.0</td>\n",
       "      <td>0.0</td>\n",
       "      <td>0.0</td>\n",
       "      <td>0.0</td>\n",
       "      <td>0.0</td>\n",
       "      <td>0.0</td>\n",
       "      <td>0.0</td>\n",
       "      <td>1.0</td>\n",
       "      <td>1.0</td>\n",
       "    </tr>\n",
       "    <tr>\n",
       "      <th>962</th>\n",
       "      <td>14dec2020</td>\n",
       "      <td>0.0</td>\n",
       "      <td>0.0</td>\n",
       "      <td>0.0</td>\n",
       "      <td>0.0</td>\n",
       "      <td>0.0</td>\n",
       "      <td>0.0</td>\n",
       "      <td>0.0</td>\n",
       "      <td>1.0</td>\n",
       "      <td>0.0</td>\n",
       "    </tr>\n",
       "    <tr>\n",
       "      <th>1695</th>\n",
       "      <td>06sep2019</td>\n",
       "      <td>0.0</td>\n",
       "      <td>0.0</td>\n",
       "      <td>0.0</td>\n",
       "      <td>0.0</td>\n",
       "      <td>0.0</td>\n",
       "      <td>0.0</td>\n",
       "      <td>0.0</td>\n",
       "      <td>1.0</td>\n",
       "      <td>0.0</td>\n",
       "    </tr>\n",
       "    <tr>\n",
       "      <th>2024</th>\n",
       "      <td>09oct2019</td>\n",
       "      <td>0.0</td>\n",
       "      <td>0.0</td>\n",
       "      <td>0.0</td>\n",
       "      <td>1.0</td>\n",
       "      <td>0.0</td>\n",
       "      <td>0.0</td>\n",
       "      <td>0.0</td>\n",
       "      <td>0.0</td>\n",
       "      <td>0.0</td>\n",
       "    </tr>\n",
       "    <tr>\n",
       "      <th>2039</th>\n",
       "      <td>29dec2019</td>\n",
       "      <td>0.0</td>\n",
       "      <td>0.0</td>\n",
       "      <td>0.0</td>\n",
       "      <td>1.0</td>\n",
       "      <td>0.0</td>\n",
       "      <td>0.0</td>\n",
       "      <td>0.0</td>\n",
       "      <td>1.0</td>\n",
       "      <td>0.0</td>\n",
       "    </tr>\n",
       "    <tr>\n",
       "      <th>3104</th>\n",
       "      <td>20jul2019</td>\n",
       "      <td>0.0</td>\n",
       "      <td>0.0</td>\n",
       "      <td>0.0</td>\n",
       "      <td>0.0</td>\n",
       "      <td>0.0</td>\n",
       "      <td>0.0</td>\n",
       "      <td>0.0</td>\n",
       "      <td>0.0</td>\n",
       "      <td>0.0</td>\n",
       "    </tr>\n",
       "    <tr>\n",
       "      <th>3305</th>\n",
       "      <td>03jul2021</td>\n",
       "      <td>0.0</td>\n",
       "      <td>0.0</td>\n",
       "      <td>0.0</td>\n",
       "      <td>0.0</td>\n",
       "      <td>0.0</td>\n",
       "      <td>0.0</td>\n",
       "      <td>0.0</td>\n",
       "      <td>0.0</td>\n",
       "      <td>1.0</td>\n",
       "    </tr>\n",
       "    <tr>\n",
       "      <th>3417</th>\n",
       "      <td>06aug2019</td>\n",
       "      <td>0.0</td>\n",
       "      <td>0.0</td>\n",
       "      <td>0.0</td>\n",
       "      <td>0.0</td>\n",
       "      <td>0.0</td>\n",
       "      <td>0.0</td>\n",
       "      <td>1.0</td>\n",
       "      <td>0.0</td>\n",
       "      <td>0.0</td>\n",
       "    </tr>\n",
       "    <tr>\n",
       "      <th>3430</th>\n",
       "      <td>27oct2019</td>\n",
       "      <td>0.0</td>\n",
       "      <td>0.0</td>\n",
       "      <td>0.0</td>\n",
       "      <td>0.0</td>\n",
       "      <td>0.0</td>\n",
       "      <td>0.0</td>\n",
       "      <td>0.0</td>\n",
       "      <td>1.0</td>\n",
       "      <td>0.0</td>\n",
       "    </tr>\n",
       "    <tr>\n",
       "      <th>3541</th>\n",
       "      <td>22mar2019</td>\n",
       "      <td>0.0</td>\n",
       "      <td>1.0</td>\n",
       "      <td>0.0</td>\n",
       "      <td>0.0</td>\n",
       "      <td>0.0</td>\n",
       "      <td>0.0</td>\n",
       "      <td>0.0</td>\n",
       "      <td>0.0</td>\n",
       "      <td>1.0</td>\n",
       "    </tr>\n",
       "    <tr>\n",
       "      <th>3756</th>\n",
       "      <td>08jan2019</td>\n",
       "      <td>0.0</td>\n",
       "      <td>0.0</td>\n",
       "      <td>0.0</td>\n",
       "      <td>0.0</td>\n",
       "      <td>0.0</td>\n",
       "      <td>0.0</td>\n",
       "      <td>0.0</td>\n",
       "      <td>1.0</td>\n",
       "      <td>0.0</td>\n",
       "    </tr>\n",
       "  </tbody>\n",
       "</table>\n",
       "</div>"
      ],
      "text/plain": [
       "          Death  Asphyxia  prematurity  neontal jaundice  Pneumonia   \n",
       "514   24mar2020       0.0          0.0               0.0        0.0  \\\n",
       "962   14dec2020       0.0          0.0               0.0        0.0   \n",
       "1695  06sep2019       0.0          0.0               0.0        0.0   \n",
       "2024  09oct2019       0.0          0.0               0.0        1.0   \n",
       "2039  29dec2019       0.0          0.0               0.0        1.0   \n",
       "3104  20jul2019       0.0          0.0               0.0        0.0   \n",
       "3305  03jul2021       0.0          0.0               0.0        0.0   \n",
       "3417  06aug2019       0.0          0.0               0.0        0.0   \n",
       "3430  27oct2019       0.0          0.0               0.0        0.0   \n",
       "3541  22mar2019       0.0          1.0               0.0        0.0   \n",
       "3756  08jan2019       0.0          0.0               0.0        0.0   \n",
       "\n",
       "      neonatal sepsis  neonatal tetanus  congenital malformation  Others   \n",
       "514               0.0               0.0                      0.0     1.0  \\\n",
       "962               0.0               0.0                      0.0     1.0   \n",
       "1695              0.0               0.0                      0.0     1.0   \n",
       "2024              0.0               0.0                      0.0     0.0   \n",
       "2039              0.0               0.0                      0.0     1.0   \n",
       "3104              0.0               0.0                      0.0     0.0   \n",
       "3305              0.0               0.0                      0.0     0.0   \n",
       "3417              0.0               0.0                      1.0     0.0   \n",
       "3430              0.0               0.0                      0.0     1.0   \n",
       "3541              0.0               0.0                      0.0     0.0   \n",
       "3756              0.0               0.0                      0.0     1.0   \n",
       "\n",
       "      Unknown  \n",
       "514       1.0  \n",
       "962       0.0  \n",
       "1695      0.0  \n",
       "2024      0.0  \n",
       "2039      0.0  \n",
       "3104      0.0  \n",
       "3305      1.0  \n",
       "3417      0.0  \n",
       "3430      0.0  \n",
       "3541      1.0  \n",
       "3756      0.0  "
      ]
     },
     "execution_count": 143,
     "metadata": {},
     "output_type": "execute_result"
    }
   ],
   "source": [
    "cc1_1"
   ]
  },
  {
   "cell_type": "code",
   "execution_count": null,
   "id": "6c14a714",
   "metadata": {},
   "outputs": [],
   "source": []
  },
  {
   "cell_type": "code",
   "execution_count": null,
   "id": "c4b58d95",
   "metadata": {},
   "outputs": [],
   "source": []
  },
  {
   "cell_type": "code",
   "execution_count": null,
   "id": "1fdc1aa1",
   "metadata": {},
   "outputs": [],
   "source": []
  },
  {
   "cell_type": "code",
   "execution_count": 144,
   "id": "027feb5c",
   "metadata": {},
   "outputs": [],
   "source": [
    "cc2_1=cc2_1.rename(columns={'cddeath_cc2_1':'Death',\n",
    "                                    'codbirthasphyx_cc2_1':'Asphyxia',\n",
    "                                   'codpremature_cc2_1':'prematurity',\n",
    "                                  'codjdice_cc2_1':'neontal jaundice', \n",
    "                                   'codpna_cc2_1':'Pneumonia',\n",
    "                                   'codsepsis_cc2_1':'neonatal sepsis',\n",
    "                                   'codtetanus_cc2_1':'neonatal tetanus',\n",
    "                                   'codcongenmal_cc2_1':'congenital malformation',\n",
    "                                   'codo_cc2_1':'Others',\n",
    "                                   'coduk_cc2_1':'Unknown'})"
   ]
  },
  {
   "cell_type": "code",
   "execution_count": 150,
   "id": "ba606a45",
   "metadata": {
    "scrolled": true
   },
   "outputs": [
    {
     "data": {
      "text/plain": [
       "12"
      ]
     },
     "execution_count": 150,
     "metadata": {},
     "output_type": "execute_result"
    }
   ],
   "source": [
    "#Total Number of death from cc2_1 forms \n",
    "4634-data['cddeath_cc2_1'].isnull().sum()"
   ]
  },
  {
   "cell_type": "code",
   "execution_count": 93,
   "id": "50dda051",
   "metadata": {},
   "outputs": [],
   "source": [
    "cc2_1=data[['cddeath_cc2_1','codbirthasphyx_cc2_1','codpremature_cc2_1','codjdice_cc2_1','codpna_cc2_1','codsepsis_cc2_1','codtetanus_cc2_1','codcongenmal_cc2_1','codo_cc2_1','coduk_cc2_1']]"
   ]
  },
  {
   "cell_type": "code",
   "execution_count": 94,
   "id": "32b8436c",
   "metadata": {
    "scrolled": false
   },
   "outputs": [
    {
     "data": {
      "text/html": [
       "<div>\n",
       "<style scoped>\n",
       "    .dataframe tbody tr th:only-of-type {\n",
       "        vertical-align: middle;\n",
       "    }\n",
       "\n",
       "    .dataframe tbody tr th {\n",
       "        vertical-align: top;\n",
       "    }\n",
       "\n",
       "    .dataframe thead th {\n",
       "        text-align: right;\n",
       "    }\n",
       "</style>\n",
       "<table border=\"1\" class=\"dataframe\">\n",
       "  <thead>\n",
       "    <tr style=\"text-align: right;\">\n",
       "      <th></th>\n",
       "      <th>cddeath_cc2_1</th>\n",
       "      <th>codbirthasphyx_cc2_1</th>\n",
       "      <th>codpremature_cc2_1</th>\n",
       "      <th>codjdice_cc2_1</th>\n",
       "      <th>codpna_cc2_1</th>\n",
       "      <th>codsepsis_cc2_1</th>\n",
       "      <th>codtetanus_cc2_1</th>\n",
       "      <th>codcongenmal_cc2_1</th>\n",
       "      <th>codo_cc2_1</th>\n",
       "      <th>coduk_cc2_1</th>\n",
       "    </tr>\n",
       "  </thead>\n",
       "  <tbody>\n",
       "    <tr>\n",
       "      <th>1538</th>\n",
       "      <td>07nov2018</td>\n",
       "      <td>0.0</td>\n",
       "      <td>0.0</td>\n",
       "      <td>0.0</td>\n",
       "      <td>0.0</td>\n",
       "      <td>0.0</td>\n",
       "      <td>0.0</td>\n",
       "      <td>0.0</td>\n",
       "      <td>1.0</td>\n",
       "      <td>0.0</td>\n",
       "    </tr>\n",
       "    <tr>\n",
       "      <th>1811</th>\n",
       "      <td>08apr2021</td>\n",
       "      <td>1.0</td>\n",
       "      <td>0.0</td>\n",
       "      <td>0.0</td>\n",
       "      <td>0.0</td>\n",
       "      <td>0.0</td>\n",
       "      <td>0.0</td>\n",
       "      <td>0.0</td>\n",
       "      <td>0.0</td>\n",
       "      <td>0.0</td>\n",
       "    </tr>\n",
       "    <tr>\n",
       "      <th>1856</th>\n",
       "      <td>08jun2020</td>\n",
       "      <td>0.0</td>\n",
       "      <td>0.0</td>\n",
       "      <td>0.0</td>\n",
       "      <td>0.0</td>\n",
       "      <td>0.0</td>\n",
       "      <td>0.0</td>\n",
       "      <td>0.0</td>\n",
       "      <td>0.0</td>\n",
       "      <td>0.0</td>\n",
       "    </tr>\n",
       "    <tr>\n",
       "      <th>1961</th>\n",
       "      <td>20jan2020</td>\n",
       "      <td>0.0</td>\n",
       "      <td>0.0</td>\n",
       "      <td>0.0</td>\n",
       "      <td>1.0</td>\n",
       "      <td>0.0</td>\n",
       "      <td>0.0</td>\n",
       "      <td>0.0</td>\n",
       "      <td>0.0</td>\n",
       "      <td>0.0</td>\n",
       "    </tr>\n",
       "    <tr>\n",
       "      <th>2621</th>\n",
       "      <td>25dec2019</td>\n",
       "      <td>0.0</td>\n",
       "      <td>0.0</td>\n",
       "      <td>0.0</td>\n",
       "      <td>1.0</td>\n",
       "      <td>0.0</td>\n",
       "      <td>0.0</td>\n",
       "      <td>1.0</td>\n",
       "      <td>0.0</td>\n",
       "      <td>0.0</td>\n",
       "    </tr>\n",
       "    <tr>\n",
       "      <th>2628</th>\n",
       "      <td>04aug2021</td>\n",
       "      <td>0.0</td>\n",
       "      <td>0.0</td>\n",
       "      <td>0.0</td>\n",
       "      <td>0.0</td>\n",
       "      <td>0.0</td>\n",
       "      <td>0.0</td>\n",
       "      <td>1.0</td>\n",
       "      <td>1.0</td>\n",
       "      <td>0.0</td>\n",
       "    </tr>\n",
       "    <tr>\n",
       "      <th>2647</th>\n",
       "      <td>02apr2020</td>\n",
       "      <td>0.0</td>\n",
       "      <td>0.0</td>\n",
       "      <td>0.0</td>\n",
       "      <td>0.0</td>\n",
       "      <td>0.0</td>\n",
       "      <td>0.0</td>\n",
       "      <td>0.0</td>\n",
       "      <td>1.0</td>\n",
       "      <td>0.0</td>\n",
       "    </tr>\n",
       "    <tr>\n",
       "      <th>2694</th>\n",
       "      <td>08apr2020</td>\n",
       "      <td>0.0</td>\n",
       "      <td>0.0</td>\n",
       "      <td>0.0</td>\n",
       "      <td>0.0</td>\n",
       "      <td>0.0</td>\n",
       "      <td>0.0</td>\n",
       "      <td>0.0</td>\n",
       "      <td>0.0</td>\n",
       "      <td>1.0</td>\n",
       "    </tr>\n",
       "    <tr>\n",
       "      <th>2728</th>\n",
       "      <td>28jan2020</td>\n",
       "      <td>0.0</td>\n",
       "      <td>1.0</td>\n",
       "      <td>0.0</td>\n",
       "      <td>0.0</td>\n",
       "      <td>0.0</td>\n",
       "      <td>0.0</td>\n",
       "      <td>0.0</td>\n",
       "      <td>0.0</td>\n",
       "      <td>0.0</td>\n",
       "    </tr>\n",
       "    <tr>\n",
       "      <th>3104</th>\n",
       "      <td>20jul2019</td>\n",
       "      <td>0.0</td>\n",
       "      <td>0.0</td>\n",
       "      <td>0.0</td>\n",
       "      <td>0.0</td>\n",
       "      <td>0.0</td>\n",
       "      <td>0.0</td>\n",
       "      <td>0.0</td>\n",
       "      <td>0.0</td>\n",
       "      <td>0.0</td>\n",
       "    </tr>\n",
       "    <tr>\n",
       "      <th>3739</th>\n",
       "      <td>19jan2019</td>\n",
       "      <td>0.0</td>\n",
       "      <td>0.0</td>\n",
       "      <td>0.0</td>\n",
       "      <td>1.0</td>\n",
       "      <td>0.0</td>\n",
       "      <td>0.0</td>\n",
       "      <td>0.0</td>\n",
       "      <td>0.0</td>\n",
       "      <td>0.0</td>\n",
       "    </tr>\n",
       "    <tr>\n",
       "      <th>4421</th>\n",
       "      <td>08dec2018</td>\n",
       "      <td>0.0</td>\n",
       "      <td>0.0</td>\n",
       "      <td>0.0</td>\n",
       "      <td>0.0</td>\n",
       "      <td>0.0</td>\n",
       "      <td>0.0</td>\n",
       "      <td>0.0</td>\n",
       "      <td>1.0</td>\n",
       "      <td>0.0</td>\n",
       "    </tr>\n",
       "  </tbody>\n",
       "</table>\n",
       "</div>"
      ],
      "text/plain": [
       "     cddeath_cc2_1  codbirthasphyx_cc2_1  codpremature_cc2_1  codjdice_cc2_1   \n",
       "1538     07nov2018                   0.0                 0.0             0.0  \\\n",
       "1811     08apr2021                   1.0                 0.0             0.0   \n",
       "1856     08jun2020                   0.0                 0.0             0.0   \n",
       "1961     20jan2020                   0.0                 0.0             0.0   \n",
       "2621     25dec2019                   0.0                 0.0             0.0   \n",
       "2628     04aug2021                   0.0                 0.0             0.0   \n",
       "2647     02apr2020                   0.0                 0.0             0.0   \n",
       "2694     08apr2020                   0.0                 0.0             0.0   \n",
       "2728     28jan2020                   0.0                 1.0             0.0   \n",
       "3104     20jul2019                   0.0                 0.0             0.0   \n",
       "3739     19jan2019                   0.0                 0.0             0.0   \n",
       "4421     08dec2018                   0.0                 0.0             0.0   \n",
       "\n",
       "      codpna_cc2_1  codsepsis_cc2_1  codtetanus_cc2_1  codcongenmal_cc2_1   \n",
       "1538           0.0              0.0               0.0                 0.0  \\\n",
       "1811           0.0              0.0               0.0                 0.0   \n",
       "1856           0.0              0.0               0.0                 0.0   \n",
       "1961           1.0              0.0               0.0                 0.0   \n",
       "2621           1.0              0.0               0.0                 1.0   \n",
       "2628           0.0              0.0               0.0                 1.0   \n",
       "2647           0.0              0.0               0.0                 0.0   \n",
       "2694           0.0              0.0               0.0                 0.0   \n",
       "2728           0.0              0.0               0.0                 0.0   \n",
       "3104           0.0              0.0               0.0                 0.0   \n",
       "3739           1.0              0.0               0.0                 0.0   \n",
       "4421           0.0              0.0               0.0                 0.0   \n",
       "\n",
       "      codo_cc2_1  coduk_cc2_1  \n",
       "1538         1.0          0.0  \n",
       "1811         0.0          0.0  \n",
       "1856         0.0          0.0  \n",
       "1961         0.0          0.0  \n",
       "2621         0.0          0.0  \n",
       "2628         1.0          0.0  \n",
       "2647         1.0          0.0  \n",
       "2694         0.0          1.0  \n",
       "2728         0.0          0.0  \n",
       "3104         0.0          0.0  \n",
       "3739         0.0          0.0  \n",
       "4421         1.0          0.0  "
      ]
     },
     "execution_count": 94,
     "metadata": {},
     "output_type": "execute_result"
    }
   ],
   "source": [
    "\n",
    "cc2_1 = cc2_1[cc2_1.notnull().all(axis=1)]\n",
    "cc2_1"
   ]
  },
  {
   "cell_type": "code",
   "execution_count": 145,
   "id": "a140200a",
   "metadata": {},
   "outputs": [
    {
     "data": {
      "text/html": [
       "<div>\n",
       "<style scoped>\n",
       "    .dataframe tbody tr th:only-of-type {\n",
       "        vertical-align: middle;\n",
       "    }\n",
       "\n",
       "    .dataframe tbody tr th {\n",
       "        vertical-align: top;\n",
       "    }\n",
       "\n",
       "    .dataframe thead th {\n",
       "        text-align: right;\n",
       "    }\n",
       "</style>\n",
       "<table border=\"1\" class=\"dataframe\">\n",
       "  <thead>\n",
       "    <tr style=\"text-align: right;\">\n",
       "      <th></th>\n",
       "      <th>Death</th>\n",
       "      <th>Asphyxia</th>\n",
       "      <th>prematurity</th>\n",
       "      <th>neontal jaundice</th>\n",
       "      <th>Pneumonia</th>\n",
       "      <th>neonatal sepsis</th>\n",
       "      <th>neonatal tetanus</th>\n",
       "      <th>congenital malformation</th>\n",
       "      <th>Others</th>\n",
       "      <th>Unknown</th>\n",
       "    </tr>\n",
       "  </thead>\n",
       "  <tbody>\n",
       "    <tr>\n",
       "      <th>1538</th>\n",
       "      <td>07nov2018</td>\n",
       "      <td>0.0</td>\n",
       "      <td>0.0</td>\n",
       "      <td>0.0</td>\n",
       "      <td>0.0</td>\n",
       "      <td>0.0</td>\n",
       "      <td>0.0</td>\n",
       "      <td>0.0</td>\n",
       "      <td>1.0</td>\n",
       "      <td>0.0</td>\n",
       "    </tr>\n",
       "    <tr>\n",
       "      <th>1811</th>\n",
       "      <td>08apr2021</td>\n",
       "      <td>1.0</td>\n",
       "      <td>0.0</td>\n",
       "      <td>0.0</td>\n",
       "      <td>0.0</td>\n",
       "      <td>0.0</td>\n",
       "      <td>0.0</td>\n",
       "      <td>0.0</td>\n",
       "      <td>0.0</td>\n",
       "      <td>0.0</td>\n",
       "    </tr>\n",
       "    <tr>\n",
       "      <th>1856</th>\n",
       "      <td>08jun2020</td>\n",
       "      <td>0.0</td>\n",
       "      <td>0.0</td>\n",
       "      <td>0.0</td>\n",
       "      <td>0.0</td>\n",
       "      <td>0.0</td>\n",
       "      <td>0.0</td>\n",
       "      <td>0.0</td>\n",
       "      <td>0.0</td>\n",
       "      <td>0.0</td>\n",
       "    </tr>\n",
       "    <tr>\n",
       "      <th>1961</th>\n",
       "      <td>20jan2020</td>\n",
       "      <td>0.0</td>\n",
       "      <td>0.0</td>\n",
       "      <td>0.0</td>\n",
       "      <td>1.0</td>\n",
       "      <td>0.0</td>\n",
       "      <td>0.0</td>\n",
       "      <td>0.0</td>\n",
       "      <td>0.0</td>\n",
       "      <td>0.0</td>\n",
       "    </tr>\n",
       "    <tr>\n",
       "      <th>2621</th>\n",
       "      <td>25dec2019</td>\n",
       "      <td>0.0</td>\n",
       "      <td>0.0</td>\n",
       "      <td>0.0</td>\n",
       "      <td>1.0</td>\n",
       "      <td>0.0</td>\n",
       "      <td>0.0</td>\n",
       "      <td>1.0</td>\n",
       "      <td>0.0</td>\n",
       "      <td>0.0</td>\n",
       "    </tr>\n",
       "    <tr>\n",
       "      <th>2628</th>\n",
       "      <td>04aug2021</td>\n",
       "      <td>0.0</td>\n",
       "      <td>0.0</td>\n",
       "      <td>0.0</td>\n",
       "      <td>0.0</td>\n",
       "      <td>0.0</td>\n",
       "      <td>0.0</td>\n",
       "      <td>1.0</td>\n",
       "      <td>1.0</td>\n",
       "      <td>0.0</td>\n",
       "    </tr>\n",
       "    <tr>\n",
       "      <th>2647</th>\n",
       "      <td>02apr2020</td>\n",
       "      <td>0.0</td>\n",
       "      <td>0.0</td>\n",
       "      <td>0.0</td>\n",
       "      <td>0.0</td>\n",
       "      <td>0.0</td>\n",
       "      <td>0.0</td>\n",
       "      <td>0.0</td>\n",
       "      <td>1.0</td>\n",
       "      <td>0.0</td>\n",
       "    </tr>\n",
       "    <tr>\n",
       "      <th>2694</th>\n",
       "      <td>08apr2020</td>\n",
       "      <td>0.0</td>\n",
       "      <td>0.0</td>\n",
       "      <td>0.0</td>\n",
       "      <td>0.0</td>\n",
       "      <td>0.0</td>\n",
       "      <td>0.0</td>\n",
       "      <td>0.0</td>\n",
       "      <td>0.0</td>\n",
       "      <td>1.0</td>\n",
       "    </tr>\n",
       "    <tr>\n",
       "      <th>2728</th>\n",
       "      <td>28jan2020</td>\n",
       "      <td>0.0</td>\n",
       "      <td>1.0</td>\n",
       "      <td>0.0</td>\n",
       "      <td>0.0</td>\n",
       "      <td>0.0</td>\n",
       "      <td>0.0</td>\n",
       "      <td>0.0</td>\n",
       "      <td>0.0</td>\n",
       "      <td>0.0</td>\n",
       "    </tr>\n",
       "    <tr>\n",
       "      <th>3104</th>\n",
       "      <td>20jul2019</td>\n",
       "      <td>0.0</td>\n",
       "      <td>0.0</td>\n",
       "      <td>0.0</td>\n",
       "      <td>0.0</td>\n",
       "      <td>0.0</td>\n",
       "      <td>0.0</td>\n",
       "      <td>0.0</td>\n",
       "      <td>0.0</td>\n",
       "      <td>0.0</td>\n",
       "    </tr>\n",
       "    <tr>\n",
       "      <th>3739</th>\n",
       "      <td>19jan2019</td>\n",
       "      <td>0.0</td>\n",
       "      <td>0.0</td>\n",
       "      <td>0.0</td>\n",
       "      <td>1.0</td>\n",
       "      <td>0.0</td>\n",
       "      <td>0.0</td>\n",
       "      <td>0.0</td>\n",
       "      <td>0.0</td>\n",
       "      <td>0.0</td>\n",
       "    </tr>\n",
       "    <tr>\n",
       "      <th>4421</th>\n",
       "      <td>08dec2018</td>\n",
       "      <td>0.0</td>\n",
       "      <td>0.0</td>\n",
       "      <td>0.0</td>\n",
       "      <td>0.0</td>\n",
       "      <td>0.0</td>\n",
       "      <td>0.0</td>\n",
       "      <td>0.0</td>\n",
       "      <td>1.0</td>\n",
       "      <td>0.0</td>\n",
       "    </tr>\n",
       "  </tbody>\n",
       "</table>\n",
       "</div>"
      ],
      "text/plain": [
       "          Death  Asphyxia  prematurity  neontal jaundice  Pneumonia   \n",
       "1538  07nov2018       0.0          0.0               0.0        0.0  \\\n",
       "1811  08apr2021       1.0          0.0               0.0        0.0   \n",
       "1856  08jun2020       0.0          0.0               0.0        0.0   \n",
       "1961  20jan2020       0.0          0.0               0.0        1.0   \n",
       "2621  25dec2019       0.0          0.0               0.0        1.0   \n",
       "2628  04aug2021       0.0          0.0               0.0        0.0   \n",
       "2647  02apr2020       0.0          0.0               0.0        0.0   \n",
       "2694  08apr2020       0.0          0.0               0.0        0.0   \n",
       "2728  28jan2020       0.0          1.0               0.0        0.0   \n",
       "3104  20jul2019       0.0          0.0               0.0        0.0   \n",
       "3739  19jan2019       0.0          0.0               0.0        1.0   \n",
       "4421  08dec2018       0.0          0.0               0.0        0.0   \n",
       "\n",
       "      neonatal sepsis  neonatal tetanus  congenital malformation  Others   \n",
       "1538              0.0               0.0                      0.0     1.0  \\\n",
       "1811              0.0               0.0                      0.0     0.0   \n",
       "1856              0.0               0.0                      0.0     0.0   \n",
       "1961              0.0               0.0                      0.0     0.0   \n",
       "2621              0.0               0.0                      1.0     0.0   \n",
       "2628              0.0               0.0                      1.0     1.0   \n",
       "2647              0.0               0.0                      0.0     1.0   \n",
       "2694              0.0               0.0                      0.0     0.0   \n",
       "2728              0.0               0.0                      0.0     0.0   \n",
       "3104              0.0               0.0                      0.0     0.0   \n",
       "3739              0.0               0.0                      0.0     0.0   \n",
       "4421              0.0               0.0                      0.0     1.0   \n",
       "\n",
       "      Unknown  \n",
       "1538      0.0  \n",
       "1811      0.0  \n",
       "1856      0.0  \n",
       "1961      0.0  \n",
       "2621      0.0  \n",
       "2628      0.0  \n",
       "2647      0.0  \n",
       "2694      1.0  \n",
       "2728      0.0  \n",
       "3104      0.0  \n",
       "3739      0.0  \n",
       "4421      0.0  "
      ]
     },
     "execution_count": 145,
     "metadata": {},
     "output_type": "execute_result"
    }
   ],
   "source": [
    "cc2_1"
   ]
  },
  {
   "cell_type": "code",
   "execution_count": null,
   "id": "9fd0b389",
   "metadata": {},
   "outputs": [],
   "source": []
  },
  {
   "cell_type": "code",
   "execution_count": null,
   "id": "21ab9b7d",
   "metadata": {},
   "outputs": [],
   "source": []
  },
  {
   "cell_type": "code",
   "execution_count": 158,
   "id": "a42d4679",
   "metadata": {},
   "outputs": [],
   "source": [
    "cc2_2=cc2_2.rename(columns={'cddeath_cc2_2':'Death',\n",
    "                                    'codbirthasphyx_cc2_2':'Asphyxia',\n",
    "                                   'codpremature_cc2_2':'prematurity',\n",
    "                                  'codjdice_cc2_2':'neontal jaundice', \n",
    "                                   'codpna_cc2_2':'Pneumonia',\n",
    "                                   'codsepsis_cc2_2':'neonatal sepsis',\n",
    "                                   'codtetanus_cc2_2':'neonatal tetanus',\n",
    "                                   'codcongenmal_cc2_2':'congenital malformation',\n",
    "                                   'codo_cc2_2':'Others',\n",
    "                                   'coduk_cc2_2':'Unknown'})"
   ]
  },
  {
   "cell_type": "code",
   "execution_count": 157,
   "id": "f74b881a",
   "metadata": {},
   "outputs": [
    {
     "data": {
      "text/plain": [
       "2"
      ]
     },
     "execution_count": 157,
     "metadata": {},
     "output_type": "execute_result"
    }
   ],
   "source": [
    "#Total Number of death from cc2_2 forms \n",
    "4634-data['cddeath_cc2_2'].isnull().sum()"
   ]
  },
  {
   "cell_type": "code",
   "execution_count": 152,
   "id": "cc5b80f9",
   "metadata": {},
   "outputs": [],
   "source": [
    "cc2_2=data[['cddeath_cc2_2','codbirthasphyx_cc2_2','codpremature_cc2_2','codjdice_cc2_2','codpna_cc2_2','codsepsis_cc2_2','codtetanus_cc2_2','codcongenmal_cc2_2','codo_cc2_2','coduk_cc2_2']]"
   ]
  },
  {
   "cell_type": "code",
   "execution_count": 153,
   "id": "26744268",
   "metadata": {
    "scrolled": true
   },
   "outputs": [
    {
     "data": {
      "text/html": [
       "<div>\n",
       "<style scoped>\n",
       "    .dataframe tbody tr th:only-of-type {\n",
       "        vertical-align: middle;\n",
       "    }\n",
       "\n",
       "    .dataframe tbody tr th {\n",
       "        vertical-align: top;\n",
       "    }\n",
       "\n",
       "    .dataframe thead th {\n",
       "        text-align: right;\n",
       "    }\n",
       "</style>\n",
       "<table border=\"1\" class=\"dataframe\">\n",
       "  <thead>\n",
       "    <tr style=\"text-align: right;\">\n",
       "      <th></th>\n",
       "      <th>cddeath_cc2_2</th>\n",
       "      <th>codbirthasphyx_cc2_2</th>\n",
       "      <th>codpremature_cc2_2</th>\n",
       "      <th>codjdice_cc2_2</th>\n",
       "      <th>codpna_cc2_2</th>\n",
       "      <th>codsepsis_cc2_2</th>\n",
       "      <th>codtetanus_cc2_2</th>\n",
       "      <th>codcongenmal_cc2_2</th>\n",
       "      <th>codo_cc2_2</th>\n",
       "      <th>coduk_cc2_2</th>\n",
       "    </tr>\n",
       "  </thead>\n",
       "  <tbody>\n",
       "    <tr>\n",
       "      <th>225</th>\n",
       "      <td>14jul2020</td>\n",
       "      <td>0.0</td>\n",
       "      <td>0.0</td>\n",
       "      <td>0.0</td>\n",
       "      <td>0.0</td>\n",
       "      <td>0.0</td>\n",
       "      <td>0.0</td>\n",
       "      <td>0.0</td>\n",
       "      <td>0.0</td>\n",
       "      <td>1.0</td>\n",
       "    </tr>\n",
       "    <tr>\n",
       "      <th>1061</th>\n",
       "      <td>15oct2020</td>\n",
       "      <td>0.0</td>\n",
       "      <td>0.0</td>\n",
       "      <td>0.0</td>\n",
       "      <td>0.0</td>\n",
       "      <td>0.0</td>\n",
       "      <td>0.0</td>\n",
       "      <td>0.0</td>\n",
       "      <td>0.0</td>\n",
       "      <td>1.0</td>\n",
       "    </tr>\n",
       "  </tbody>\n",
       "</table>\n",
       "</div>"
      ],
      "text/plain": [
       "     cddeath_cc2_2  codbirthasphyx_cc2_2  codpremature_cc2_2  codjdice_cc2_2   \n",
       "225      14jul2020                   0.0                 0.0             0.0  \\\n",
       "1061     15oct2020                   0.0                 0.0             0.0   \n",
       "\n",
       "      codpna_cc2_2  codsepsis_cc2_2  codtetanus_cc2_2  codcongenmal_cc2_2   \n",
       "225            0.0              0.0               0.0                 0.0  \\\n",
       "1061           0.0              0.0               0.0                 0.0   \n",
       "\n",
       "      codo_cc2_2  coduk_cc2_2  \n",
       "225          0.0          1.0  \n",
       "1061         0.0          1.0  "
      ]
     },
     "execution_count": 153,
     "metadata": {},
     "output_type": "execute_result"
    }
   ],
   "source": [
    "cc2_2 = cc2_2[cc2_2.notnull().all(axis=1)]\n",
    "cc2_2"
   ]
  },
  {
   "cell_type": "code",
   "execution_count": 159,
   "id": "3800afcf",
   "metadata": {},
   "outputs": [
    {
     "data": {
      "text/html": [
       "<div>\n",
       "<style scoped>\n",
       "    .dataframe tbody tr th:only-of-type {\n",
       "        vertical-align: middle;\n",
       "    }\n",
       "\n",
       "    .dataframe tbody tr th {\n",
       "        vertical-align: top;\n",
       "    }\n",
       "\n",
       "    .dataframe thead th {\n",
       "        text-align: right;\n",
       "    }\n",
       "</style>\n",
       "<table border=\"1\" class=\"dataframe\">\n",
       "  <thead>\n",
       "    <tr style=\"text-align: right;\">\n",
       "      <th></th>\n",
       "      <th>Death</th>\n",
       "      <th>Asphyxia</th>\n",
       "      <th>prematurity</th>\n",
       "      <th>neontal jaundice</th>\n",
       "      <th>Pneumonia</th>\n",
       "      <th>neonatal sepsis</th>\n",
       "      <th>neonatal tetanus</th>\n",
       "      <th>congenital malformation</th>\n",
       "      <th>Others</th>\n",
       "      <th>Unknown</th>\n",
       "    </tr>\n",
       "  </thead>\n",
       "  <tbody>\n",
       "    <tr>\n",
       "      <th>225</th>\n",
       "      <td>14jul2020</td>\n",
       "      <td>0.0</td>\n",
       "      <td>0.0</td>\n",
       "      <td>0.0</td>\n",
       "      <td>0.0</td>\n",
       "      <td>0.0</td>\n",
       "      <td>0.0</td>\n",
       "      <td>0.0</td>\n",
       "      <td>0.0</td>\n",
       "      <td>1.0</td>\n",
       "    </tr>\n",
       "    <tr>\n",
       "      <th>1061</th>\n",
       "      <td>15oct2020</td>\n",
       "      <td>0.0</td>\n",
       "      <td>0.0</td>\n",
       "      <td>0.0</td>\n",
       "      <td>0.0</td>\n",
       "      <td>0.0</td>\n",
       "      <td>0.0</td>\n",
       "      <td>0.0</td>\n",
       "      <td>0.0</td>\n",
       "      <td>1.0</td>\n",
       "    </tr>\n",
       "  </tbody>\n",
       "</table>\n",
       "</div>"
      ],
      "text/plain": [
       "          Death  Asphyxia  prematurity  neontal jaundice  Pneumonia   \n",
       "225   14jul2020       0.0          0.0               0.0        0.0  \\\n",
       "1061  15oct2020       0.0          0.0               0.0        0.0   \n",
       "\n",
       "      neonatal sepsis  neonatal tetanus  congenital malformation  Others   \n",
       "225               0.0               0.0                      0.0     0.0  \\\n",
       "1061              0.0               0.0                      0.0     0.0   \n",
       "\n",
       "      Unknown  \n",
       "225       1.0  \n",
       "1061      1.0  "
      ]
     },
     "execution_count": 159,
     "metadata": {},
     "output_type": "execute_result"
    }
   ],
   "source": [
    "cc2_2"
   ]
  },
  {
   "cell_type": "code",
   "execution_count": null,
   "id": "af670846",
   "metadata": {},
   "outputs": [],
   "source": [
    "\n"
   ]
  },
  {
   "cell_type": "code",
   "execution_count": 166,
   "id": "a3947c08",
   "metadata": {},
   "outputs": [],
   "source": [
    "#concatenate cause of death from nc2_nf2 forms\n",
    "\n",
    "\n",
    "nc2_nf2=pd.concat([nc2_nf2_1,nc2_nf2_2],axis=0)"
   ]
  },
  {
   "cell_type": "code",
   "execution_count": 168,
   "id": "779ae154",
   "metadata": {},
   "outputs": [],
   "source": [
    "nc2_nf2=pd.concat([nc2_nf2,nc2_nf2_3],axis=0)\n"
   ]
  },
  {
   "cell_type": "code",
   "execution_count": 170,
   "id": "52e5cde3",
   "metadata": {},
   "outputs": [],
   "source": [
    "#concatenate cause of death from nc3 and nf3 forms\n",
    "nc3=pd.concat([nc3_1,nf3_1],axis=0)"
   ]
  },
  {
   "cell_type": "code",
   "execution_count": null,
   "id": "7b8d7af5",
   "metadata": {},
   "outputs": [],
   "source": []
  },
  {
   "cell_type": "code",
   "execution_count": null,
   "id": "8052a5ce",
   "metadata": {},
   "outputs": [],
   "source": [
    "#concatenate cause of death from  nf5 forms"
   ]
  },
  {
   "cell_type": "code",
   "execution_count": 172,
   "id": "75ffcadc",
   "metadata": {},
   "outputs": [],
   "source": [
    "nf5=pd.concat([nf5_1,nf5_2],axis=0)"
   ]
  },
  {
   "cell_type": "code",
   "execution_count": 174,
   "id": "57d24afe",
   "metadata": {},
   "outputs": [],
   "source": [
    "#concatenate cause of death from  cc1 and cc2 forms\n",
    "cc1=pd.concat([cc1_1,cc2_1],axis=0)"
   ]
  },
  {
   "cell_type": "code",
   "execution_count": 175,
   "id": "09dc5dfe",
   "metadata": {},
   "outputs": [],
   "source": [
    "cc1=pd.concat([cc1,cc2_2],axis=0)"
   ]
  },
  {
   "cell_type": "code",
   "execution_count": null,
   "id": "36c9b8df",
   "metadata": {},
   "outputs": [],
   "source": []
  },
  {
   "cell_type": "code",
   "execution_count": null,
   "id": "d0c0c14f",
   "metadata": {},
   "outputs": [],
   "source": [
    "#Finally \n",
    "nc2_nf2\n",
    "nc3\n",
    "nf5\n",
    "cc1"
   ]
  },
  {
   "cell_type": "code",
   "execution_count": 177,
   "id": "051308bf",
   "metadata": {},
   "outputs": [],
   "source": [
    "cuaseofdeath1=pd.concat([nc2_nf2,nc3],axis=0)"
   ]
  },
  {
   "cell_type": "code",
   "execution_count": 178,
   "id": "4006b559",
   "metadata": {},
   "outputs": [],
   "source": [
    "cuaseofdeath2=pd.concat([nf5,cc1],axis=0)"
   ]
  },
  {
   "cell_type": "code",
   "execution_count": 179,
   "id": "c6a01580",
   "metadata": {},
   "outputs": [],
   "source": [
    "causeofdeath=pd.concat([cuaseofdeath1,cuaseofdeath2],axis=0)"
   ]
  },
  {
   "cell_type": "code",
   "execution_count": 181,
   "id": "ff3f4fb0",
   "metadata": {},
   "outputs": [
    {
     "data": {
      "text/plain": [
       "79"
      ]
     },
     "execution_count": 181,
     "metadata": {},
     "output_type": "execute_result"
    }
   ],
   "source": [
    "len(causeofdeath)"
   ]
  },
  {
   "cell_type": "code",
   "execution_count": 182,
   "id": "d1fa3b03",
   "metadata": {
    "scrolled": true
   },
   "outputs": [
    {
     "data": {
      "text/html": [
       "<div>\n",
       "<style scoped>\n",
       "    .dataframe tbody tr th:only-of-type {\n",
       "        vertical-align: middle;\n",
       "    }\n",
       "\n",
       "    .dataframe tbody tr th {\n",
       "        vertical-align: top;\n",
       "    }\n",
       "\n",
       "    .dataframe thead th {\n",
       "        text-align: right;\n",
       "    }\n",
       "</style>\n",
       "<table border=\"1\" class=\"dataframe\">\n",
       "  <thead>\n",
       "    <tr style=\"text-align: right;\">\n",
       "      <th></th>\n",
       "      <th>Death</th>\n",
       "      <th>Asphyxia</th>\n",
       "      <th>prematurity</th>\n",
       "      <th>neontal jaundice</th>\n",
       "      <th>Pneumonia</th>\n",
       "      <th>neonatal sepsis</th>\n",
       "      <th>neonatal tetanus</th>\n",
       "      <th>congenital malformation</th>\n",
       "      <th>Others</th>\n",
       "      <th>Un known</th>\n",
       "      <th>Unknown</th>\n",
       "    </tr>\n",
       "  </thead>\n",
       "  <tbody>\n",
       "    <tr>\n",
       "      <th>52</th>\n",
       "      <td>09may2019</td>\n",
       "      <td>0.0</td>\n",
       "      <td>1.0</td>\n",
       "      <td>0.0</td>\n",
       "      <td>0.0</td>\n",
       "      <td>0.0</td>\n",
       "      <td>0.0</td>\n",
       "      <td>0.0</td>\n",
       "      <td>0.0</td>\n",
       "      <td>0.0</td>\n",
       "      <td>NaN</td>\n",
       "    </tr>\n",
       "    <tr>\n",
       "      <th>74</th>\n",
       "      <td>16jun2019</td>\n",
       "      <td>0.0</td>\n",
       "      <td>1.0</td>\n",
       "      <td>0.0</td>\n",
       "      <td>0.0</td>\n",
       "      <td>0.0</td>\n",
       "      <td>0.0</td>\n",
       "      <td>0.0</td>\n",
       "      <td>0.0</td>\n",
       "      <td>0.0</td>\n",
       "      <td>NaN</td>\n",
       "    </tr>\n",
       "    <tr>\n",
       "      <th>149</th>\n",
       "      <td>16oct2019</td>\n",
       "      <td>0.0</td>\n",
       "      <td>0.0</td>\n",
       "      <td>0.0</td>\n",
       "      <td>0.0</td>\n",
       "      <td>0.0</td>\n",
       "      <td>0.0</td>\n",
       "      <td>0.0</td>\n",
       "      <td>0.0</td>\n",
       "      <td>1.0</td>\n",
       "      <td>NaN</td>\n",
       "    </tr>\n",
       "    <tr>\n",
       "      <th>197</th>\n",
       "      <td>26jan2019</td>\n",
       "      <td>0.0</td>\n",
       "      <td>1.0</td>\n",
       "      <td>0.0</td>\n",
       "      <td>0.0</td>\n",
       "      <td>0.0</td>\n",
       "      <td>0.0</td>\n",
       "      <td>0.0</td>\n",
       "      <td>0.0</td>\n",
       "      <td>0.0</td>\n",
       "      <td>NaN</td>\n",
       "    </tr>\n",
       "    <tr>\n",
       "      <th>618</th>\n",
       "      <td>16jul2020</td>\n",
       "      <td>0.0</td>\n",
       "      <td>0.0</td>\n",
       "      <td>0.0</td>\n",
       "      <td>0.0</td>\n",
       "      <td>0.0</td>\n",
       "      <td>0.0</td>\n",
       "      <td>0.0</td>\n",
       "      <td>1.0</td>\n",
       "      <td>0.0</td>\n",
       "      <td>NaN</td>\n",
       "    </tr>\n",
       "    <tr>\n",
       "      <th>...</th>\n",
       "      <td>...</td>\n",
       "      <td>...</td>\n",
       "      <td>...</td>\n",
       "      <td>...</td>\n",
       "      <td>...</td>\n",
       "      <td>...</td>\n",
       "      <td>...</td>\n",
       "      <td>...</td>\n",
       "      <td>...</td>\n",
       "      <td>...</td>\n",
       "      <td>...</td>\n",
       "    </tr>\n",
       "    <tr>\n",
       "      <th>3104</th>\n",
       "      <td>20jul2019</td>\n",
       "      <td>0.0</td>\n",
       "      <td>0.0</td>\n",
       "      <td>0.0</td>\n",
       "      <td>0.0</td>\n",
       "      <td>0.0</td>\n",
       "      <td>0.0</td>\n",
       "      <td>0.0</td>\n",
       "      <td>0.0</td>\n",
       "      <td>NaN</td>\n",
       "      <td>0.0</td>\n",
       "    </tr>\n",
       "    <tr>\n",
       "      <th>3739</th>\n",
       "      <td>19jan2019</td>\n",
       "      <td>0.0</td>\n",
       "      <td>0.0</td>\n",
       "      <td>0.0</td>\n",
       "      <td>1.0</td>\n",
       "      <td>0.0</td>\n",
       "      <td>0.0</td>\n",
       "      <td>0.0</td>\n",
       "      <td>0.0</td>\n",
       "      <td>NaN</td>\n",
       "      <td>0.0</td>\n",
       "    </tr>\n",
       "    <tr>\n",
       "      <th>4421</th>\n",
       "      <td>08dec2018</td>\n",
       "      <td>0.0</td>\n",
       "      <td>0.0</td>\n",
       "      <td>0.0</td>\n",
       "      <td>0.0</td>\n",
       "      <td>0.0</td>\n",
       "      <td>0.0</td>\n",
       "      <td>0.0</td>\n",
       "      <td>1.0</td>\n",
       "      <td>NaN</td>\n",
       "      <td>0.0</td>\n",
       "    </tr>\n",
       "    <tr>\n",
       "      <th>225</th>\n",
       "      <td>14jul2020</td>\n",
       "      <td>0.0</td>\n",
       "      <td>0.0</td>\n",
       "      <td>0.0</td>\n",
       "      <td>0.0</td>\n",
       "      <td>0.0</td>\n",
       "      <td>0.0</td>\n",
       "      <td>0.0</td>\n",
       "      <td>0.0</td>\n",
       "      <td>NaN</td>\n",
       "      <td>1.0</td>\n",
       "    </tr>\n",
       "    <tr>\n",
       "      <th>1061</th>\n",
       "      <td>15oct2020</td>\n",
       "      <td>0.0</td>\n",
       "      <td>0.0</td>\n",
       "      <td>0.0</td>\n",
       "      <td>0.0</td>\n",
       "      <td>0.0</td>\n",
       "      <td>0.0</td>\n",
       "      <td>0.0</td>\n",
       "      <td>0.0</td>\n",
       "      <td>NaN</td>\n",
       "      <td>1.0</td>\n",
       "    </tr>\n",
       "  </tbody>\n",
       "</table>\n",
       "<p>79 rows × 11 columns</p>\n",
       "</div>"
      ],
      "text/plain": [
       "          Death  Asphyxia  prematurity  neontal jaundice  Pneumonia   \n",
       "52    09may2019       0.0          1.0               0.0        0.0  \\\n",
       "74    16jun2019       0.0          1.0               0.0        0.0   \n",
       "149   16oct2019       0.0          0.0               0.0        0.0   \n",
       "197   26jan2019       0.0          1.0               0.0        0.0   \n",
       "618   16jul2020       0.0          0.0               0.0        0.0   \n",
       "...         ...       ...          ...               ...        ...   \n",
       "3104  20jul2019       0.0          0.0               0.0        0.0   \n",
       "3739  19jan2019       0.0          0.0               0.0        1.0   \n",
       "4421  08dec2018       0.0          0.0               0.0        0.0   \n",
       "225   14jul2020       0.0          0.0               0.0        0.0   \n",
       "1061  15oct2020       0.0          0.0               0.0        0.0   \n",
       "\n",
       "      neonatal sepsis  neonatal tetanus  congenital malformation  Others   \n",
       "52                0.0               0.0                      0.0     0.0  \\\n",
       "74                0.0               0.0                      0.0     0.0   \n",
       "149               0.0               0.0                      0.0     0.0   \n",
       "197               0.0               0.0                      0.0     0.0   \n",
       "618               0.0               0.0                      0.0     1.0   \n",
       "...               ...               ...                      ...     ...   \n",
       "3104              0.0               0.0                      0.0     0.0   \n",
       "3739              0.0               0.0                      0.0     0.0   \n",
       "4421              0.0               0.0                      0.0     1.0   \n",
       "225               0.0               0.0                      0.0     0.0   \n",
       "1061              0.0               0.0                      0.0     0.0   \n",
       "\n",
       "      Un known  Unknown  \n",
       "52         0.0      NaN  \n",
       "74         0.0      NaN  \n",
       "149        1.0      NaN  \n",
       "197        0.0      NaN  \n",
       "618        0.0      NaN  \n",
       "...        ...      ...  \n",
       "3104       NaN      0.0  \n",
       "3739       NaN      0.0  \n",
       "4421       NaN      0.0  \n",
       "225        NaN      1.0  \n",
       "1061       NaN      1.0  \n",
       "\n",
       "[79 rows x 11 columns]"
      ]
     },
     "execution_count": 182,
     "metadata": {},
     "output_type": "execute_result"
    }
   ],
   "source": [
    "causeofdeath"
   ]
  },
  {
   "cell_type": "code",
   "execution_count": 190,
   "id": "0e4e6f46",
   "metadata": {
    "scrolled": true
   },
   "outputs": [
    {
     "data": {
      "text/plain": [
       "Asphyxia\n",
       "0.0    89.873418\n",
       "1.0    10.126582\n",
       "Name: count, dtype: float64"
      ]
     },
     "execution_count": 190,
     "metadata": {},
     "output_type": "execute_result"
    }
   ],
   "source": [
    "(causeofdeath['Asphyxia'].value_counts()/len(causeofdeath))*100 "
   ]
  },
  {
   "cell_type": "code",
   "execution_count": 192,
   "id": "b3d669e5",
   "metadata": {},
   "outputs": [
    {
     "data": {
      "text/plain": [
       "prematurity\n",
       "0.0    74.683544\n",
       "1.0    25.316456\n",
       "Name: count, dtype: float64"
      ]
     },
     "execution_count": 192,
     "metadata": {},
     "output_type": "execute_result"
    }
   ],
   "source": [
    "(causeofdeath['prematurity'].value_counts()/len(causeofdeath))*100 "
   ]
  },
  {
   "cell_type": "code",
   "execution_count": 196,
   "id": "056567af",
   "metadata": {},
   "outputs": [
    {
     "data": {
      "text/plain": [
       "neontal jaundice\n",
       "0.0    93.670886\n",
       "1.0     6.329114\n",
       "Name: count, dtype: float64"
      ]
     },
     "execution_count": 196,
     "metadata": {},
     "output_type": "execute_result"
    }
   ],
   "source": [
    "(causeofdeath['neontal jaundice'].value_counts()/len(causeofdeath))*100 "
   ]
  },
  {
   "cell_type": "code",
   "execution_count": 197,
   "id": "262afe15",
   "metadata": {
    "scrolled": true
   },
   "outputs": [
    {
     "data": {
      "text/plain": [
       "Pneumonia\n",
       "0.0    89.873418\n",
       "1.0    10.126582\n",
       "Name: count, dtype: float64"
      ]
     },
     "execution_count": 197,
     "metadata": {},
     "output_type": "execute_result"
    }
   ],
   "source": [
    "(causeofdeath['Pneumonia'].value_counts()/len(causeofdeath))*100 "
   ]
  },
  {
   "cell_type": "code",
   "execution_count": 198,
   "id": "c76e0a9c",
   "metadata": {},
   "outputs": [
    {
     "data": {
      "text/plain": [
       "neonatal sepsis\n",
       "0.0    86.075949\n",
       "1.0    13.924051\n",
       "Name: count, dtype: float64"
      ]
     },
     "execution_count": 198,
     "metadata": {},
     "output_type": "execute_result"
    }
   ],
   "source": [
    "(causeofdeath['neonatal sepsis'].value_counts()/len(causeofdeath))*100 "
   ]
  },
  {
   "cell_type": "code",
   "execution_count": 199,
   "id": "dfca1265",
   "metadata": {},
   "outputs": [
    {
     "data": {
      "text/plain": [
       "neonatal tetanus\n",
       "0.0    100.0\n",
       "Name: count, dtype: float64"
      ]
     },
     "execution_count": 199,
     "metadata": {},
     "output_type": "execute_result"
    }
   ],
   "source": [
    "(causeofdeath['neonatal tetanus'].value_counts()/len(causeofdeath))*100 "
   ]
  },
  {
   "cell_type": "code",
   "execution_count": 200,
   "id": "c0f443e0",
   "metadata": {
    "scrolled": true
   },
   "outputs": [
    {
     "data": {
      "text/plain": [
       "congenital malformation\n",
       "0.0    92.405063\n",
       "1.0     7.594937\n",
       "Name: count, dtype: float64"
      ]
     },
     "execution_count": 200,
     "metadata": {},
     "output_type": "execute_result"
    }
   ],
   "source": [
    "(causeofdeath['congenital malformation'].value_counts()/len(causeofdeath))*100 "
   ]
  },
  {
   "cell_type": "code",
   "execution_count": 201,
   "id": "7afe1bfe",
   "metadata": {
    "scrolled": true
   },
   "outputs": [
    {
     "data": {
      "text/plain": [
       "Others\n",
       "0.0    64.556962\n",
       "1.0    35.443038\n",
       "Name: count, dtype: float64"
      ]
     },
     "execution_count": 201,
     "metadata": {},
     "output_type": "execute_result"
    }
   ],
   "source": [
    "(causeofdeath['Others'].value_counts()/len(causeofdeath))*100 "
   ]
  },
  {
   "cell_type": "code",
   "execution_count": 233,
   "id": "e860b9be",
   "metadata": {},
   "outputs": [
    {
     "data": {
      "text/plain": [
       "Unknown\n",
       "0.0    55.696203\n",
       "1.0    12.658228\n",
       "Name: count, dtype: float64"
      ]
     },
     "execution_count": 233,
     "metadata": {},
     "output_type": "execute_result"
    }
   ],
   "source": [
    "(causeofdeath['Unknown'].value_counts()/len(causeofdeath))*100 "
   ]
  },
  {
   "cell_type": "code",
   "execution_count": 191,
   "id": "8b52cd78",
   "metadata": {},
   "outputs": [
    {
     "data": {
      "text/plain": [
       "Index(['Death', 'Asphyxia', 'prematurity', 'neontal jaundice', 'Pneumonia',\n",
       "       'neonatal sepsis', 'neonatal tetanus', 'congenital malformation',\n",
       "       'Others', 'Un known', 'Unknown'],\n",
       "      dtype='object')"
      ]
     },
     "execution_count": 191,
     "metadata": {},
     "output_type": "execute_result"
    }
   ],
   "source": [
    "causeofdeath.columns"
   ]
  },
  {
   "cell_type": "code",
   "execution_count": 205,
   "id": "efc2452d",
   "metadata": {},
   "outputs": [
    {
     "data": {
      "text/html": [
       "<div>\n",
       "<style scoped>\n",
       "    .dataframe tbody tr th:only-of-type {\n",
       "        vertical-align: middle;\n",
       "    }\n",
       "\n",
       "    .dataframe tbody tr th {\n",
       "        vertical-align: top;\n",
       "    }\n",
       "\n",
       "    .dataframe thead th {\n",
       "        text-align: right;\n",
       "    }\n",
       "</style>\n",
       "<table border=\"1\" class=\"dataframe\">\n",
       "  <thead>\n",
       "    <tr style=\"text-align: right;\">\n",
       "      <th></th>\n",
       "      <th>Death</th>\n",
       "      <th>Asphyxia</th>\n",
       "      <th>prematurity</th>\n",
       "      <th>neontal jaundice</th>\n",
       "      <th>Pneumonia</th>\n",
       "      <th>neonatal sepsis</th>\n",
       "      <th>neonatal tetanus</th>\n",
       "      <th>congenital malformation</th>\n",
       "      <th>Others</th>\n",
       "      <th>Un known</th>\n",
       "      <th>Unknown</th>\n",
       "    </tr>\n",
       "  </thead>\n",
       "  <tbody>\n",
       "    <tr>\n",
       "      <th>52</th>\n",
       "      <td>09may2019</td>\n",
       "      <td>0.0</td>\n",
       "      <td>1.0</td>\n",
       "      <td>0.0</td>\n",
       "      <td>0.0</td>\n",
       "      <td>0.0</td>\n",
       "      <td>0.0</td>\n",
       "      <td>0.0</td>\n",
       "      <td>0.0</td>\n",
       "      <td>0.0</td>\n",
       "      <td>NaN</td>\n",
       "    </tr>\n",
       "    <tr>\n",
       "      <th>74</th>\n",
       "      <td>16jun2019</td>\n",
       "      <td>0.0</td>\n",
       "      <td>1.0</td>\n",
       "      <td>0.0</td>\n",
       "      <td>0.0</td>\n",
       "      <td>0.0</td>\n",
       "      <td>0.0</td>\n",
       "      <td>0.0</td>\n",
       "      <td>0.0</td>\n",
       "      <td>0.0</td>\n",
       "      <td>NaN</td>\n",
       "    </tr>\n",
       "    <tr>\n",
       "      <th>149</th>\n",
       "      <td>16oct2019</td>\n",
       "      <td>0.0</td>\n",
       "      <td>0.0</td>\n",
       "      <td>0.0</td>\n",
       "      <td>0.0</td>\n",
       "      <td>0.0</td>\n",
       "      <td>0.0</td>\n",
       "      <td>0.0</td>\n",
       "      <td>0.0</td>\n",
       "      <td>1.0</td>\n",
       "      <td>NaN</td>\n",
       "    </tr>\n",
       "    <tr>\n",
       "      <th>197</th>\n",
       "      <td>26jan2019</td>\n",
       "      <td>0.0</td>\n",
       "      <td>1.0</td>\n",
       "      <td>0.0</td>\n",
       "      <td>0.0</td>\n",
       "      <td>0.0</td>\n",
       "      <td>0.0</td>\n",
       "      <td>0.0</td>\n",
       "      <td>0.0</td>\n",
       "      <td>0.0</td>\n",
       "      <td>NaN</td>\n",
       "    </tr>\n",
       "    <tr>\n",
       "      <th>618</th>\n",
       "      <td>16jul2020</td>\n",
       "      <td>0.0</td>\n",
       "      <td>0.0</td>\n",
       "      <td>0.0</td>\n",
       "      <td>0.0</td>\n",
       "      <td>0.0</td>\n",
       "      <td>0.0</td>\n",
       "      <td>0.0</td>\n",
       "      <td>1.0</td>\n",
       "      <td>0.0</td>\n",
       "      <td>NaN</td>\n",
       "    </tr>\n",
       "    <tr>\n",
       "      <th>...</th>\n",
       "      <td>...</td>\n",
       "      <td>...</td>\n",
       "      <td>...</td>\n",
       "      <td>...</td>\n",
       "      <td>...</td>\n",
       "      <td>...</td>\n",
       "      <td>...</td>\n",
       "      <td>...</td>\n",
       "      <td>...</td>\n",
       "      <td>...</td>\n",
       "      <td>...</td>\n",
       "    </tr>\n",
       "    <tr>\n",
       "      <th>3104</th>\n",
       "      <td>20jul2019</td>\n",
       "      <td>0.0</td>\n",
       "      <td>0.0</td>\n",
       "      <td>0.0</td>\n",
       "      <td>0.0</td>\n",
       "      <td>0.0</td>\n",
       "      <td>0.0</td>\n",
       "      <td>0.0</td>\n",
       "      <td>0.0</td>\n",
       "      <td>NaN</td>\n",
       "      <td>0.0</td>\n",
       "    </tr>\n",
       "    <tr>\n",
       "      <th>3739</th>\n",
       "      <td>19jan2019</td>\n",
       "      <td>0.0</td>\n",
       "      <td>0.0</td>\n",
       "      <td>0.0</td>\n",
       "      <td>1.0</td>\n",
       "      <td>0.0</td>\n",
       "      <td>0.0</td>\n",
       "      <td>0.0</td>\n",
       "      <td>0.0</td>\n",
       "      <td>NaN</td>\n",
       "      <td>0.0</td>\n",
       "    </tr>\n",
       "    <tr>\n",
       "      <th>4421</th>\n",
       "      <td>08dec2018</td>\n",
       "      <td>0.0</td>\n",
       "      <td>0.0</td>\n",
       "      <td>0.0</td>\n",
       "      <td>0.0</td>\n",
       "      <td>0.0</td>\n",
       "      <td>0.0</td>\n",
       "      <td>0.0</td>\n",
       "      <td>1.0</td>\n",
       "      <td>NaN</td>\n",
       "      <td>0.0</td>\n",
       "    </tr>\n",
       "    <tr>\n",
       "      <th>225</th>\n",
       "      <td>14jul2020</td>\n",
       "      <td>0.0</td>\n",
       "      <td>0.0</td>\n",
       "      <td>0.0</td>\n",
       "      <td>0.0</td>\n",
       "      <td>0.0</td>\n",
       "      <td>0.0</td>\n",
       "      <td>0.0</td>\n",
       "      <td>0.0</td>\n",
       "      <td>NaN</td>\n",
       "      <td>1.0</td>\n",
       "    </tr>\n",
       "    <tr>\n",
       "      <th>1061</th>\n",
       "      <td>15oct2020</td>\n",
       "      <td>0.0</td>\n",
       "      <td>0.0</td>\n",
       "      <td>0.0</td>\n",
       "      <td>0.0</td>\n",
       "      <td>0.0</td>\n",
       "      <td>0.0</td>\n",
       "      <td>0.0</td>\n",
       "      <td>0.0</td>\n",
       "      <td>NaN</td>\n",
       "      <td>1.0</td>\n",
       "    </tr>\n",
       "  </tbody>\n",
       "</table>\n",
       "<p>79 rows × 11 columns</p>\n",
       "</div>"
      ],
      "text/plain": [
       "          Death  Asphyxia  prematurity  neontal jaundice  Pneumonia   \n",
       "52    09may2019       0.0          1.0               0.0        0.0  \\\n",
       "74    16jun2019       0.0          1.0               0.0        0.0   \n",
       "149   16oct2019       0.0          0.0               0.0        0.0   \n",
       "197   26jan2019       0.0          1.0               0.0        0.0   \n",
       "618   16jul2020       0.0          0.0               0.0        0.0   \n",
       "...         ...       ...          ...               ...        ...   \n",
       "3104  20jul2019       0.0          0.0               0.0        0.0   \n",
       "3739  19jan2019       0.0          0.0               0.0        1.0   \n",
       "4421  08dec2018       0.0          0.0               0.0        0.0   \n",
       "225   14jul2020       0.0          0.0               0.0        0.0   \n",
       "1061  15oct2020       0.0          0.0               0.0        0.0   \n",
       "\n",
       "      neonatal sepsis  neonatal tetanus  congenital malformation  Others   \n",
       "52                0.0               0.0                      0.0     0.0  \\\n",
       "74                0.0               0.0                      0.0     0.0   \n",
       "149               0.0               0.0                      0.0     0.0   \n",
       "197               0.0               0.0                      0.0     0.0   \n",
       "618               0.0               0.0                      0.0     1.0   \n",
       "...               ...               ...                      ...     ...   \n",
       "3104              0.0               0.0                      0.0     0.0   \n",
       "3739              0.0               0.0                      0.0     0.0   \n",
       "4421              0.0               0.0                      0.0     1.0   \n",
       "225               0.0               0.0                      0.0     0.0   \n",
       "1061              0.0               0.0                      0.0     0.0   \n",
       "\n",
       "      Un known  Unknown  \n",
       "52         0.0      NaN  \n",
       "74         0.0      NaN  \n",
       "149        1.0      NaN  \n",
       "197        0.0      NaN  \n",
       "618        0.0      NaN  \n",
       "...        ...      ...  \n",
       "3104       NaN      0.0  \n",
       "3739       NaN      0.0  \n",
       "4421       NaN      0.0  \n",
       "225        NaN      1.0  \n",
       "1061       NaN      1.0  \n",
       "\n",
       "[79 rows x 11 columns]"
      ]
     },
     "execution_count": 205,
     "metadata": {},
     "output_type": "execute_result"
    }
   ],
   "source": [
    "causeofdeath"
   ]
  },
  {
   "cell_type": "code",
   "execution_count": 207,
   "id": "4eff7f87",
   "metadata": {},
   "outputs": [],
   "source": [
    "result=pd.read_csv('result.csv')"
   ]
  },
  {
   "cell_type": "code",
   "execution_count": 211,
   "id": "6cbae5c7",
   "metadata": {},
   "outputs": [
    {
     "data": {
      "text/html": [
       "<div>\n",
       "<style scoped>\n",
       "    .dataframe tbody tr th:only-of-type {\n",
       "        vertical-align: middle;\n",
       "    }\n",
       "\n",
       "    .dataframe tbody tr th {\n",
       "        vertical-align: top;\n",
       "    }\n",
       "\n",
       "    .dataframe thead th {\n",
       "        text-align: right;\n",
       "    }\n",
       "</style>\n",
       "<table border=\"1\" class=\"dataframe\">\n",
       "  <thead>\n",
       "    <tr style=\"text-align: right;\">\n",
       "      <th></th>\n",
       "      <th>Cause of Death</th>\n",
       "      <th>proportion</th>\n",
       "    </tr>\n",
       "  </thead>\n",
       "  <tbody>\n",
       "    <tr>\n",
       "      <th>0</th>\n",
       "      <td>Asphyxia</td>\n",
       "      <td>10.13</td>\n",
       "    </tr>\n",
       "    <tr>\n",
       "      <th>1</th>\n",
       "      <td>prematurity</td>\n",
       "      <td>25.31</td>\n",
       "    </tr>\n",
       "    <tr>\n",
       "      <th>2</th>\n",
       "      <td>Neontal Jaundice</td>\n",
       "      <td>6.33</td>\n",
       "    </tr>\n",
       "    <tr>\n",
       "      <th>3</th>\n",
       "      <td>Pneumonia</td>\n",
       "      <td>10.13</td>\n",
       "    </tr>\n",
       "    <tr>\n",
       "      <th>4</th>\n",
       "      <td>Neonatal Sepsis</td>\n",
       "      <td>13.92</td>\n",
       "    </tr>\n",
       "    <tr>\n",
       "      <th>5</th>\n",
       "      <td>Neonatal tetanus</td>\n",
       "      <td>0.00</td>\n",
       "    </tr>\n",
       "    <tr>\n",
       "      <th>6</th>\n",
       "      <td>Congenital malformation</td>\n",
       "      <td>7.60</td>\n",
       "    </tr>\n",
       "    <tr>\n",
       "      <th>7</th>\n",
       "      <td>Others</td>\n",
       "      <td>35.44</td>\n",
       "    </tr>\n",
       "    <tr>\n",
       "      <th>8</th>\n",
       "      <td>Unknown</td>\n",
       "      <td>12.66</td>\n",
       "    </tr>\n",
       "  </tbody>\n",
       "</table>\n",
       "</div>"
      ],
      "text/plain": [
       "            Cause of Death  proportion\n",
       "0                 Asphyxia       10.13\n",
       "1              prematurity       25.31\n",
       "2         Neontal Jaundice        6.33\n",
       "3                Pneumonia       10.13\n",
       "4          Neonatal Sepsis       13.92\n",
       "5         Neonatal tetanus        0.00\n",
       "6  Congenital malformation        7.60\n",
       "7                   Others       35.44\n",
       "8                  Unknown       12.66"
      ]
     },
     "execution_count": 211,
     "metadata": {},
     "output_type": "execute_result"
    }
   ],
   "source": [
    "result.head(9)"
   ]
  },
  {
   "cell_type": "code",
   "execution_count": null,
   "id": "bbe3eab5",
   "metadata": {
    "scrolled": false
   },
   "outputs": [],
   "source": []
  },
  {
   "cell_type": "code",
   "execution_count": null,
   "id": "48c95ae9",
   "metadata": {},
   "outputs": [],
   "source": []
  },
  {
   "cell_type": "code",
   "execution_count": 272,
   "id": "a860b34c",
   "metadata": {
    "scrolled": false
   },
   "outputs": [
    {
     "data": {
      "image/png": "[encoded data removed]",
      "text/plain": [
       "<Figure size 1000x800 with 1 Axes>"
      ]
     },
     "metadata": {},
     "output_type": "display_data"
    }
   ],
   "source": [
    "plt.figure(figsize=(10,8))\n",
    "sns.barplot(result, x=\"proportion\", y=\"Cause of Death\",palette='viridis').set_title('Neonatal cause of death')\n",
    "y=result['proportion']\n",
    "for index, value in enumerate(y):\n",
    "    plt.text(value, index,str(value))\n",
    "plt.show()"
   ]
  },
  {
   "cell_type": "code",
   "execution_count": null,
   "id": "c5748537",
   "metadata": {},
   "outputs": [],
   "source": []
  },
  {
   "cell_type": "code",
   "execution_count": null,
   "id": "227cde74",
   "metadata": {},
   "outputs": [],
   "source": [
    "#Total Number of death from cc1_1 forms \n",
    "4634-data['cddeath_cf1_1'].isnull().sum()"
   ]
  },
  {
   "cell_type": "code",
   "execution_count": null,
   "id": "50041134",
   "metadata": {},
   "outputs": [],
   "source": []
  },
  {
   "cell_type": "code",
   "execution_count": null,
   "id": "b94f260d",
   "metadata": {},
   "outputs": [],
   "source": [
    " "
   ]
  },
  {
   "cell_type": "code",
   "execution_count": null,
   "id": "1136b062",
   "metadata": {},
   "outputs": [],
   "source": []
  },
  {
   "cell_type": "code",
   "execution_count": 41,
   "id": "435a58c9",
   "metadata": {},
   "outputs": [
    {
     "data": {
      "text/plain": [
       "4611"
      ]
     },
     "execution_count": 41,
     "metadata": {},
     "output_type": "execute_result"
    }
   ],
   "source": [
    "#NC2=Neonatal Follow-up: Day 6, 28, 42 Community\n",
    "#NF2=Neonatal Follow-up: Day 6, 28, 42 Facility\n",
    "#NC2-Nf2\n",
    "\n",
    "data['cddeath_nc2_nf2_1'].isnull().sum()"
   ]
  },
  {
   "cell_type": "code",
   "execution_count": 318,
   "id": "83554e72",
   "metadata": {
    "scrolled": true
   },
   "outputs": [
    {
     "data": {
      "text/plain": [
       "4629"
      ]
     },
     "execution_count": 318,
     "metadata": {},
     "output_type": "execute_result"
    }
   ],
   "source": [
    "data['cddeath_nc2_nf2_2'].isnull().sum()"
   ]
  },
  {
   "cell_type": "code",
   "execution_count": 44,
   "id": "001b45e9",
   "metadata": {},
   "outputs": [
    {
     "data": {
      "text/plain": [
       "4632"
      ]
     },
     "execution_count": 44,
     "metadata": {},
     "output_type": "execute_result"
    }
   ],
   "source": [
    "data['cddeath_nc2_nf2_3'].isnull().sum()"
   ]
  },
  {
   "cell_type": "code",
   "execution_count": 312,
   "id": "0a9b047c",
   "metadata": {},
   "outputs": [
    {
     "data": {
      "text/plain": [
       "23"
      ]
     },
     "execution_count": 312,
     "metadata": {},
     "output_type": "execute_result"
    }
   ],
   "source": [
    "#Total Number of death\n",
    "4634-data['cddeath_nc2_nf2_1'].isnull().sum()"
   ]
  },
  {
   "cell_type": "code",
   "execution_count": 314,
   "id": "edcf4ee1",
   "metadata": {},
   "outputs": [
    {
     "data": {
      "text/plain": [
       "5"
      ]
     },
     "execution_count": 314,
     "metadata": {},
     "output_type": "execute_result"
    }
   ],
   "source": [
    "#Total Number of death\n",
    "4634-data['cddeath_nc2_nf2_2'].isnull().sum()"
   ]
  },
  {
   "cell_type": "code",
   "execution_count": 320,
   "id": "48309782",
   "metadata": {},
   "outputs": [
    {
     "data": {
      "text/plain": [
       "2"
      ]
     },
     "execution_count": 320,
     "metadata": {},
     "output_type": "execute_result"
    }
   ],
   "source": [
    "#Total Number of death\n",
    "4634-data['cddeath_nc2_nf2_3'].isnull().sum()"
   ]
  },
  {
   "cell_type": "code",
   "execution_count": 326,
   "id": "91cee46a",
   "metadata": {},
   "outputs": [
    {
     "data": {
      "text/plain": [
       "4627"
      ]
     },
     "execution_count": 326,
     "metadata": {},
     "output_type": "execute_result"
    }
   ],
   "source": [
    "#NC3=Neonatal morbidity (Community)\n",
    "data['cddeath_nc3_1'].isnull().sum()"
   ]
  },
  {
   "cell_type": "code",
   "execution_count": 331,
   "id": "20e06b4f",
   "metadata": {},
   "outputs": [
    {
     "data": {
      "text/plain": [
       "4633"
      ]
     },
     "execution_count": 331,
     "metadata": {},
     "output_type": "execute_result"
    }
   ],
   "source": [
    "data['cddeath_nc3_2'].isnull().sum()"
   ]
  },
  {
   "cell_type": "code",
   "execution_count": 327,
   "id": "4876c1f4",
   "metadata": {},
   "outputs": [
    {
     "data": {
      "text/plain": [
       "7"
      ]
     },
     "execution_count": 327,
     "metadata": {},
     "output_type": "execute_result"
    }
   ],
   "source": [
    "#Total Number of death\n",
    "4634-data['cddeath_nc3_1'].isnull().sum()"
   ]
  },
  {
   "cell_type": "code",
   "execution_count": 332,
   "id": "ca04c10c",
   "metadata": {},
   "outputs": [
    {
     "data": {
      "text/plain": [
       "1"
      ]
     },
     "execution_count": 332,
     "metadata": {},
     "output_type": "execute_result"
    }
   ],
   "source": [
    "#Total Number of death\n",
    "4634-data['cddeath_nc3_2'].isnull().sum()"
   ]
  },
  {
   "cell_type": "code",
   "execution_count": 337,
   "id": "a9e142e7",
   "metadata": {},
   "outputs": [
    {
     "data": {
      "text/plain": [
       "4632"
      ]
     },
     "execution_count": 337,
     "metadata": {},
     "output_type": "execute_result"
    }
   ],
   "source": [
    "#NF3: Neonatal outpatient visit\n",
    "data['cddeath_nf3_1'].isnull().sum()"
   ]
  },
  {
   "cell_type": "code",
   "execution_count": 338,
   "id": "3d9b78c6",
   "metadata": {},
   "outputs": [
    {
     "data": {
      "text/plain": [
       "2"
      ]
     },
     "execution_count": 338,
     "metadata": {},
     "output_type": "execute_result"
    }
   ],
   "source": [
    "4634-data['cddeath_nf3_1'].isnull().sum()"
   ]
  },
  {
   "cell_type": "code",
   "execution_count": 344,
   "id": "90f730ef",
   "metadata": {},
   "outputs": [
    {
     "data": {
      "text/plain": [
       "4622"
      ]
     },
     "execution_count": 344,
     "metadata": {},
     "output_type": "execute_result"
    }
   ],
   "source": [
    "#NF5: Neonatal discharge\n",
    "data['cddeath_nf5_1'].isnull().sum()"
   ]
  },
  {
   "cell_type": "code",
   "execution_count": 346,
   "id": "dc1d35f2",
   "metadata": {},
   "outputs": [
    {
     "data": {
      "text/plain": [
       "4631"
      ]
     },
     "execution_count": 346,
     "metadata": {},
     "output_type": "execute_result"
    }
   ],
   "source": [
    "data['cddeath_nf5_2'].isnull().sum()"
   ]
  },
  {
   "cell_type": "code",
   "execution_count": 11,
   "id": "15318e46",
   "metadata": {},
   "outputs": [
    {
     "data": {
      "text/plain": [
       "12"
      ]
     },
     "execution_count": 11,
     "metadata": {},
     "output_type": "execute_result"
    }
   ],
   "source": [
    "4634-data['cddeath_nf5_1'].isnull().sum()"
   ]
  },
  {
   "cell_type": "code",
   "execution_count": 10,
   "id": "e2fd1f19",
   "metadata": {
    "scrolled": true
   },
   "outputs": [
    {
     "data": {
      "text/plain": [
       "3"
      ]
     },
     "execution_count": 10,
     "metadata": {},
     "output_type": "execute_result"
    }
   ],
   "source": [
    "4634-data['cddeath_nf5_2'].isnull().sum()"
   ]
  },
  {
   "cell_type": "code",
   "execution_count": null,
   "id": "ad42fd69",
   "metadata": {},
   "outputs": [],
   "source": [
    "#NF5_1 cause of death\n",
    "#codo_nf5_1....for specify others\n",
    "#coduk_nf5_1...for cause of death unknown\n"
   ]
  },
  {
   "cell_type": "code",
   "execution_count": 12,
   "id": "b64b9ae9",
   "metadata": {},
   "outputs": [],
   "source": [
    "df=pd.DataFrame(data[['cddeath_nf5_1','codbirthasphyx_nf5_1','codpremature_nf5_1','codjdice_nf5_1','codpna_nf5_1','codsepsis_nf5_1','codtetanus_nf5_1','codcongenmal_nf5_1','codo_nf5_1','coduk_nf5_1']])"
   ]
  },
  {
   "cell_type": "code",
   "execution_count": 13,
   "id": "cb69cefd",
   "metadata": {},
   "outputs": [],
   "source": [
    "df1 = df[df.notnull().all(axis=1)]"
   ]
  },
  {
   "cell_type": "code",
   "execution_count": 16,
   "id": "d36b3bb1",
   "metadata": {},
   "outputs": [
    {
     "data": {
      "text/html": [
       "<div>\n",
       "<style scoped>\n",
       "    .dataframe tbody tr th:only-of-type {\n",
       "        vertical-align: middle;\n",
       "    }\n",
       "\n",
       "    .dataframe tbody tr th {\n",
       "        vertical-align: top;\n",
       "    }\n",
       "\n",
       "    .dataframe thead th {\n",
       "        text-align: right;\n",
       "    }\n",
       "</style>\n",
       "<table border=\"1\" class=\"dataframe\">\n",
       "  <thead>\n",
       "    <tr style=\"text-align: right;\">\n",
       "      <th></th>\n",
       "      <th>cddeath_nf5_1</th>\n",
       "      <th>codbirthasphyx_nf5_1</th>\n",
       "      <th>codpremature_nf5_1</th>\n",
       "      <th>codjdice_nf5_1</th>\n",
       "      <th>codpna_nf5_1</th>\n",
       "      <th>codsepsis_nf5_1</th>\n",
       "      <th>codtetanus_nf5_1</th>\n",
       "      <th>codcongenmal_nf5_1</th>\n",
       "      <th>codo_nf5_1</th>\n",
       "      <th>coduk_nf5_1</th>\n",
       "    </tr>\n",
       "  </thead>\n",
       "  <tbody>\n",
       "    <tr>\n",
       "      <th>75</th>\n",
       "      <td>30mar2019</td>\n",
       "      <td>0.0</td>\n",
       "      <td>1.0</td>\n",
       "      <td>1.0</td>\n",
       "      <td>0.0</td>\n",
       "      <td>1.0</td>\n",
       "      <td>0.0</td>\n",
       "      <td>0.0</td>\n",
       "      <td>1.0</td>\n",
       "      <td>0.0</td>\n",
       "    </tr>\n",
       "    <tr>\n",
       "      <th>88</th>\n",
       "      <td>20jan2020</td>\n",
       "      <td>1.0</td>\n",
       "      <td>0.0</td>\n",
       "      <td>0.0</td>\n",
       "      <td>0.0</td>\n",
       "      <td>1.0</td>\n",
       "      <td>0.0</td>\n",
       "      <td>0.0</td>\n",
       "      <td>0.0</td>\n",
       "      <td>0.0</td>\n",
       "    </tr>\n",
       "    <tr>\n",
       "      <th>149</th>\n",
       "      <td>16oct2019</td>\n",
       "      <td>1.0</td>\n",
       "      <td>0.0</td>\n",
       "      <td>0.0</td>\n",
       "      <td>0.0</td>\n",
       "      <td>0.0</td>\n",
       "      <td>0.0</td>\n",
       "      <td>0.0</td>\n",
       "      <td>1.0</td>\n",
       "      <td>0.0</td>\n",
       "    </tr>\n",
       "    <tr>\n",
       "      <th>1188</th>\n",
       "      <td>14feb2019</td>\n",
       "      <td>0.0</td>\n",
       "      <td>0.0</td>\n",
       "      <td>0.0</td>\n",
       "      <td>0.0</td>\n",
       "      <td>0.0</td>\n",
       "      <td>0.0</td>\n",
       "      <td>0.0</td>\n",
       "      <td>1.0</td>\n",
       "      <td>0.0</td>\n",
       "    </tr>\n",
       "    <tr>\n",
       "      <th>1810</th>\n",
       "      <td>03nov2019</td>\n",
       "      <td>0.0</td>\n",
       "      <td>0.0</td>\n",
       "      <td>0.0</td>\n",
       "      <td>0.0</td>\n",
       "      <td>0.0</td>\n",
       "      <td>0.0</td>\n",
       "      <td>1.0</td>\n",
       "      <td>1.0</td>\n",
       "      <td>0.0</td>\n",
       "    </tr>\n",
       "    <tr>\n",
       "      <th>2881</th>\n",
       "      <td>19may2019</td>\n",
       "      <td>0.0</td>\n",
       "      <td>1.0</td>\n",
       "      <td>0.0</td>\n",
       "      <td>0.0</td>\n",
       "      <td>0.0</td>\n",
       "      <td>0.0</td>\n",
       "      <td>0.0</td>\n",
       "      <td>1.0</td>\n",
       "      <td>0.0</td>\n",
       "    </tr>\n",
       "    <tr>\n",
       "      <th>3135</th>\n",
       "      <td>01dec2019</td>\n",
       "      <td>0.0</td>\n",
       "      <td>1.0</td>\n",
       "      <td>0.0</td>\n",
       "      <td>0.0</td>\n",
       "      <td>0.0</td>\n",
       "      <td>0.0</td>\n",
       "      <td>0.0</td>\n",
       "      <td>0.0</td>\n",
       "      <td>0.0</td>\n",
       "    </tr>\n",
       "    <tr>\n",
       "      <th>3341</th>\n",
       "      <td>24dec2019</td>\n",
       "      <td>0.0</td>\n",
       "      <td>1.0</td>\n",
       "      <td>0.0</td>\n",
       "      <td>0.0</td>\n",
       "      <td>0.0</td>\n",
       "      <td>0.0</td>\n",
       "      <td>0.0</td>\n",
       "      <td>0.0</td>\n",
       "      <td>0.0</td>\n",
       "    </tr>\n",
       "    <tr>\n",
       "      <th>3590</th>\n",
       "      <td>06dec2019</td>\n",
       "      <td>0.0</td>\n",
       "      <td>1.0</td>\n",
       "      <td>0.0</td>\n",
       "      <td>0.0</td>\n",
       "      <td>1.0</td>\n",
       "      <td>0.0</td>\n",
       "      <td>0.0</td>\n",
       "      <td>0.0</td>\n",
       "      <td>0.0</td>\n",
       "    </tr>\n",
       "    <tr>\n",
       "      <th>3632</th>\n",
       "      <td>15apr2019</td>\n",
       "      <td>0.0</td>\n",
       "      <td>1.0</td>\n",
       "      <td>0.0</td>\n",
       "      <td>0.0</td>\n",
       "      <td>1.0</td>\n",
       "      <td>0.0</td>\n",
       "      <td>0.0</td>\n",
       "      <td>0.0</td>\n",
       "      <td>0.0</td>\n",
       "    </tr>\n",
       "    <tr>\n",
       "      <th>4005</th>\n",
       "      <td>13mar2020</td>\n",
       "      <td>0.0</td>\n",
       "      <td>0.0</td>\n",
       "      <td>0.0</td>\n",
       "      <td>0.0</td>\n",
       "      <td>1.0</td>\n",
       "      <td>0.0</td>\n",
       "      <td>0.0</td>\n",
       "      <td>1.0</td>\n",
       "      <td>0.0</td>\n",
       "    </tr>\n",
       "    <tr>\n",
       "      <th>4159</th>\n",
       "      <td>06may2019</td>\n",
       "      <td>0.0</td>\n",
       "      <td>1.0</td>\n",
       "      <td>0.0</td>\n",
       "      <td>0.0</td>\n",
       "      <td>0.0</td>\n",
       "      <td>0.0</td>\n",
       "      <td>0.0</td>\n",
       "      <td>1.0</td>\n",
       "      <td>0.0</td>\n",
       "    </tr>\n",
       "  </tbody>\n",
       "</table>\n",
       "</div>"
      ],
      "text/plain": [
       "     cddeath_nf5_1  codbirthasphyx_nf5_1  codpremature_nf5_1  codjdice_nf5_1   \n",
       "75       30mar2019                   0.0                 1.0             1.0  \\\n",
       "88       20jan2020                   1.0                 0.0             0.0   \n",
       "149      16oct2019                   1.0                 0.0             0.0   \n",
       "1188     14feb2019                   0.0                 0.0             0.0   \n",
       "1810     03nov2019                   0.0                 0.0             0.0   \n",
       "2881     19may2019                   0.0                 1.0             0.0   \n",
       "3135     01dec2019                   0.0                 1.0             0.0   \n",
       "3341     24dec2019                   0.0                 1.0             0.0   \n",
       "3590     06dec2019                   0.0                 1.0             0.0   \n",
       "3632     15apr2019                   0.0                 1.0             0.0   \n",
       "4005     13mar2020                   0.0                 0.0             0.0   \n",
       "4159     06may2019                   0.0                 1.0             0.0   \n",
       "\n",
       "      codpna_nf5_1  codsepsis_nf5_1  codtetanus_nf5_1  codcongenmal_nf5_1   \n",
       "75             0.0              1.0               0.0                 0.0  \\\n",
       "88             0.0              1.0               0.0                 0.0   \n",
       "149            0.0              0.0               0.0                 0.0   \n",
       "1188           0.0              0.0               0.0                 0.0   \n",
       "1810           0.0              0.0               0.0                 1.0   \n",
       "2881           0.0              0.0               0.0                 0.0   \n",
       "3135           0.0              0.0               0.0                 0.0   \n",
       "3341           0.0              0.0               0.0                 0.0   \n",
       "3590           0.0              1.0               0.0                 0.0   \n",
       "3632           0.0              1.0               0.0                 0.0   \n",
       "4005           0.0              1.0               0.0                 0.0   \n",
       "4159           0.0              0.0               0.0                 0.0   \n",
       "\n",
       "      codo_nf5_1  coduk_nf5_1  \n",
       "75           1.0          0.0  \n",
       "88           0.0          0.0  \n",
       "149          1.0          0.0  \n",
       "1188         1.0          0.0  \n",
       "1810         1.0          0.0  \n",
       "2881         1.0          0.0  \n",
       "3135         0.0          0.0  \n",
       "3341         0.0          0.0  \n",
       "3590         0.0          0.0  \n",
       "3632         0.0          0.0  \n",
       "4005         1.0          0.0  \n",
       "4159         1.0          0.0  "
      ]
     },
     "execution_count": 16,
     "metadata": {},
     "output_type": "execute_result"
    }
   ],
   "source": [
    "df1"
   ]
  },
  {
   "cell_type": "code",
   "execution_count": null,
   "id": "c56b587d",
   "metadata": {},
   "outputs": [],
   "source": [
    "#NF5_2 cause of death"
   ]
  },
  {
   "cell_type": "code",
   "execution_count": 18,
   "id": "a5f6fcca",
   "metadata": {},
   "outputs": [],
   "source": [
    "df2=pd.DataFrame(data[['cddeath_nf5_2','codbirthasphyx_nf5_2','codpremature_nf5_2','codjdice_nf5_2','codpna_nf5_2','codsepsis_nf5_2','codtetanus_nf5_2','codcongenmal_nf5_2']])"
   ]
  },
  {
   "cell_type": "code",
   "execution_count": 19,
   "id": "aecebcf1",
   "metadata": {},
   "outputs": [],
   "source": [
    "df3 = df2[df2.notnull().all(axis=1)]"
   ]
  },
  {
   "cell_type": "code",
   "execution_count": 22,
   "id": "aa5da051",
   "metadata": {
    "scrolled": true
   },
   "outputs": [
    {
     "data": {
      "text/html": [
       "<div>\n",
       "<style scoped>\n",
       "    .dataframe tbody tr th:only-of-type {\n",
       "        vertical-align: middle;\n",
       "    }\n",
       "\n",
       "    .dataframe tbody tr th {\n",
       "        vertical-align: top;\n",
       "    }\n",
       "\n",
       "    .dataframe thead th {\n",
       "        text-align: right;\n",
       "    }\n",
       "</style>\n",
       "<table border=\"1\" class=\"dataframe\">\n",
       "  <thead>\n",
       "    <tr style=\"text-align: right;\">\n",
       "      <th></th>\n",
       "      <th>cddeath_nf5_2</th>\n",
       "      <th>codbirthasphyx_nf5_2</th>\n",
       "      <th>codpremature_nf5_2</th>\n",
       "      <th>codjdice_nf5_2</th>\n",
       "      <th>codpna_nf5_2</th>\n",
       "      <th>codsepsis_nf5_2</th>\n",
       "      <th>codtetanus_nf5_2</th>\n",
       "      <th>codcongenmal_nf5_2</th>\n",
       "    </tr>\n",
       "  </thead>\n",
       "  <tbody>\n",
       "    <tr>\n",
       "      <th>403</th>\n",
       "      <td>20jun2019</td>\n",
       "      <td>1.0</td>\n",
       "      <td>0.0</td>\n",
       "      <td>0.0</td>\n",
       "      <td>0.0</td>\n",
       "      <td>1.0</td>\n",
       "      <td>0.0</td>\n",
       "      <td>0.0</td>\n",
       "    </tr>\n",
       "    <tr>\n",
       "      <th>473</th>\n",
       "      <td>26jan2020</td>\n",
       "      <td>0.0</td>\n",
       "      <td>0.0</td>\n",
       "      <td>1.0</td>\n",
       "      <td>1.0</td>\n",
       "      <td>1.0</td>\n",
       "      <td>0.0</td>\n",
       "      <td>0.0</td>\n",
       "    </tr>\n",
       "    <tr>\n",
       "      <th>2264</th>\n",
       "      <td>29jul2019</td>\n",
       "      <td>1.0</td>\n",
       "      <td>0.0</td>\n",
       "      <td>0.0</td>\n",
       "      <td>0.0</td>\n",
       "      <td>1.0</td>\n",
       "      <td>0.0</td>\n",
       "      <td>0.0</td>\n",
       "    </tr>\n",
       "  </tbody>\n",
       "</table>\n",
       "</div>"
      ],
      "text/plain": [
       "     cddeath_nf5_2  codbirthasphyx_nf5_2  codpremature_nf5_2  codjdice_nf5_2   \n",
       "403      20jun2019                   1.0                 0.0             0.0  \\\n",
       "473      26jan2020                   0.0                 0.0             1.0   \n",
       "2264     29jul2019                   1.0                 0.0             0.0   \n",
       "\n",
       "      codpna_nf5_2  codsepsis_nf5_2  codtetanus_nf5_2  codcongenmal_nf5_2  \n",
       "403            0.0              1.0               0.0                 0.0  \n",
       "473            1.0              1.0               0.0                 0.0  \n",
       "2264           0.0              1.0               0.0                 0.0  "
      ]
     },
     "execution_count": 22,
     "metadata": {},
     "output_type": "execute_result"
    }
   ],
   "source": [
    "df3"
   ]
  },
  {
   "cell_type": "code",
   "execution_count": null,
   "id": "98246bb7",
   "metadata": {},
   "outputs": [],
   "source": [
    "#cddeath_nc3_1 cause of death\n",
    "#codo_nc3_1....for specify others\n",
    "#coduk_nc3_1...for cause of death unknown"
   ]
  },
  {
   "cell_type": "code",
   "execution_count": 36,
   "id": "3a550155",
   "metadata": {},
   "outputs": [],
   "source": [
    "datanc3=pd.DataFrame(data[['cddeath_nc3_1','codbirthasphyx_nc3_1','codpremature_nc3_1','codjdice_nc3_1','codpna_nc3_1','codsepsis_nc3_1','codtetanus_nc3_1','codcongenmal_nc3_1','codo_nc3_1','coduk_nc3_1']])"
   ]
  },
  {
   "cell_type": "code",
   "execution_count": 37,
   "id": "139257bd",
   "metadata": {},
   "outputs": [],
   "source": [
    "datanc = datanc3[datanc3.notnull().all(axis=1)]"
   ]
  },
  {
   "cell_type": "code",
   "execution_count": 39,
   "id": "4d9f6c84",
   "metadata": {},
   "outputs": [
    {
     "data": {
      "text/html": [
       "<div>\n",
       "<style scoped>\n",
       "    .dataframe tbody tr th:only-of-type {\n",
       "        vertical-align: middle;\n",
       "    }\n",
       "\n",
       "    .dataframe tbody tr th {\n",
       "        vertical-align: top;\n",
       "    }\n",
       "\n",
       "    .dataframe thead th {\n",
       "        text-align: right;\n",
       "    }\n",
       "</style>\n",
       "<table border=\"1\" class=\"dataframe\">\n",
       "  <thead>\n",
       "    <tr style=\"text-align: right;\">\n",
       "      <th></th>\n",
       "      <th>cddeath_nc3_1</th>\n",
       "      <th>codbirthasphyx_nc3_1</th>\n",
       "      <th>codpremature_nc3_1</th>\n",
       "      <th>codjdice_nc3_1</th>\n",
       "      <th>codpna_nc3_1</th>\n",
       "      <th>codsepsis_nc3_1</th>\n",
       "      <th>codtetanus_nc3_1</th>\n",
       "      <th>codcongenmal_nc3_1</th>\n",
       "      <th>codo_nc3_1</th>\n",
       "      <th>coduk_nc3_1</th>\n",
       "    </tr>\n",
       "  </thead>\n",
       "  <tbody>\n",
       "    <tr>\n",
       "      <th>311</th>\n",
       "      <td>06nov2019</td>\n",
       "      <td>0.0</td>\n",
       "      <td>0.0</td>\n",
       "      <td>0.0</td>\n",
       "      <td>0.0</td>\n",
       "      <td>0.0</td>\n",
       "      <td>0.0</td>\n",
       "      <td>0.0</td>\n",
       "      <td>1.0</td>\n",
       "      <td>0.0</td>\n",
       "    </tr>\n",
       "    <tr>\n",
       "      <th>1259</th>\n",
       "      <td>19mar2019</td>\n",
       "      <td>0.0</td>\n",
       "      <td>1.0</td>\n",
       "      <td>0.0</td>\n",
       "      <td>0.0</td>\n",
       "      <td>0.0</td>\n",
       "      <td>0.0</td>\n",
       "      <td>0.0</td>\n",
       "      <td>0.0</td>\n",
       "      <td>0.0</td>\n",
       "    </tr>\n",
       "    <tr>\n",
       "      <th>1753</th>\n",
       "      <td>27nov2019</td>\n",
       "      <td>0.0</td>\n",
       "      <td>0.0</td>\n",
       "      <td>0.0</td>\n",
       "      <td>0.0</td>\n",
       "      <td>0.0</td>\n",
       "      <td>0.0</td>\n",
       "      <td>0.0</td>\n",
       "      <td>1.0</td>\n",
       "      <td>0.0</td>\n",
       "    </tr>\n",
       "    <tr>\n",
       "      <th>3263</th>\n",
       "      <td>03jul2020</td>\n",
       "      <td>0.0</td>\n",
       "      <td>0.0</td>\n",
       "      <td>0.0</td>\n",
       "      <td>0.0</td>\n",
       "      <td>0.0</td>\n",
       "      <td>0.0</td>\n",
       "      <td>0.0</td>\n",
       "      <td>1.0</td>\n",
       "      <td>0.0</td>\n",
       "    </tr>\n",
       "    <tr>\n",
       "      <th>4343</th>\n",
       "      <td>06jun2019</td>\n",
       "      <td>0.0</td>\n",
       "      <td>0.0</td>\n",
       "      <td>0.0</td>\n",
       "      <td>0.0</td>\n",
       "      <td>0.0</td>\n",
       "      <td>0.0</td>\n",
       "      <td>0.0</td>\n",
       "      <td>1.0</td>\n",
       "      <td>0.0</td>\n",
       "    </tr>\n",
       "    <tr>\n",
       "      <th>4429</th>\n",
       "      <td>26sep2019</td>\n",
       "      <td>0.0</td>\n",
       "      <td>0.0</td>\n",
       "      <td>0.0</td>\n",
       "      <td>0.0</td>\n",
       "      <td>0.0</td>\n",
       "      <td>0.0</td>\n",
       "      <td>0.0</td>\n",
       "      <td>1.0</td>\n",
       "      <td>0.0</td>\n",
       "    </tr>\n",
       "    <tr>\n",
       "      <th>4631</th>\n",
       "      <td>26jul2019</td>\n",
       "      <td>0.0</td>\n",
       "      <td>0.0</td>\n",
       "      <td>0.0</td>\n",
       "      <td>0.0</td>\n",
       "      <td>0.0</td>\n",
       "      <td>0.0</td>\n",
       "      <td>0.0</td>\n",
       "      <td>0.0</td>\n",
       "      <td>0.0</td>\n",
       "    </tr>\n",
       "  </tbody>\n",
       "</table>\n",
       "</div>"
      ],
      "text/plain": [
       "     cddeath_nc3_1  codbirthasphyx_nc3_1  codpremature_nc3_1  codjdice_nc3_1   \n",
       "311      06nov2019                   0.0                 0.0             0.0  \\\n",
       "1259     19mar2019                   0.0                 1.0             0.0   \n",
       "1753     27nov2019                   0.0                 0.0             0.0   \n",
       "3263     03jul2020                   0.0                 0.0             0.0   \n",
       "4343     06jun2019                   0.0                 0.0             0.0   \n",
       "4429     26sep2019                   0.0                 0.0             0.0   \n",
       "4631     26jul2019                   0.0                 0.0             0.0   \n",
       "\n",
       "      codpna_nc3_1  codsepsis_nc3_1  codtetanus_nc3_1  codcongenmal_nc3_1   \n",
       "311            0.0              0.0               0.0                 0.0  \\\n",
       "1259           0.0              0.0               0.0                 0.0   \n",
       "1753           0.0              0.0               0.0                 0.0   \n",
       "3263           0.0              0.0               0.0                 0.0   \n",
       "4343           0.0              0.0               0.0                 0.0   \n",
       "4429           0.0              0.0               0.0                 0.0   \n",
       "4631           0.0              0.0               0.0                 0.0   \n",
       "\n",
       "      codo_nc3_1  coduk_nc3_1  \n",
       "311          1.0          0.0  \n",
       "1259         0.0          0.0  \n",
       "1753         1.0          0.0  \n",
       "3263         1.0          0.0  \n",
       "4343         1.0          0.0  \n",
       "4429         1.0          0.0  \n",
       "4631         0.0          0.0  "
      ]
     },
     "execution_count": 39,
     "metadata": {},
     "output_type": "execute_result"
    }
   ],
   "source": [
    "datanc"
   ]
  },
  {
   "cell_type": "code",
   "execution_count": 575,
   "id": "dd36730d",
   "metadata": {},
   "outputs": [],
   "source": [
    "#cddeath_nc3_2\n",
    "datanc2=pd.DataFrame(data[['cddeath_nc3_2','codbirthasphyx_nc3_2','codpremature_nc3_2','codjdice_nc3_2','codpna_nc3_2','codsepsis_nc3_2','codtetanus_nc3_2','codcongenmal_nc3_2','codo_nc3_2','coduk_nc3_2']])"
   ]
  },
  {
   "cell_type": "code",
   "execution_count": 576,
   "id": "2669dab4",
   "metadata": {},
   "outputs": [],
   "source": [
    "datanc2 =datanc2[datanc2.notnull().all(axis=1)]"
   ]
  },
  {
   "cell_type": "code",
   "execution_count": 577,
   "id": "4a6d30f8",
   "metadata": {
    "scrolled": true
   },
   "outputs": [
    {
     "data": {
      "text/html": [
       "<div>\n",
       "<style scoped>\n",
       "    .dataframe tbody tr th:only-of-type {\n",
       "        vertical-align: middle;\n",
       "    }\n",
       "\n",
       "    .dataframe tbody tr th {\n",
       "        vertical-align: top;\n",
       "    }\n",
       "\n",
       "    .dataframe thead th {\n",
       "        text-align: right;\n",
       "    }\n",
       "</style>\n",
       "<table border=\"1\" class=\"dataframe\">\n",
       "  <thead>\n",
       "    <tr style=\"text-align: right;\">\n",
       "      <th></th>\n",
       "      <th>cddeath_nc3_2</th>\n",
       "      <th>codbirthasphyx_nc3_2</th>\n",
       "      <th>codpremature_nc3_2</th>\n",
       "      <th>codjdice_nc3_2</th>\n",
       "      <th>codpna_nc3_2</th>\n",
       "      <th>codsepsis_nc3_2</th>\n",
       "      <th>codtetanus_nc3_2</th>\n",
       "      <th>codcongenmal_nc3_2</th>\n",
       "      <th>codo_nc3_2</th>\n",
       "      <th>coduk_nc3_2</th>\n",
       "    </tr>\n",
       "  </thead>\n",
       "  <tbody>\n",
       "    <tr>\n",
       "      <th>2961</th>\n",
       "      <td>27may2019</td>\n",
       "      <td>0.0</td>\n",
       "      <td>0.0</td>\n",
       "      <td>0.0</td>\n",
       "      <td>0.0</td>\n",
       "      <td>0.0</td>\n",
       "      <td>0.0</td>\n",
       "      <td>0.0</td>\n",
       "      <td>1.0</td>\n",
       "      <td>0.0</td>\n",
       "    </tr>\n",
       "  </tbody>\n",
       "</table>\n",
       "</div>"
      ],
      "text/plain": [
       "     cddeath_nc3_2  codbirthasphyx_nc3_2  codpremature_nc3_2  codjdice_nc3_2  \\\n",
       "2961     27may2019                   0.0                 0.0             0.0   \n",
       "\n",
       "      codpna_nc3_2  codsepsis_nc3_2  codtetanus_nc3_2  codcongenmal_nc3_2  \\\n",
       "2961           0.0              0.0               0.0                 0.0   \n",
       "\n",
       "      codo_nc3_2  coduk_nc3_2  \n",
       "2961         1.0          0.0  "
      ]
     },
     "execution_count": 577,
     "metadata": {},
     "output_type": "execute_result"
    }
   ],
   "source": [
    "datanc2"
   ]
  },
  {
   "cell_type": "code",
   "execution_count": null,
   "id": "401416ef",
   "metadata": {},
   "outputs": [],
   "source": [
    "#NC2=Neonatal Follow-up: Day 6, 28, 42 Community\n",
    "#NF2=Neonatal Follow-up: Day 6, 28, 42 Facility\n",
    "#NC2-Nf2\n"
   ]
  },
  {
   "cell_type": "code",
   "execution_count": 578,
   "id": "3e3458f1",
   "metadata": {},
   "outputs": [],
   "source": [
    "#cddeath_nc2_nf2_1\n",
    "datanc2f2=pd.DataFrame(data[['cddeath_nc2_nf2_1','codbirthasphyx_nc2_nf2_1','codpremature_nc2_nf2_1','codjdice_nc2_nf2_1','codpna_nc2_nf2_1','codsepsis_nc2_nf2_1','codtetanus_nc2_nf2_1','codcongenmal_nc2_nf2_1','codo_nc2_nf2_1','coduk_nc2_nf2_1']])"
   ]
  },
  {
   "cell_type": "code",
   "execution_count": 579,
   "id": "abe98a85",
   "metadata": {},
   "outputs": [],
   "source": [
    "datanc2f2 =datanc2f2[datanc2f2.notnull().all(axis=1)]"
   ]
  },
  {
   "cell_type": "code",
   "execution_count": 580,
   "id": "3f9edd2e",
   "metadata": {},
   "outputs": [
    {
     "data": {
      "text/html": [
       "<div>\n",
       "<style scoped>\n",
       "    .dataframe tbody tr th:only-of-type {\n",
       "        vertical-align: middle;\n",
       "    }\n",
       "\n",
       "    .dataframe tbody tr th {\n",
       "        vertical-align: top;\n",
       "    }\n",
       "\n",
       "    .dataframe thead th {\n",
       "        text-align: right;\n",
       "    }\n",
       "</style>\n",
       "<table border=\"1\" class=\"dataframe\">\n",
       "  <thead>\n",
       "    <tr style=\"text-align: right;\">\n",
       "      <th></th>\n",
       "      <th>cddeath_nc2_nf2_1</th>\n",
       "      <th>codbirthasphyx_nc2_nf2_1</th>\n",
       "      <th>codpremature_nc2_nf2_1</th>\n",
       "      <th>codjdice_nc2_nf2_1</th>\n",
       "      <th>codpna_nc2_nf2_1</th>\n",
       "      <th>codsepsis_nc2_nf2_1</th>\n",
       "      <th>codtetanus_nc2_nf2_1</th>\n",
       "      <th>codcongenmal_nc2_nf2_1</th>\n",
       "      <th>codo_nc2_nf2_1</th>\n",
       "      <th>coduk_nc2_nf2_1</th>\n",
       "    </tr>\n",
       "  </thead>\n",
       "  <tbody>\n",
       "    <tr>\n",
       "      <th>52</th>\n",
       "      <td>09may2019</td>\n",
       "      <td>0.0</td>\n",
       "      <td>1.0</td>\n",
       "      <td>0.0</td>\n",
       "      <td>0.0</td>\n",
       "      <td>0.0</td>\n",
       "      <td>0.0</td>\n",
       "      <td>0.0</td>\n",
       "      <td>0.0</td>\n",
       "      <td>0.0</td>\n",
       "    </tr>\n",
       "    <tr>\n",
       "      <th>74</th>\n",
       "      <td>16jun2019</td>\n",
       "      <td>0.0</td>\n",
       "      <td>1.0</td>\n",
       "      <td>0.0</td>\n",
       "      <td>0.0</td>\n",
       "      <td>0.0</td>\n",
       "      <td>0.0</td>\n",
       "      <td>0.0</td>\n",
       "      <td>0.0</td>\n",
       "      <td>0.0</td>\n",
       "    </tr>\n",
       "    <tr>\n",
       "      <th>149</th>\n",
       "      <td>16oct2019</td>\n",
       "      <td>0.0</td>\n",
       "      <td>0.0</td>\n",
       "      <td>0.0</td>\n",
       "      <td>0.0</td>\n",
       "      <td>0.0</td>\n",
       "      <td>0.0</td>\n",
       "      <td>0.0</td>\n",
       "      <td>0.0</td>\n",
       "      <td>1.0</td>\n",
       "    </tr>\n",
       "    <tr>\n",
       "      <th>197</th>\n",
       "      <td>26jan2019</td>\n",
       "      <td>0.0</td>\n",
       "      <td>1.0</td>\n",
       "      <td>0.0</td>\n",
       "      <td>0.0</td>\n",
       "      <td>0.0</td>\n",
       "      <td>0.0</td>\n",
       "      <td>0.0</td>\n",
       "      <td>0.0</td>\n",
       "      <td>0.0</td>\n",
       "    </tr>\n",
       "    <tr>\n",
       "      <th>618</th>\n",
       "      <td>16jul2020</td>\n",
       "      <td>0.0</td>\n",
       "      <td>0.0</td>\n",
       "      <td>0.0</td>\n",
       "      <td>0.0</td>\n",
       "      <td>0.0</td>\n",
       "      <td>0.0</td>\n",
       "      <td>0.0</td>\n",
       "      <td>1.0</td>\n",
       "      <td>0.0</td>\n",
       "    </tr>\n",
       "    <tr>\n",
       "      <th>905</th>\n",
       "      <td>03jun2019</td>\n",
       "      <td>0.0</td>\n",
       "      <td>0.0</td>\n",
       "      <td>0.0</td>\n",
       "      <td>0.0</td>\n",
       "      <td>1.0</td>\n",
       "      <td>0.0</td>\n",
       "      <td>0.0</td>\n",
       "      <td>0.0</td>\n",
       "      <td>0.0</td>\n",
       "    </tr>\n",
       "    <tr>\n",
       "      <th>2044</th>\n",
       "      <td>18oct2019</td>\n",
       "      <td>0.0</td>\n",
       "      <td>1.0</td>\n",
       "      <td>0.0</td>\n",
       "      <td>0.0</td>\n",
       "      <td>0.0</td>\n",
       "      <td>0.0</td>\n",
       "      <td>0.0</td>\n",
       "      <td>0.0</td>\n",
       "      <td>0.0</td>\n",
       "    </tr>\n",
       "    <tr>\n",
       "      <th>2465</th>\n",
       "      <td>28aug2019</td>\n",
       "      <td>1.0</td>\n",
       "      <td>0.0</td>\n",
       "      <td>1.0</td>\n",
       "      <td>0.0</td>\n",
       "      <td>0.0</td>\n",
       "      <td>0.0</td>\n",
       "      <td>1.0</td>\n",
       "      <td>0.0</td>\n",
       "      <td>0.0</td>\n",
       "    </tr>\n",
       "    <tr>\n",
       "      <th>2565</th>\n",
       "      <td>16nov2018</td>\n",
       "      <td>0.0</td>\n",
       "      <td>0.0</td>\n",
       "      <td>0.0</td>\n",
       "      <td>1.0</td>\n",
       "      <td>0.0</td>\n",
       "      <td>0.0</td>\n",
       "      <td>0.0</td>\n",
       "      <td>0.0</td>\n",
       "      <td>0.0</td>\n",
       "    </tr>\n",
       "    <tr>\n",
       "      <th>2589</th>\n",
       "      <td>18nov2018</td>\n",
       "      <td>0.0</td>\n",
       "      <td>0.0</td>\n",
       "      <td>0.0</td>\n",
       "      <td>0.0</td>\n",
       "      <td>0.0</td>\n",
       "      <td>0.0</td>\n",
       "      <td>0.0</td>\n",
       "      <td>0.0</td>\n",
       "      <td>1.0</td>\n",
       "    </tr>\n",
       "    <tr>\n",
       "      <th>2714</th>\n",
       "      <td>05nov2019</td>\n",
       "      <td>0.0</td>\n",
       "      <td>1.0</td>\n",
       "      <td>1.0</td>\n",
       "      <td>0.0</td>\n",
       "      <td>0.0</td>\n",
       "      <td>0.0</td>\n",
       "      <td>0.0</td>\n",
       "      <td>0.0</td>\n",
       "      <td>0.0</td>\n",
       "    </tr>\n",
       "    <tr>\n",
       "      <th>2754</th>\n",
       "      <td>11oct2019</td>\n",
       "      <td>1.0</td>\n",
       "      <td>0.0</td>\n",
       "      <td>0.0</td>\n",
       "      <td>0.0</td>\n",
       "      <td>0.0</td>\n",
       "      <td>0.0</td>\n",
       "      <td>0.0</td>\n",
       "      <td>0.0</td>\n",
       "      <td>1.0</td>\n",
       "    </tr>\n",
       "    <tr>\n",
       "      <th>2882</th>\n",
       "      <td>19may2019</td>\n",
       "      <td>0.0</td>\n",
       "      <td>1.0</td>\n",
       "      <td>1.0</td>\n",
       "      <td>0.0</td>\n",
       "      <td>0.0</td>\n",
       "      <td>0.0</td>\n",
       "      <td>0.0</td>\n",
       "      <td>0.0</td>\n",
       "      <td>0.0</td>\n",
       "    </tr>\n",
       "    <tr>\n",
       "      <th>2901</th>\n",
       "      <td>30dec2019</td>\n",
       "      <td>0.0</td>\n",
       "      <td>0.0</td>\n",
       "      <td>0.0</td>\n",
       "      <td>0.0</td>\n",
       "      <td>0.0</td>\n",
       "      <td>0.0</td>\n",
       "      <td>0.0</td>\n",
       "      <td>0.0</td>\n",
       "      <td>1.0</td>\n",
       "    </tr>\n",
       "    <tr>\n",
       "      <th>3178</th>\n",
       "      <td>23mar2019</td>\n",
       "      <td>0.0</td>\n",
       "      <td>0.0</td>\n",
       "      <td>0.0</td>\n",
       "      <td>0.0</td>\n",
       "      <td>0.0</td>\n",
       "      <td>0.0</td>\n",
       "      <td>0.0</td>\n",
       "      <td>0.0</td>\n",
       "      <td>1.0</td>\n",
       "    </tr>\n",
       "    <tr>\n",
       "      <th>3214</th>\n",
       "      <td>26mar2019</td>\n",
       "      <td>0.0</td>\n",
       "      <td>1.0</td>\n",
       "      <td>0.0</td>\n",
       "      <td>0.0</td>\n",
       "      <td>0.0</td>\n",
       "      <td>0.0</td>\n",
       "      <td>0.0</td>\n",
       "      <td>0.0</td>\n",
       "      <td>0.0</td>\n",
       "    </tr>\n",
       "    <tr>\n",
       "      <th>3427</th>\n",
       "      <td>08jun2020</td>\n",
       "      <td>0.0</td>\n",
       "      <td>0.0</td>\n",
       "      <td>0.0</td>\n",
       "      <td>0.0</td>\n",
       "      <td>0.0</td>\n",
       "      <td>0.0</td>\n",
       "      <td>0.0</td>\n",
       "      <td>0.0</td>\n",
       "      <td>1.0</td>\n",
       "    </tr>\n",
       "    <tr>\n",
       "      <th>3490</th>\n",
       "      <td>14feb2019</td>\n",
       "      <td>0.0</td>\n",
       "      <td>1.0</td>\n",
       "      <td>0.0</td>\n",
       "      <td>0.0</td>\n",
       "      <td>0.0</td>\n",
       "      <td>0.0</td>\n",
       "      <td>0.0</td>\n",
       "      <td>0.0</td>\n",
       "      <td>0.0</td>\n",
       "    </tr>\n",
       "    <tr>\n",
       "      <th>3611</th>\n",
       "      <td>06jan2019</td>\n",
       "      <td>0.0</td>\n",
       "      <td>0.0</td>\n",
       "      <td>0.0</td>\n",
       "      <td>0.0</td>\n",
       "      <td>1.0</td>\n",
       "      <td>0.0</td>\n",
       "      <td>0.0</td>\n",
       "      <td>0.0</td>\n",
       "      <td>0.0</td>\n",
       "    </tr>\n",
       "    <tr>\n",
       "      <th>3704</th>\n",
       "      <td>12jun2019</td>\n",
       "      <td>0.0</td>\n",
       "      <td>0.0</td>\n",
       "      <td>0.0</td>\n",
       "      <td>0.0</td>\n",
       "      <td>0.0</td>\n",
       "      <td>0.0</td>\n",
       "      <td>0.0</td>\n",
       "      <td>0.0</td>\n",
       "      <td>1.0</td>\n",
       "    </tr>\n",
       "    <tr>\n",
       "      <th>3869</th>\n",
       "      <td>10dec2018</td>\n",
       "      <td>0.0</td>\n",
       "      <td>0.0</td>\n",
       "      <td>0.0</td>\n",
       "      <td>0.0</td>\n",
       "      <td>0.0</td>\n",
       "      <td>0.0</td>\n",
       "      <td>1.0</td>\n",
       "      <td>0.0</td>\n",
       "      <td>0.0</td>\n",
       "    </tr>\n",
       "    <tr>\n",
       "      <th>4106</th>\n",
       "      <td>22feb2020</td>\n",
       "      <td>0.0</td>\n",
       "      <td>1.0</td>\n",
       "      <td>0.0</td>\n",
       "      <td>1.0</td>\n",
       "      <td>0.0</td>\n",
       "      <td>0.0</td>\n",
       "      <td>0.0</td>\n",
       "      <td>0.0</td>\n",
       "      <td>0.0</td>\n",
       "    </tr>\n",
       "    <tr>\n",
       "      <th>4469</th>\n",
       "      <td>24feb2019</td>\n",
       "      <td>0.0</td>\n",
       "      <td>0.0</td>\n",
       "      <td>0.0</td>\n",
       "      <td>0.0</td>\n",
       "      <td>1.0</td>\n",
       "      <td>0.0</td>\n",
       "      <td>0.0</td>\n",
       "      <td>0.0</td>\n",
       "      <td>0.0</td>\n",
       "    </tr>\n",
       "  </tbody>\n",
       "</table>\n",
       "</div>"
      ],
      "text/plain": [
       "     cddeath_nc2_nf2_1  codbirthasphyx_nc2_nf2_1  codpremature_nc2_nf2_1  \\\n",
       "52           09may2019                       0.0                     1.0   \n",
       "74           16jun2019                       0.0                     1.0   \n",
       "149          16oct2019                       0.0                     0.0   \n",
       "197          26jan2019                       0.0                     1.0   \n",
       "618          16jul2020                       0.0                     0.0   \n",
       "905          03jun2019                       0.0                     0.0   \n",
       "2044         18oct2019                       0.0                     1.0   \n",
       "2465         28aug2019                       1.0                     0.0   \n",
       "2565         16nov2018                       0.0                     0.0   \n",
       "2589         18nov2018                       0.0                     0.0   \n",
       "2714         05nov2019                       0.0                     1.0   \n",
       "2754         11oct2019                       1.0                     0.0   \n",
       "2882         19may2019                       0.0                     1.0   \n",
       "2901         30dec2019                       0.0                     0.0   \n",
       "3178         23mar2019                       0.0                     0.0   \n",
       "3214         26mar2019                       0.0                     1.0   \n",
       "3427         08jun2020                       0.0                     0.0   \n",
       "3490         14feb2019                       0.0                     1.0   \n",
       "3611         06jan2019                       0.0                     0.0   \n",
       "3704         12jun2019                       0.0                     0.0   \n",
       "3869         10dec2018                       0.0                     0.0   \n",
       "4106         22feb2020                       0.0                     1.0   \n",
       "4469         24feb2019                       0.0                     0.0   \n",
       "\n",
       "      codjdice_nc2_nf2_1  codpna_nc2_nf2_1  codsepsis_nc2_nf2_1  \\\n",
       "52                   0.0               0.0                  0.0   \n",
       "74                   0.0               0.0                  0.0   \n",
       "149                  0.0               0.0                  0.0   \n",
       "197                  0.0               0.0                  0.0   \n",
       "618                  0.0               0.0                  0.0   \n",
       "905                  0.0               0.0                  1.0   \n",
       "2044                 0.0               0.0                  0.0   \n",
       "2465                 1.0               0.0                  0.0   \n",
       "2565                 0.0               1.0                  0.0   \n",
       "2589                 0.0               0.0                  0.0   \n",
       "2714                 1.0               0.0                  0.0   \n",
       "2754                 0.0               0.0                  0.0   \n",
       "2882                 1.0               0.0                  0.0   \n",
       "2901                 0.0               0.0                  0.0   \n",
       "3178                 0.0               0.0                  0.0   \n",
       "3214                 0.0               0.0                  0.0   \n",
       "3427                 0.0               0.0                  0.0   \n",
       "3490                 0.0               0.0                  0.0   \n",
       "3611                 0.0               0.0                  1.0   \n",
       "3704                 0.0               0.0                  0.0   \n",
       "3869                 0.0               0.0                  0.0   \n",
       "4106                 0.0               1.0                  0.0   \n",
       "4469                 0.0               0.0                  1.0   \n",
       "\n",
       "      codtetanus_nc2_nf2_1  codcongenmal_nc2_nf2_1  codo_nc2_nf2_1  \\\n",
       "52                     0.0                     0.0             0.0   \n",
       "74                     0.0                     0.0             0.0   \n",
       "149                    0.0                     0.0             0.0   \n",
       "197                    0.0                     0.0             0.0   \n",
       "618                    0.0                     0.0             1.0   \n",
       "905                    0.0                     0.0             0.0   \n",
       "2044                   0.0                     0.0             0.0   \n",
       "2465                   0.0                     1.0             0.0   \n",
       "2565                   0.0                     0.0             0.0   \n",
       "2589                   0.0                     0.0             0.0   \n",
       "2714                   0.0                     0.0             0.0   \n",
       "2754                   0.0                     0.0             0.0   \n",
       "2882                   0.0                     0.0             0.0   \n",
       "2901                   0.0                     0.0             0.0   \n",
       "3178                   0.0                     0.0             0.0   \n",
       "3214                   0.0                     0.0             0.0   \n",
       "3427                   0.0                     0.0             0.0   \n",
       "3490                   0.0                     0.0             0.0   \n",
       "3611                   0.0                     0.0             0.0   \n",
       "3704                   0.0                     0.0             0.0   \n",
       "3869                   0.0                     1.0             0.0   \n",
       "4106                   0.0                     0.0             0.0   \n",
       "4469                   0.0                     0.0             0.0   \n",
       "\n",
       "      coduk_nc2_nf2_1  \n",
       "52                0.0  \n",
       "74                0.0  \n",
       "149               1.0  \n",
       "197               0.0  \n",
       "618               0.0  \n",
       "905               0.0  \n",
       "2044              0.0  \n",
       "2465              0.0  \n",
       "2565              0.0  \n",
       "2589              1.0  \n",
       "2714              0.0  \n",
       "2754              1.0  \n",
       "2882              0.0  \n",
       "2901              1.0  \n",
       "3178              1.0  \n",
       "3214              0.0  \n",
       "3427              1.0  \n",
       "3490              0.0  \n",
       "3611              0.0  \n",
       "3704              1.0  \n",
       "3869              0.0  \n",
       "4106              0.0  \n",
       "4469              0.0  "
      ]
     },
     "execution_count": 580,
     "metadata": {},
     "output_type": "execute_result"
    }
   ],
   "source": [
    "datanc2f2"
   ]
  },
  {
   "cell_type": "code",
   "execution_count": 587,
   "id": "0dc462b0",
   "metadata": {},
   "outputs": [],
   "source": [
    "#cddeath_nc2_nf2_2\n",
    "datanc1f1=pd.DataFrame(data[['cddeath_nc2_nf2_2','codbirthasphyx_nc2_nf2_2','codpremature_nc2_nf2_2','codjdice_nc2_nf2_2','codpna_nc2_nf2_2','codsepsis_nc2_nf2_2','codtetanus_nc2_nf2_2','codcongenmal_nc2_nf2_2','codo_nc2_nf2_2','coduk_nc2_nf2_2']])"
   ]
  },
  {
   "cell_type": "code",
   "execution_count": 588,
   "id": "4a1e0b49",
   "metadata": {},
   "outputs": [],
   "source": [
    "datanc1f1 =datanc1f1[datanc1f1.notnull().all(axis=1)]"
   ]
  },
  {
   "cell_type": "code",
   "execution_count": 589,
   "id": "26b9c70d",
   "metadata": {},
   "outputs": [
    {
     "data": {
      "text/html": [
       "<div>\n",
       "<style scoped>\n",
       "    .dataframe tbody tr th:only-of-type {\n",
       "        vertical-align: middle;\n",
       "    }\n",
       "\n",
       "    .dataframe tbody tr th {\n",
       "        vertical-align: top;\n",
       "    }\n",
       "\n",
       "    .dataframe thead th {\n",
       "        text-align: right;\n",
       "    }\n",
       "</style>\n",
       "<table border=\"1\" class=\"dataframe\">\n",
       "  <thead>\n",
       "    <tr style=\"text-align: right;\">\n",
       "      <th></th>\n",
       "      <th>cddeath_nc2_nf2_2</th>\n",
       "      <th>codbirthasphyx_nc2_nf2_2</th>\n",
       "      <th>codpremature_nc2_nf2_2</th>\n",
       "      <th>codjdice_nc2_nf2_2</th>\n",
       "      <th>codpna_nc2_nf2_2</th>\n",
       "      <th>codsepsis_nc2_nf2_2</th>\n",
       "      <th>codtetanus_nc2_nf2_2</th>\n",
       "      <th>codcongenmal_nc2_nf2_2</th>\n",
       "      <th>codo_nc2_nf2_2</th>\n",
       "      <th>coduk_nc2_nf2_2</th>\n",
       "    </tr>\n",
       "  </thead>\n",
       "  <tbody>\n",
       "    <tr>\n",
       "      <th>652</th>\n",
       "      <td>13oct2020</td>\n",
       "      <td>0.0</td>\n",
       "      <td>0.0</td>\n",
       "      <td>0.0</td>\n",
       "      <td>0.0</td>\n",
       "      <td>0.0</td>\n",
       "      <td>0.0</td>\n",
       "      <td>0.0</td>\n",
       "      <td>0.0</td>\n",
       "      <td>1.0</td>\n",
       "    </tr>\n",
       "    <tr>\n",
       "      <th>3643</th>\n",
       "      <td>16nov2019</td>\n",
       "      <td>0.0</td>\n",
       "      <td>1.0</td>\n",
       "      <td>0.0</td>\n",
       "      <td>0.0</td>\n",
       "      <td>0.0</td>\n",
       "      <td>0.0</td>\n",
       "      <td>0.0</td>\n",
       "      <td>0.0</td>\n",
       "      <td>0.0</td>\n",
       "    </tr>\n",
       "    <tr>\n",
       "      <th>4170</th>\n",
       "      <td>24apr2019</td>\n",
       "      <td>0.0</td>\n",
       "      <td>0.0</td>\n",
       "      <td>0.0</td>\n",
       "      <td>0.0</td>\n",
       "      <td>0.0</td>\n",
       "      <td>0.0</td>\n",
       "      <td>0.0</td>\n",
       "      <td>0.0</td>\n",
       "      <td>0.0</td>\n",
       "    </tr>\n",
       "    <tr>\n",
       "      <th>4172</th>\n",
       "      <td>23apr2019</td>\n",
       "      <td>0.0</td>\n",
       "      <td>0.0</td>\n",
       "      <td>0.0</td>\n",
       "      <td>0.0</td>\n",
       "      <td>0.0</td>\n",
       "      <td>0.0</td>\n",
       "      <td>0.0</td>\n",
       "      <td>0.0</td>\n",
       "      <td>1.0</td>\n",
       "    </tr>\n",
       "    <tr>\n",
       "      <th>4582</th>\n",
       "      <td>21apr2019</td>\n",
       "      <td>0.0</td>\n",
       "      <td>0.0</td>\n",
       "      <td>0.0</td>\n",
       "      <td>0.0</td>\n",
       "      <td>0.0</td>\n",
       "      <td>0.0</td>\n",
       "      <td>0.0</td>\n",
       "      <td>1.0</td>\n",
       "      <td>0.0</td>\n",
       "    </tr>\n",
       "  </tbody>\n",
       "</table>\n",
       "</div>"
      ],
      "text/plain": [
       "     cddeath_nc2_nf2_2  codbirthasphyx_nc2_nf2_2  codpremature_nc2_nf2_2  \\\n",
       "652          13oct2020                       0.0                     0.0   \n",
       "3643         16nov2019                       0.0                     1.0   \n",
       "4170         24apr2019                       0.0                     0.0   \n",
       "4172         23apr2019                       0.0                     0.0   \n",
       "4582         21apr2019                       0.0                     0.0   \n",
       "\n",
       "      codjdice_nc2_nf2_2  codpna_nc2_nf2_2  codsepsis_nc2_nf2_2  \\\n",
       "652                  0.0               0.0                  0.0   \n",
       "3643                 0.0               0.0                  0.0   \n",
       "4170                 0.0               0.0                  0.0   \n",
       "4172                 0.0               0.0                  0.0   \n",
       "4582                 0.0               0.0                  0.0   \n",
       "\n",
       "      codtetanus_nc2_nf2_2  codcongenmal_nc2_nf2_2  codo_nc2_nf2_2  \\\n",
       "652                    0.0                     0.0             0.0   \n",
       "3643                   0.0                     0.0             0.0   \n",
       "4170                   0.0                     0.0             0.0   \n",
       "4172                   0.0                     0.0             0.0   \n",
       "4582                   0.0                     0.0             1.0   \n",
       "\n",
       "      coduk_nc2_nf2_2  \n",
       "652               1.0  \n",
       "3643              0.0  \n",
       "4170              0.0  \n",
       "4172              1.0  \n",
       "4582              0.0  "
      ]
     },
     "execution_count": 589,
     "metadata": {},
     "output_type": "execute_result"
    }
   ],
   "source": [
    "datanc1f1"
   ]
  },
  {
   "cell_type": "code",
   "execution_count": 591,
   "id": "3c1d2143",
   "metadata": {},
   "outputs": [],
   "source": [
    "#cddeath_nc2_nf2_3\n",
    "datanc1f3=pd.DataFrame(data[['cddeath_nc2_nf2_3','codbirthasphyx_nc2_nf2_3','codpremature_nc2_nf2_3','codjdice_nc2_nf2_3','codpna_nc2_nf2_3','codsepsis_nc2_nf2_3','codtetanus_nc2_nf2_3','codcongenmal_nc2_nf2_3','codo_nc2_nf2_3','coduk_nc2_nf2_3']])"
   ]
  },
  {
   "cell_type": "code",
   "execution_count": 592,
   "id": "782cf320",
   "metadata": {},
   "outputs": [],
   "source": [
    "datanc1f3 =datanc1f3[datanc1f3.notnull().all(axis=1)]"
   ]
  },
  {
   "cell_type": "code",
   "execution_count": 593,
   "id": "01c823bc",
   "metadata": {},
   "outputs": [
    {
     "data": {
      "text/html": [
       "<div>\n",
       "<style scoped>\n",
       "    .dataframe tbody tr th:only-of-type {\n",
       "        vertical-align: middle;\n",
       "    }\n",
       "\n",
       "    .dataframe tbody tr th {\n",
       "        vertical-align: top;\n",
       "    }\n",
       "\n",
       "    .dataframe thead th {\n",
       "        text-align: right;\n",
       "    }\n",
       "</style>\n",
       "<table border=\"1\" class=\"dataframe\">\n",
       "  <thead>\n",
       "    <tr style=\"text-align: right;\">\n",
       "      <th></th>\n",
       "      <th>cddeath_nc2_nf2_3</th>\n",
       "      <th>codbirthasphyx_nc2_nf2_3</th>\n",
       "      <th>codpremature_nc2_nf2_3</th>\n",
       "      <th>codjdice_nc2_nf2_3</th>\n",
       "      <th>codpna_nc2_nf2_3</th>\n",
       "      <th>codsepsis_nc2_nf2_3</th>\n",
       "      <th>codtetanus_nc2_nf2_3</th>\n",
       "      <th>codcongenmal_nc2_nf2_3</th>\n",
       "      <th>codo_nc2_nf2_3</th>\n",
       "      <th>coduk_nc2_nf2_3</th>\n",
       "    </tr>\n",
       "  </thead>\n",
       "  <tbody>\n",
       "    <tr>\n",
       "      <th>2598</th>\n",
       "      <td>25dec2019</td>\n",
       "      <td>0.0</td>\n",
       "      <td>0.0</td>\n",
       "      <td>0.0</td>\n",
       "      <td>0.0</td>\n",
       "      <td>0.0</td>\n",
       "      <td>0.0</td>\n",
       "      <td>0.0</td>\n",
       "      <td>1.0</td>\n",
       "      <td>1.0</td>\n",
       "    </tr>\n",
       "    <tr>\n",
       "      <th>3934</th>\n",
       "      <td>28jan2020</td>\n",
       "      <td>0.0</td>\n",
       "      <td>0.0</td>\n",
       "      <td>0.0</td>\n",
       "      <td>0.0</td>\n",
       "      <td>0.0</td>\n",
       "      <td>0.0</td>\n",
       "      <td>0.0</td>\n",
       "      <td>0.0</td>\n",
       "      <td>1.0</td>\n",
       "    </tr>\n",
       "  </tbody>\n",
       "</table>\n",
       "</div>"
      ],
      "text/plain": [
       "     cddeath_nc2_nf2_3  codbirthasphyx_nc2_nf2_3  codpremature_nc2_nf2_3  \\\n",
       "2598         25dec2019                       0.0                     0.0   \n",
       "3934         28jan2020                       0.0                     0.0   \n",
       "\n",
       "      codjdice_nc2_nf2_3  codpna_nc2_nf2_3  codsepsis_nc2_nf2_3  \\\n",
       "2598                 0.0               0.0                  0.0   \n",
       "3934                 0.0               0.0                  0.0   \n",
       "\n",
       "      codtetanus_nc2_nf2_3  codcongenmal_nc2_nf2_3  codo_nc2_nf2_3  \\\n",
       "2598                   0.0                     0.0             1.0   \n",
       "3934                   0.0                     0.0             0.0   \n",
       "\n",
       "      coduk_nc2_nf2_3  \n",
       "2598              1.0  \n",
       "3934              1.0  "
      ]
     },
     "execution_count": 593,
     "metadata": {},
     "output_type": "execute_result"
    }
   ],
   "source": [
    "datanc1f3"
   ]
  },
  {
   "cell_type": "code",
   "execution_count": 515,
   "id": "342c80aa",
   "metadata": {},
   "outputs": [
    {
     "data": {
      "text/plain": [
       "4548"
      ]
     },
     "execution_count": 515,
     "metadata": {},
     "output_type": "execute_result"
    }
   ],
   "source": [
    "\n",
    "#b: variables included in birth forms BF1 and BC1\n",
    "   #•\tBF1: Birth – catchment and non-catchment \n",
    "   #•\tBC1: Births\n",
    "data['cddeath_b'].isnull().sum()"
   ]
  },
  {
   "cell_type": "code",
   "execution_count": 248,
   "id": "92f5cfa0",
   "metadata": {},
   "outputs": [],
   "source": [
    "#.....From BC1 Birth Facility\n",
    "#label define n_death_cause  of infant\n",
    "#1 \"neonatal sepsis\" \n",
    "#2 \"preterm\" \n",
    "#3 \"asphyxia\" \n",
    "#4 \"lowbirth weight\" \n",
    "#5 \"neonatal conjunctivitis\" \n",
    "#6 \"neonatal tetanus\" \n",
    "#7 \"neonatal herpes\" \n",
    "#8 \"neonatal meningitis\" \n",
    "#9 \"neontal jaundice\" \n",
    "#10 \"respiratory distress syndrome\" \n",
    "#11 \"congenital malformation\" \n",
    "#12 \"other specify\"\n",
    "#88: Unknown\n",
    "\n",
    "dfb=pd.DataFrame(data[['cddeath_b','ccod_b']])"
   ]
  },
  {
   "cell_type": "code",
   "execution_count": null,
   "id": "60204b26",
   "metadata": {},
   "outputs": [],
   "source": []
  },
  {
   "cell_type": "code",
   "execution_count": 249,
   "id": "c54ddf89",
   "metadata": {},
   "outputs": [],
   "source": [
    "dfb = dfb[dfb.notnull().all(axis=1)]"
   ]
  },
  {
   "cell_type": "code",
   "execution_count": 250,
   "id": "706a4b43",
   "metadata": {},
   "outputs": [
    {
     "data": {
      "text/plain": [
       "84"
      ]
     },
     "execution_count": 250,
     "metadata": {},
     "output_type": "execute_result"
    }
   ],
   "source": [
    "len(dfb)"
   ]
  },
  {
   "cell_type": "code",
   "execution_count": 252,
   "id": "2b31adc1",
   "metadata": {},
   "outputs": [
    {
     "data": {
      "text/html": [
       "<div>\n",
       "<style scoped>\n",
       "    .dataframe tbody tr th:only-of-type {\n",
       "        vertical-align: middle;\n",
       "    }\n",
       "\n",
       "    .dataframe tbody tr th {\n",
       "        vertical-align: top;\n",
       "    }\n",
       "\n",
       "    .dataframe thead th {\n",
       "        text-align: right;\n",
       "    }\n",
       "</style>\n",
       "<table border=\"1\" class=\"dataframe\">\n",
       "  <thead>\n",
       "    <tr style=\"text-align: right;\">\n",
       "      <th></th>\n",
       "      <th>cddeath_b</th>\n",
       "      <th>ccod_b</th>\n",
       "    </tr>\n",
       "  </thead>\n",
       "  <tbody>\n",
       "    <tr>\n",
       "      <th>4</th>\n",
       "      <td>06feb2020</td>\n",
       "      <td>12.0</td>\n",
       "    </tr>\n",
       "    <tr>\n",
       "      <th>10</th>\n",
       "      <td>27oct2019</td>\n",
       "      <td>88.0</td>\n",
       "    </tr>\n",
       "    <tr>\n",
       "      <th>36</th>\n",
       "      <td>18mar2020</td>\n",
       "      <td>1.0</td>\n",
       "    </tr>\n",
       "    <tr>\n",
       "      <th>63</th>\n",
       "      <td>11mar2019</td>\n",
       "      <td>12.0</td>\n",
       "    </tr>\n",
       "    <tr>\n",
       "      <th>119</th>\n",
       "      <td>11feb2020</td>\n",
       "      <td>3.0</td>\n",
       "    </tr>\n",
       "    <tr>\n",
       "      <th>164</th>\n",
       "      <td>25aug2019</td>\n",
       "      <td>10.0</td>\n",
       "    </tr>\n",
       "    <tr>\n",
       "      <th>204</th>\n",
       "      <td>25jun2019</td>\n",
       "      <td>4.0</td>\n",
       "    </tr>\n",
       "    <tr>\n",
       "      <th>205</th>\n",
       "      <td>25jun2019</td>\n",
       "      <td>4.0</td>\n",
       "    </tr>\n",
       "    <tr>\n",
       "      <th>353</th>\n",
       "      <td>09mar2020</td>\n",
       "      <td>88.0</td>\n",
       "    </tr>\n",
       "    <tr>\n",
       "      <th>441</th>\n",
       "      <td>19aug2019</td>\n",
       "      <td>3.0</td>\n",
       "    </tr>\n",
       "    <tr>\n",
       "      <th>444</th>\n",
       "      <td>28mar2020</td>\n",
       "      <td>2.0</td>\n",
       "    </tr>\n",
       "    <tr>\n",
       "      <th>490</th>\n",
       "      <td>18mar2020</td>\n",
       "      <td>3.0</td>\n",
       "    </tr>\n",
       "    <tr>\n",
       "      <th>504</th>\n",
       "      <td>05feb2019</td>\n",
       "      <td>3.0</td>\n",
       "    </tr>\n",
       "    <tr>\n",
       "      <th>530</th>\n",
       "      <td>27oct2019</td>\n",
       "      <td>5.0</td>\n",
       "    </tr>\n",
       "    <tr>\n",
       "      <th>593</th>\n",
       "      <td>08sep2020</td>\n",
       "      <td>88.0</td>\n",
       "    </tr>\n",
       "    <tr>\n",
       "      <th>772</th>\n",
       "      <td>23mar2019</td>\n",
       "      <td>3.0</td>\n",
       "    </tr>\n",
       "    <tr>\n",
       "      <th>776</th>\n",
       "      <td>27jul2020</td>\n",
       "      <td>88.0</td>\n",
       "    </tr>\n",
       "    <tr>\n",
       "      <th>780</th>\n",
       "      <td>29oct2019</td>\n",
       "      <td>10.0</td>\n",
       "    </tr>\n",
       "    <tr>\n",
       "      <th>886</th>\n",
       "      <td>31jan2020</td>\n",
       "      <td>66.0</td>\n",
       "    </tr>\n",
       "    <tr>\n",
       "      <th>927</th>\n",
       "      <td>19feb2019</td>\n",
       "      <td>88.0</td>\n",
       "    </tr>\n",
       "    <tr>\n",
       "      <th>1050</th>\n",
       "      <td>27aug2019</td>\n",
       "      <td>12.0</td>\n",
       "    </tr>\n",
       "    <tr>\n",
       "      <th>1185</th>\n",
       "      <td>29jan2020</td>\n",
       "      <td>12.0</td>\n",
       "    </tr>\n",
       "    <tr>\n",
       "      <th>1192</th>\n",
       "      <td>03feb2020</td>\n",
       "      <td>11.0</td>\n",
       "    </tr>\n",
       "    <tr>\n",
       "      <th>1509</th>\n",
       "      <td>18jan2020</td>\n",
       "      <td>12.0</td>\n",
       "    </tr>\n",
       "    <tr>\n",
       "      <th>1526</th>\n",
       "      <td>25dec2019</td>\n",
       "      <td>88.0</td>\n",
       "    </tr>\n",
       "    <tr>\n",
       "      <th>1600</th>\n",
       "      <td>07dec2019</td>\n",
       "      <td>12.0</td>\n",
       "    </tr>\n",
       "    <tr>\n",
       "      <th>1634</th>\n",
       "      <td>23jan2020</td>\n",
       "      <td>12.0</td>\n",
       "    </tr>\n",
       "    <tr>\n",
       "      <th>1719</th>\n",
       "      <td>22jan2020</td>\n",
       "      <td>88.0</td>\n",
       "    </tr>\n",
       "    <tr>\n",
       "      <th>1737</th>\n",
       "      <td>13jan2020</td>\n",
       "      <td>5.0</td>\n",
       "    </tr>\n",
       "    <tr>\n",
       "      <th>1740</th>\n",
       "      <td>04oct2020</td>\n",
       "      <td>3.0</td>\n",
       "    </tr>\n",
       "    <tr>\n",
       "      <th>1766</th>\n",
       "      <td>13apr2020</td>\n",
       "      <td>88.0</td>\n",
       "    </tr>\n",
       "    <tr>\n",
       "      <th>1791</th>\n",
       "      <td>29apr2020</td>\n",
       "      <td>3.0</td>\n",
       "    </tr>\n",
       "    <tr>\n",
       "      <th>1856</th>\n",
       "      <td>09jun2020</td>\n",
       "      <td>88.0</td>\n",
       "    </tr>\n",
       "    <tr>\n",
       "      <th>1860</th>\n",
       "      <td>22may2020</td>\n",
       "      <td>3.0</td>\n",
       "    </tr>\n",
       "    <tr>\n",
       "      <th>1862</th>\n",
       "      <td>04may2019</td>\n",
       "      <td>11.0</td>\n",
       "    </tr>\n",
       "    <tr>\n",
       "      <th>1927</th>\n",
       "      <td>06feb2019</td>\n",
       "      <td>66.0</td>\n",
       "    </tr>\n",
       "    <tr>\n",
       "      <th>1974</th>\n",
       "      <td>15oct2020</td>\n",
       "      <td>88.0</td>\n",
       "    </tr>\n",
       "    <tr>\n",
       "      <th>2003</th>\n",
       "      <td>29mar2020</td>\n",
       "      <td>88.0</td>\n",
       "    </tr>\n",
       "    <tr>\n",
       "      <th>2049</th>\n",
       "      <td>06apr2020</td>\n",
       "      <td>1.0</td>\n",
       "    </tr>\n",
       "    <tr>\n",
       "      <th>2062</th>\n",
       "      <td>24jan2019</td>\n",
       "      <td>11.0</td>\n",
       "    </tr>\n",
       "    <tr>\n",
       "      <th>2068</th>\n",
       "      <td>02jul2019</td>\n",
       "      <td>3.0</td>\n",
       "    </tr>\n",
       "    <tr>\n",
       "      <th>2100</th>\n",
       "      <td>16feb2020</td>\n",
       "      <td>12.0</td>\n",
       "    </tr>\n",
       "    <tr>\n",
       "      <th>2276</th>\n",
       "      <td>31jan2019</td>\n",
       "      <td>3.0</td>\n",
       "    </tr>\n",
       "    <tr>\n",
       "      <th>2414</th>\n",
       "      <td>02mar2019</td>\n",
       "      <td>3.0</td>\n",
       "    </tr>\n",
       "    <tr>\n",
       "      <th>2505</th>\n",
       "      <td>25jun2019</td>\n",
       "      <td>10.0</td>\n",
       "    </tr>\n",
       "    <tr>\n",
       "      <th>2507</th>\n",
       "      <td>29may2019</td>\n",
       "      <td>3.0</td>\n",
       "    </tr>\n",
       "    <tr>\n",
       "      <th>2511</th>\n",
       "      <td>08sep2020</td>\n",
       "      <td>1.0</td>\n",
       "    </tr>\n",
       "    <tr>\n",
       "      <th>2541</th>\n",
       "      <td>17mar2020</td>\n",
       "      <td>11.0</td>\n",
       "    </tr>\n",
       "    <tr>\n",
       "      <th>2641</th>\n",
       "      <td>20dec2019</td>\n",
       "      <td>10.0</td>\n",
       "    </tr>\n",
       "    <tr>\n",
       "      <th>2650</th>\n",
       "      <td>05aug2020</td>\n",
       "      <td>88.0</td>\n",
       "    </tr>\n",
       "  </tbody>\n",
       "</table>\n",
       "</div>"
      ],
      "text/plain": [
       "      cddeath_b  ccod_b\n",
       "4     06feb2020    12.0\n",
       "10    27oct2019    88.0\n",
       "36    18mar2020     1.0\n",
       "63    11mar2019    12.0\n",
       "119   11feb2020     3.0\n",
       "164   25aug2019    10.0\n",
       "204   25jun2019     4.0\n",
       "205   25jun2019     4.0\n",
       "353   09mar2020    88.0\n",
       "441   19aug2019     3.0\n",
       "444   28mar2020     2.0\n",
       "490   18mar2020     3.0\n",
       "504   05feb2019     3.0\n",
       "530   27oct2019     5.0\n",
       "593   08sep2020    88.0\n",
       "772   23mar2019     3.0\n",
       "776   27jul2020    88.0\n",
       "780   29oct2019    10.0\n",
       "886   31jan2020    66.0\n",
       "927   19feb2019    88.0\n",
       "1050  27aug2019    12.0\n",
       "1185  29jan2020    12.0\n",
       "1192  03feb2020    11.0\n",
       "1509  18jan2020    12.0\n",
       "1526  25dec2019    88.0\n",
       "1600  07dec2019    12.0\n",
       "1634  23jan2020    12.0\n",
       "1719  22jan2020    88.0\n",
       "1737  13jan2020     5.0\n",
       "1740  04oct2020     3.0\n",
       "1766  13apr2020    88.0\n",
       "1791  29apr2020     3.0\n",
       "1856  09jun2020    88.0\n",
       "1860  22may2020     3.0\n",
       "1862  04may2019    11.0\n",
       "1927  06feb2019    66.0\n",
       "1974  15oct2020    88.0\n",
       "2003  29mar2020    88.0\n",
       "2049  06apr2020     1.0\n",
       "2062  24jan2019    11.0\n",
       "2068  02jul2019     3.0\n",
       "2100  16feb2020    12.0\n",
       "2276  31jan2019     3.0\n",
       "2414  02mar2019     3.0\n",
       "2505  25jun2019    10.0\n",
       "2507  29may2019     3.0\n",
       "2511  08sep2020     1.0\n",
       "2541  17mar2020    11.0\n",
       "2641  20dec2019    10.0\n",
       "2650  05aug2020    88.0"
      ]
     },
     "execution_count": 252,
     "metadata": {},
     "output_type": "execute_result"
    }
   ],
   "source": [
    "dfb.head(50)"
   ]
  },
  {
   "cell_type": "code",
   "execution_count": 253,
   "id": "a669b024",
   "metadata": {},
   "outputs": [],
   "source": [
    "Infant_causeofdeath=dfb  \n",
    "\n",
    "#1 \"neonatal sepsis\" \n",
    "#2 \"preterm\" \n",
    "#3 \"asphyxia\" \n",
    "#4 \"lowbirth weight\" \n",
    "#5 \"neonatal conjunctivitis\" \n",
    "#6 \"neonatal tetanus\" \n",
    "#7 \"neonatal herpes\" \n",
    "#8 \"neonatal meningitis\" \n",
    "#9 \"neontal jaundice\" \n",
    "#10 \"respiratory distress syndrome\" \n",
    "#11 \"congenital malformation\" "
   ]
  },
  {
   "cell_type": "code",
   "execution_count": 257,
   "id": "3db03a94",
   "metadata": {},
   "outputs": [],
   "source": [
    "#data.replace(49.50, 60)\n",
    "Infant_causeofdeath['ccod_b'] = Infant_causeofdeath['ccod_b'].replace([1.0], 'neonatal sepsis')\n",
    "Infant_causeofdeath['ccod_b'] = Infant_causeofdeath['ccod_b'].replace([2.0], 'preterm')\n",
    "Infant_causeofdeath['ccod_b'] = Infant_causeofdeath['ccod_b'].replace([3.0], 'asphyxia')\n",
    "Infant_causeofdeath['ccod_b'] = Infant_causeofdeath['ccod_b'].replace([4.0], 'lowbirth weight')\n",
    "Infant_causeofdeath['ccod_b'] = Infant_causeofdeath['ccod_b'].replace([5.0], 'neonatal conjunctivitis')\n",
    "Infant_causeofdeath['ccod_b'] = Infant_causeofdeath['ccod_b'].replace([6.0], 'neonatal tetanus')\n",
    "Infant_causeofdeath['ccod_b'] = Infant_causeofdeath['ccod_b'].replace([7.0], 'neonatal herpes')\n",
    "Infant_causeofdeath['ccod_b'] = Infant_causeofdeath['ccod_b'].replace([8.0], 'neonatal meningitis')\n",
    "Infant_causeofdeath['ccod_b'] = Infant_causeofdeath['ccod_b'].replace([9.0], 'neontal jaundice')\n",
    "Infant_causeofdeath['ccod_b'] = Infant_causeofdeath['ccod_b'].replace([10.0], 'respiratory distress syndrome')\n",
    "Infant_causeofdeath['ccod_b'] = Infant_causeofdeath['ccod_b'].replace([11.0], 'congenital malformation')\n",
    "Infant_causeofdeath['ccod_b'] = Infant_causeofdeath['ccod_b'].replace([12.0], 'Others')\n",
    "Infant_causeofdeath['ccod_b'] = Infant_causeofdeath['ccod_b'].replace([88.0], 'Unknown')"
   ]
  },
  {
   "cell_type": "code",
   "execution_count": null,
   "id": "66061639",
   "metadata": {},
   "outputs": [],
   "source": [
    "#11 \"congenital malformation\" \n",
    "#12 \"other specify\"\n",
    "#88: Unknown"
   ]
  },
  {
   "cell_type": "code",
   "execution_count": null,
   "id": "d36bb76c",
   "metadata": {},
   "outputs": [],
   "source": []
  },
  {
   "cell_type": "code",
   "execution_count": 255,
   "id": "805886d6",
   "metadata": {},
   "outputs": [],
   "source": [
    "Infant_causeofdeath['ccod_b'] = Infant_causeofdeath['ccod_b'].replace([66.0], 'Unknown')"
   ]
  },
  {
   "cell_type": "code",
   "execution_count": 258,
   "id": "4ddca5b1",
   "metadata": {
    "scrolled": false
   },
   "outputs": [
    {
     "data": {
      "text/html": [
       "<div>\n",
       "<style scoped>\n",
       "    .dataframe tbody tr th:only-of-type {\n",
       "        vertical-align: middle;\n",
       "    }\n",
       "\n",
       "    .dataframe tbody tr th {\n",
       "        vertical-align: top;\n",
       "    }\n",
       "\n",
       "    .dataframe thead th {\n",
       "        text-align: right;\n",
       "    }\n",
       "</style>\n",
       "<table border=\"1\" class=\"dataframe\">\n",
       "  <thead>\n",
       "    <tr style=\"text-align: right;\">\n",
       "      <th></th>\n",
       "      <th>cddeath_b</th>\n",
       "      <th>ccod_b</th>\n",
       "    </tr>\n",
       "  </thead>\n",
       "  <tbody>\n",
       "    <tr>\n",
       "      <th>4</th>\n",
       "      <td>06feb2020</td>\n",
       "      <td>Others</td>\n",
       "    </tr>\n",
       "    <tr>\n",
       "      <th>10</th>\n",
       "      <td>27oct2019</td>\n",
       "      <td>Unknown</td>\n",
       "    </tr>\n",
       "    <tr>\n",
       "      <th>36</th>\n",
       "      <td>18mar2020</td>\n",
       "      <td>neonatal sepsis</td>\n",
       "    </tr>\n",
       "    <tr>\n",
       "      <th>63</th>\n",
       "      <td>11mar2019</td>\n",
       "      <td>Others</td>\n",
       "    </tr>\n",
       "    <tr>\n",
       "      <th>119</th>\n",
       "      <td>11feb2020</td>\n",
       "      <td>asphyxia</td>\n",
       "    </tr>\n",
       "    <tr>\n",
       "      <th>164</th>\n",
       "      <td>25aug2019</td>\n",
       "      <td>respiratory distress syndrome</td>\n",
       "    </tr>\n",
       "    <tr>\n",
       "      <th>204</th>\n",
       "      <td>25jun2019</td>\n",
       "      <td>lowbirth weight</td>\n",
       "    </tr>\n",
       "    <tr>\n",
       "      <th>205</th>\n",
       "      <td>25jun2019</td>\n",
       "      <td>lowbirth weight</td>\n",
       "    </tr>\n",
       "    <tr>\n",
       "      <th>353</th>\n",
       "      <td>09mar2020</td>\n",
       "      <td>Unknown</td>\n",
       "    </tr>\n",
       "    <tr>\n",
       "      <th>441</th>\n",
       "      <td>19aug2019</td>\n",
       "      <td>asphyxia</td>\n",
       "    </tr>\n",
       "    <tr>\n",
       "      <th>444</th>\n",
       "      <td>28mar2020</td>\n",
       "      <td>preterm</td>\n",
       "    </tr>\n",
       "    <tr>\n",
       "      <th>490</th>\n",
       "      <td>18mar2020</td>\n",
       "      <td>asphyxia</td>\n",
       "    </tr>\n",
       "    <tr>\n",
       "      <th>504</th>\n",
       "      <td>05feb2019</td>\n",
       "      <td>asphyxia</td>\n",
       "    </tr>\n",
       "    <tr>\n",
       "      <th>530</th>\n",
       "      <td>27oct2019</td>\n",
       "      <td>neonatal conjunctivitis</td>\n",
       "    </tr>\n",
       "    <tr>\n",
       "      <th>593</th>\n",
       "      <td>08sep2020</td>\n",
       "      <td>Unknown</td>\n",
       "    </tr>\n",
       "    <tr>\n",
       "      <th>772</th>\n",
       "      <td>23mar2019</td>\n",
       "      <td>asphyxia</td>\n",
       "    </tr>\n",
       "    <tr>\n",
       "      <th>776</th>\n",
       "      <td>27jul2020</td>\n",
       "      <td>Unknown</td>\n",
       "    </tr>\n",
       "    <tr>\n",
       "      <th>780</th>\n",
       "      <td>29oct2019</td>\n",
       "      <td>respiratory distress syndrome</td>\n",
       "    </tr>\n",
       "    <tr>\n",
       "      <th>886</th>\n",
       "      <td>31jan2020</td>\n",
       "      <td>Unknown</td>\n",
       "    </tr>\n",
       "    <tr>\n",
       "      <th>927</th>\n",
       "      <td>19feb2019</td>\n",
       "      <td>Unknown</td>\n",
       "    </tr>\n",
       "    <tr>\n",
       "      <th>1050</th>\n",
       "      <td>27aug2019</td>\n",
       "      <td>Others</td>\n",
       "    </tr>\n",
       "    <tr>\n",
       "      <th>1185</th>\n",
       "      <td>29jan2020</td>\n",
       "      <td>Others</td>\n",
       "    </tr>\n",
       "    <tr>\n",
       "      <th>1192</th>\n",
       "      <td>03feb2020</td>\n",
       "      <td>congenital malformation</td>\n",
       "    </tr>\n",
       "    <tr>\n",
       "      <th>1509</th>\n",
       "      <td>18jan2020</td>\n",
       "      <td>Others</td>\n",
       "    </tr>\n",
       "    <tr>\n",
       "      <th>1526</th>\n",
       "      <td>25dec2019</td>\n",
       "      <td>Unknown</td>\n",
       "    </tr>\n",
       "    <tr>\n",
       "      <th>1600</th>\n",
       "      <td>07dec2019</td>\n",
       "      <td>Others</td>\n",
       "    </tr>\n",
       "    <tr>\n",
       "      <th>1634</th>\n",
       "      <td>23jan2020</td>\n",
       "      <td>Others</td>\n",
       "    </tr>\n",
       "    <tr>\n",
       "      <th>1719</th>\n",
       "      <td>22jan2020</td>\n",
       "      <td>Unknown</td>\n",
       "    </tr>\n",
       "    <tr>\n",
       "      <th>1737</th>\n",
       "      <td>13jan2020</td>\n",
       "      <td>neonatal conjunctivitis</td>\n",
       "    </tr>\n",
       "    <tr>\n",
       "      <th>1740</th>\n",
       "      <td>04oct2020</td>\n",
       "      <td>asphyxia</td>\n",
       "    </tr>\n",
       "    <tr>\n",
       "      <th>1766</th>\n",
       "      <td>13apr2020</td>\n",
       "      <td>Unknown</td>\n",
       "    </tr>\n",
       "    <tr>\n",
       "      <th>1791</th>\n",
       "      <td>29apr2020</td>\n",
       "      <td>asphyxia</td>\n",
       "    </tr>\n",
       "    <tr>\n",
       "      <th>1856</th>\n",
       "      <td>09jun2020</td>\n",
       "      <td>Unknown</td>\n",
       "    </tr>\n",
       "    <tr>\n",
       "      <th>1860</th>\n",
       "      <td>22may2020</td>\n",
       "      <td>asphyxia</td>\n",
       "    </tr>\n",
       "    <tr>\n",
       "      <th>1862</th>\n",
       "      <td>04may2019</td>\n",
       "      <td>congenital malformation</td>\n",
       "    </tr>\n",
       "    <tr>\n",
       "      <th>1927</th>\n",
       "      <td>06feb2019</td>\n",
       "      <td>Unknown</td>\n",
       "    </tr>\n",
       "    <tr>\n",
       "      <th>1974</th>\n",
       "      <td>15oct2020</td>\n",
       "      <td>Unknown</td>\n",
       "    </tr>\n",
       "    <tr>\n",
       "      <th>2003</th>\n",
       "      <td>29mar2020</td>\n",
       "      <td>Unknown</td>\n",
       "    </tr>\n",
       "    <tr>\n",
       "      <th>2049</th>\n",
       "      <td>06apr2020</td>\n",
       "      <td>neonatal sepsis</td>\n",
       "    </tr>\n",
       "    <tr>\n",
       "      <th>2062</th>\n",
       "      <td>24jan2019</td>\n",
       "      <td>congenital malformation</td>\n",
       "    </tr>\n",
       "    <tr>\n",
       "      <th>2068</th>\n",
       "      <td>02jul2019</td>\n",
       "      <td>asphyxia</td>\n",
       "    </tr>\n",
       "    <tr>\n",
       "      <th>2100</th>\n",
       "      <td>16feb2020</td>\n",
       "      <td>Others</td>\n",
       "    </tr>\n",
       "    <tr>\n",
       "      <th>2276</th>\n",
       "      <td>31jan2019</td>\n",
       "      <td>asphyxia</td>\n",
       "    </tr>\n",
       "    <tr>\n",
       "      <th>2414</th>\n",
       "      <td>02mar2019</td>\n",
       "      <td>asphyxia</td>\n",
       "    </tr>\n",
       "    <tr>\n",
       "      <th>2505</th>\n",
       "      <td>25jun2019</td>\n",
       "      <td>respiratory distress syndrome</td>\n",
       "    </tr>\n",
       "    <tr>\n",
       "      <th>2507</th>\n",
       "      <td>29may2019</td>\n",
       "      <td>asphyxia</td>\n",
       "    </tr>\n",
       "    <tr>\n",
       "      <th>2511</th>\n",
       "      <td>08sep2020</td>\n",
       "      <td>neonatal sepsis</td>\n",
       "    </tr>\n",
       "    <tr>\n",
       "      <th>2541</th>\n",
       "      <td>17mar2020</td>\n",
       "      <td>congenital malformation</td>\n",
       "    </tr>\n",
       "    <tr>\n",
       "      <th>2641</th>\n",
       "      <td>20dec2019</td>\n",
       "      <td>respiratory distress syndrome</td>\n",
       "    </tr>\n",
       "    <tr>\n",
       "      <th>2650</th>\n",
       "      <td>05aug2020</td>\n",
       "      <td>Unknown</td>\n",
       "    </tr>\n",
       "  </tbody>\n",
       "</table>\n",
       "</div>"
      ],
      "text/plain": [
       "      cddeath_b                         ccod_b\n",
       "4     06feb2020                         Others\n",
       "10    27oct2019                        Unknown\n",
       "36    18mar2020                neonatal sepsis\n",
       "63    11mar2019                         Others\n",
       "119   11feb2020                       asphyxia\n",
       "164   25aug2019  respiratory distress syndrome\n",
       "204   25jun2019                lowbirth weight\n",
       "205   25jun2019                lowbirth weight\n",
       "353   09mar2020                        Unknown\n",
       "441   19aug2019                       asphyxia\n",
       "444   28mar2020                        preterm\n",
       "490   18mar2020                       asphyxia\n",
       "504   05feb2019                       asphyxia\n",
       "530   27oct2019        neonatal conjunctivitis\n",
       "593   08sep2020                        Unknown\n",
       "772   23mar2019                       asphyxia\n",
       "776   27jul2020                        Unknown\n",
       "780   29oct2019  respiratory distress syndrome\n",
       "886   31jan2020                        Unknown\n",
       "927   19feb2019                        Unknown\n",
       "1050  27aug2019                         Others\n",
       "1185  29jan2020                         Others\n",
       "1192  03feb2020        congenital malformation\n",
       "1509  18jan2020                         Others\n",
       "1526  25dec2019                        Unknown\n",
       "1600  07dec2019                         Others\n",
       "1634  23jan2020                         Others\n",
       "1719  22jan2020                        Unknown\n",
       "1737  13jan2020        neonatal conjunctivitis\n",
       "1740  04oct2020                       asphyxia\n",
       "1766  13apr2020                        Unknown\n",
       "1791  29apr2020                       asphyxia\n",
       "1856  09jun2020                        Unknown\n",
       "1860  22may2020                       asphyxia\n",
       "1862  04may2019        congenital malformation\n",
       "1927  06feb2019                        Unknown\n",
       "1974  15oct2020                        Unknown\n",
       "2003  29mar2020                        Unknown\n",
       "2049  06apr2020                neonatal sepsis\n",
       "2062  24jan2019        congenital malformation\n",
       "2068  02jul2019                       asphyxia\n",
       "2100  16feb2020                         Others\n",
       "2276  31jan2019                       asphyxia\n",
       "2414  02mar2019                       asphyxia\n",
       "2505  25jun2019  respiratory distress syndrome\n",
       "2507  29may2019                       asphyxia\n",
       "2511  08sep2020                neonatal sepsis\n",
       "2541  17mar2020        congenital malformation\n",
       "2641  20dec2019  respiratory distress syndrome\n",
       "2650  05aug2020                        Unknown"
      ]
     },
     "execution_count": 258,
     "metadata": {},
     "output_type": "execute_result"
    }
   ],
   "source": [
    "Infant_causeofdeath.head(50)"
   ]
  },
  {
   "cell_type": "code",
   "execution_count": 523,
   "id": "4916876a",
   "metadata": {},
   "outputs": [
    {
     "data": {
      "text/plain": [
       "<Axes: ylabel='ccod_b'>"
      ]
     },
     "execution_count": 523,
     "metadata": {},
     "output_type": "execute_result"
    },
    {
     "data": {
      "image/png": "[encoded data removed]",
      "text/plain": [
       "<Figure size 640x480 with 1 Axes>"
      ]
     },
     "metadata": {},
     "output_type": "display_data"
    }
   ],
   "source": [
    "sns.barplot(causeofdeath[\"ccod_b\"])"
   ]
  },
  {
   "cell_type": "code",
   "execution_count": 527,
   "id": "ff5f5055",
   "metadata": {},
   "outputs": [
    {
     "data": {
      "text/plain": [
       "<Axes: xlabel='count', ylabel='ccod_b'>"
      ]
     },
     "execution_count": 527,
     "metadata": {},
     "output_type": "execute_result"
    },
    {
     "data": {
      "image/png": "[encoded data removed]",
      "text/plain": [
       "<Figure size 640x480 with 1 Axes>"
      ]
     },
     "metadata": {},
     "output_type": "display_data"
    }
   ],
   "source": [
    "sns.countplot(causeofdeath.ccod_b)"
   ]
  },
  {
   "cell_type": "code",
   "execution_count": null,
   "id": "4fe6fb34",
   "metadata": {},
   "outputs": [],
   "source": []
  },
  {
   "cell_type": "code",
   "execution_count": 261,
   "id": "a4d6084e",
   "metadata": {},
   "outputs": [],
   "source": [
    "Infant_causeofdeath.rename(columns={\"ccod_b\": \"Cause_of_death\"}, inplace=True)"
   ]
  },
  {
   "cell_type": "code",
   "execution_count": 262,
   "id": "43619547",
   "metadata": {},
   "outputs": [],
   "source": [
    "count_cd=Infant_causeofdeath.groupby(['Cause_of_death']).count().rename(columns={'ccod_b':'cause of death'}).reset_index()\n"
   ]
  },
  {
   "cell_type": "code",
   "execution_count": 264,
   "id": "5da77666",
   "metadata": {},
   "outputs": [
    {
     "data": {
      "text/html": [
       "<div>\n",
       "<style scoped>\n",
       "    .dataframe tbody tr th:only-of-type {\n",
       "        vertical-align: middle;\n",
       "    }\n",
       "\n",
       "    .dataframe tbody tr th {\n",
       "        vertical-align: top;\n",
       "    }\n",
       "\n",
       "    .dataframe thead th {\n",
       "        text-align: right;\n",
       "    }\n",
       "</style>\n",
       "<table border=\"1\" class=\"dataframe\">\n",
       "  <thead>\n",
       "    <tr style=\"text-align: right;\">\n",
       "      <th></th>\n",
       "      <th>Cause_of_death</th>\n",
       "      <th>cddeath_b</th>\n",
       "    </tr>\n",
       "  </thead>\n",
       "  <tbody>\n",
       "    <tr>\n",
       "      <th>0</th>\n",
       "      <td>Others</td>\n",
       "      <td>11</td>\n",
       "    </tr>\n",
       "    <tr>\n",
       "      <th>1</th>\n",
       "      <td>Unknown</td>\n",
       "      <td>22</td>\n",
       "    </tr>\n",
       "    <tr>\n",
       "      <th>2</th>\n",
       "      <td>asphyxia</td>\n",
       "      <td>20</td>\n",
       "    </tr>\n",
       "    <tr>\n",
       "      <th>3</th>\n",
       "      <td>congenital malformation</td>\n",
       "      <td>8</td>\n",
       "    </tr>\n",
       "    <tr>\n",
       "      <th>4</th>\n",
       "      <td>lowbirth weight</td>\n",
       "      <td>5</td>\n",
       "    </tr>\n",
       "    <tr>\n",
       "      <th>5</th>\n",
       "      <td>neonatal conjunctivitis</td>\n",
       "      <td>3</td>\n",
       "    </tr>\n",
       "    <tr>\n",
       "      <th>6</th>\n",
       "      <td>neonatal sepsis</td>\n",
       "      <td>7</td>\n",
       "    </tr>\n",
       "    <tr>\n",
       "      <th>7</th>\n",
       "      <td>preterm</td>\n",
       "      <td>3</td>\n",
       "    </tr>\n",
       "    <tr>\n",
       "      <th>8</th>\n",
       "      <td>respiratory distress syndrome</td>\n",
       "      <td>5</td>\n",
       "    </tr>\n",
       "  </tbody>\n",
       "</table>\n",
       "</div>"
      ],
      "text/plain": [
       "                  Cause_of_death  cddeath_b\n",
       "0                         Others         11\n",
       "1                        Unknown         22\n",
       "2                       asphyxia         20\n",
       "3        congenital malformation          8\n",
       "4                lowbirth weight          5\n",
       "5        neonatal conjunctivitis          3\n",
       "6                neonatal sepsis          7\n",
       "7                        preterm          3\n",
       "8  respiratory distress syndrome          5"
      ]
     },
     "execution_count": 264,
     "metadata": {},
     "output_type": "execute_result"
    }
   ],
   "source": [
    "count_cd"
   ]
  },
  {
   "cell_type": "code",
   "execution_count": 279,
   "id": "5c2c19d5",
   "metadata": {},
   "outputs": [],
   "source": [
    "count_cd['proportion_of_cause']=round(count_cd['cddeath_b']/84 *100,2)"
   ]
  },
  {
   "cell_type": "code",
   "execution_count": 280,
   "id": "ac2043da",
   "metadata": {},
   "outputs": [
    {
     "data": {
      "text/html": [
       "<div>\n",
       "<style scoped>\n",
       "    .dataframe tbody tr th:only-of-type {\n",
       "        vertical-align: middle;\n",
       "    }\n",
       "\n",
       "    .dataframe tbody tr th {\n",
       "        vertical-align: top;\n",
       "    }\n",
       "\n",
       "    .dataframe thead th {\n",
       "        text-align: right;\n",
       "    }\n",
       "</style>\n",
       "<table border=\"1\" class=\"dataframe\">\n",
       "  <thead>\n",
       "    <tr style=\"text-align: right;\">\n",
       "      <th></th>\n",
       "      <th>Cause_of_death</th>\n",
       "      <th>cddeath_b</th>\n",
       "      <th>proportion_of_cause</th>\n",
       "    </tr>\n",
       "  </thead>\n",
       "  <tbody>\n",
       "    <tr>\n",
       "      <th>0</th>\n",
       "      <td>Others</td>\n",
       "      <td>11</td>\n",
       "      <td>13.10</td>\n",
       "    </tr>\n",
       "    <tr>\n",
       "      <th>1</th>\n",
       "      <td>Unknown</td>\n",
       "      <td>22</td>\n",
       "      <td>26.19</td>\n",
       "    </tr>\n",
       "    <tr>\n",
       "      <th>2</th>\n",
       "      <td>asphyxia</td>\n",
       "      <td>20</td>\n",
       "      <td>23.81</td>\n",
       "    </tr>\n",
       "    <tr>\n",
       "      <th>3</th>\n",
       "      <td>congenital malformation</td>\n",
       "      <td>8</td>\n",
       "      <td>9.52</td>\n",
       "    </tr>\n",
       "    <tr>\n",
       "      <th>4</th>\n",
       "      <td>lowbirth weight</td>\n",
       "      <td>5</td>\n",
       "      <td>5.95</td>\n",
       "    </tr>\n",
       "    <tr>\n",
       "      <th>5</th>\n",
       "      <td>neonatal conjunctivitis</td>\n",
       "      <td>3</td>\n",
       "      <td>3.57</td>\n",
       "    </tr>\n",
       "    <tr>\n",
       "      <th>6</th>\n",
       "      <td>neonatal sepsis</td>\n",
       "      <td>7</td>\n",
       "      <td>8.33</td>\n",
       "    </tr>\n",
       "    <tr>\n",
       "      <th>7</th>\n",
       "      <td>preterm</td>\n",
       "      <td>3</td>\n",
       "      <td>3.57</td>\n",
       "    </tr>\n",
       "    <tr>\n",
       "      <th>8</th>\n",
       "      <td>respiratory distress syndrome</td>\n",
       "      <td>5</td>\n",
       "      <td>5.95</td>\n",
       "    </tr>\n",
       "  </tbody>\n",
       "</table>\n",
       "</div>"
      ],
      "text/plain": [
       "                  Cause_of_death  cddeath_b  proportion_of_cause\n",
       "0                         Others         11                13.10\n",
       "1                        Unknown         22                26.19\n",
       "2                       asphyxia         20                23.81\n",
       "3        congenital malformation          8                 9.52\n",
       "4                lowbirth weight          5                 5.95\n",
       "5        neonatal conjunctivitis          3                 3.57\n",
       "6                neonatal sepsis          7                 8.33\n",
       "7                        preterm          3                 3.57\n",
       "8  respiratory distress syndrome          5                 5.95"
      ]
     },
     "execution_count": 280,
     "metadata": {},
     "output_type": "execute_result"
    }
   ],
   "source": [
    "count_cd"
   ]
  },
  {
   "cell_type": "code",
   "execution_count": null,
   "id": "6817ee85",
   "metadata": {},
   "outputs": [],
   "source": [
    "\n"
   ]
  },
  {
   "cell_type": "code",
   "execution_count": 281,
   "id": "36e0266a",
   "metadata": {
    "scrolled": false
   },
   "outputs": [
    {
     "data": {
      "image/png": "[encoded data removed]",
      "text/plain": [
       "<Figure size 1000x800 with 1 Axes>"
      ]
     },
     "metadata": {},
     "output_type": "display_data"
    }
   ],
   "source": [
    "plt.figure(figsize=(10,8))\n",
    "sns.barplot(count_cd, x=\"proportion_of_cause\", y=\"Cause_of_death\",orient=\"h\" \n",
    "            ).set_title('Infant cause of death') \n",
    "y=count_cd['proportion_of_cause']\n",
    "for index, value in enumerate(y):\n",
    "    plt.text(value, index,\n",
    "             str(value))\n",
    "plt.show()"
   ]
  },
  {
   "cell_type": "code",
   "execution_count": null,
   "id": "51a60e61",
   "metadata": {},
   "outputs": [],
   "source": []
  },
  {
   "cell_type": "code",
   "execution_count": null,
   "id": "c66d204b",
   "metadata": {},
   "outputs": [],
   "source": []
  },
  {
   "cell_type": "code",
   "execution_count": 427,
   "id": "ee8be4af",
   "metadata": {},
   "outputs": [
    {
     "data": {
      "text/plain": [
       "4633"
      ]
     },
     "execution_count": 427,
     "metadata": {},
     "output_type": "execute_result"
    }
   ],
   "source": [
    "data['rds_nf5_2'].isnull().sum()"
   ]
  },
  {
   "cell_type": "code",
   "execution_count": 416,
   "id": "82d03a2c",
   "metadata": {},
   "outputs": [
    {
     "data": {
      "text/plain": [
       "0.7904618040569702"
      ]
     },
     "execution_count": 416,
     "metadata": {},
     "output_type": "execute_result"
    }
   ],
   "source": [
    "# propportion of null value for date of birth \n",
    "data['babydob_enroll'].isnull().sum()/4634"
   ]
  },
  {
   "cell_type": "code",
   "execution_count": 417,
   "id": "2d958c1f",
   "metadata": {},
   "outputs": [
    {
     "data": {
      "text/plain": [
       "0.7904618040569702"
      ]
     },
     "execution_count": 417,
     "metadata": {},
     "output_type": "execute_result"
    }
   ],
   "source": [
    "#proposrtion of null value on sex\n",
    "data['babysex_enroll'].isnull().sum()/4634"
   ]
  },
  {
   "cell_type": "code",
   "execution_count": 176,
   "id": "453ad940",
   "metadata": {},
   "outputs": [
    {
     "data": {
      "text/plain": [
       "Index(['ultrsdbdc_pf3_1', 'ultrsdd_pf3_1', 'gawk_pf3_1', 'gad_pf3_1',\n",
       "       'nfetus_pf3_1', 'prevvisit_pf3_1', 'oant3mo_pf3_1', 'ntoant_pf3_1',\n",
       "       'oant1_pf3_1', 'oant1i_pf3_1', 'ivimant3mo_pf3_1', 'ftlhb_pf3_1',\n",
       "       'stlexmfos_pf3_1', 'oant1s_pf3_1', 'oant1is_pf3_1', 'oant2_pf3_1',\n",
       "       'oant2i_pf3_1', 'oant2is_pf3_1', 'ntivimant_pf3_1', 'ivimant1_pf3_1',\n",
       "       'ivimant1i_pf3_1', 'ivimant1is_pf3_1', 'intdt_pf3_2', 'mresp_pf3_2',\n",
       "       'enrollhosp_pf3_2', 'enrollhc_pf3_2', 'iron_pf3_2', 'folicac_pf3_2',\n",
       "       'ironfa_pf3_2', 'endcase_pf3_2', 'metasubmissiondate_pf3_2',\n",
       "       'metasubmissiontime_pf3_2', 'start_pf3_2', 'timec_pf3_2',\n",
       "       'facility_pf3_2', 'hospital_pf3_2', 'healthcent_pf3_2', 'pallor_pf3_2',\n",
       "       'uternh_pf3_2', 'vdate_pf3_2', 'galmpwk_pf3_2', 'galmpday_pf3_2',\n",
       "       'sboodpr_pf3_2', 'dbloodpr_pf3_2', 'wt_pf3_2', 'ttv_pf3_2', 'mvi_pf3_2',\n",
       "       'itn_pf3_2', 'marvpx_pf3_2', 'carvtx_pf3_2', 'stoolexm_pf3_2',\n",
       "       'stoolneg_pf3_2', 'stoolhw_pf3_2', 'stoolasc_pf3_2', 'stoolamo_pf3_2',\n",
       "       'stooltw_pf3_2', 'stoolgia_pf3_2', 'stoolhn_pf3_2', 'stoolo_pf3_2',\n",
       "       'ultrsd_pf3_2', 'ultrsdbdc_pf3_2', 'ultrsdd_pf3_2', 'gawk_pf3_2',\n",
       "       'gad_pf3_2', 'nfetus_pf3_2', 'prevvisit_pf3_2', 'oant3mo_pf3_2',\n",
       "       'ivimant3mo_pf3_2', 'ftlhb_pf3_2', 'stlexmfos_pf3_2', 'intdt_pf3_3',\n",
       "       'mresp_pf3_3', 'enrollhosp_pf3_3', 'enrollhc_pf3_3', 'iron_pf3_3',\n",
       "       'folicac_pf3_3', 'ironfa_pf3_3', 'metasubmissiondate_pf3_3',\n",
       "       'metasubmissiontime_pf3_3', 'start_pf3_3', 'timec_pf3_3',\n",
       "       'facility_pf3_3', 'hospital_pf3_3', 'healthcent_pf3_3', 'pallor_pf3_3',\n",
       "       'uternh_pf3_3', 'vdate_pf3_3', 'galmpwk_pf3_3', 'galmpday_pf3_3',\n",
       "       'sboodpr_pf3_3', 'dbloodpr_pf3_3', 'wt_pf3_3', 'ttv_pf3_3', 'mvi_pf3_3',\n",
       "       'itn_pf3_3', 'marvpx_pf3_3', 'carvtx_pf3_3', 'stoolexm_pf3_3',\n",
       "       'ultrsd_pf3_3', 'ultrsdd_pf3_3'],\n",
       "      dtype='object')"
      ]
     },
     "execution_count": 176,
     "metadata": {},
     "output_type": "execute_result"
    }
   ],
   "source": [
    "data.columns[1300:1400]"
   ]
  },
  {
   "cell_type": "code",
   "execution_count": 221,
   "id": "0db1fd72",
   "metadata": {
    "scrolled": true
   },
   "outputs": [
    {
     "data": {
      "text/plain": [
       "4621"
      ]
     },
     "execution_count": 221,
     "metadata": {},
     "output_type": "execute_result"
    }
   ],
   "source": [
    "#data['codbirthasphyx_nc2_nf2_1'].head(10)\n",
    "#data['codbirthasphyx_nc3_1'].tail(10)\n",
    "#data['codbirthasphyx_nf3_1'].tail(10)\n",
    "#data['codbirthasphyx_nf5_1'].tail(20)\n",
    "data['codbirthasphyx_cc1_1'].isnull().sum()"
   ]
  },
  {
   "cell_type": "code",
   "execution_count": null,
   "id": "e7333be4",
   "metadata": {
    "scrolled": true
   },
   "outputs": [],
   "source": []
  },
  {
   "cell_type": "code",
   "execution_count": 181,
   "id": "d0aecab8",
   "metadata": {},
   "outputs": [
    {
     "data": {
      "text/plain": [
       "4622"
      ]
     },
     "execution_count": 181,
     "metadata": {},
     "output_type": "execute_result"
    }
   ],
   "source": [
    "data['codbirthasphyx_cc2_1'].isnull().sum()"
   ]
  },
  {
   "cell_type": "code",
   "execution_count": 182,
   "id": "570c7b4d",
   "metadata": {},
   "outputs": [
    {
     "data": {
      "text/plain": [
       "4634"
      ]
     },
     "execution_count": 182,
     "metadata": {},
     "output_type": "execute_result"
    }
   ],
   "source": [
    "data['codbirthasphyx_cf1_1'].isnull().sum()"
   ]
  },
  {
   "cell_type": "code",
   "execution_count": 183,
   "id": "2b44b1a6",
   "metadata": {},
   "outputs": [
    {
     "data": {
      "text/plain": [
       "4571"
      ]
     },
     "execution_count": 183,
     "metadata": {},
     "output_type": "execute_result"
    }
   ],
   "source": [
    "data['asphyxia_nc1_nf1_1'].isnull().sum()"
   ]
  },
  {
   "cell_type": "code",
   "execution_count": 184,
   "id": "92871fa1",
   "metadata": {},
   "outputs": [
    {
     "data": {
      "text/plain": [
       "4583"
      ]
     },
     "execution_count": 184,
     "metadata": {},
     "output_type": "execute_result"
    }
   ],
   "source": [
    "data['asphyxia_nf3_1'].isnull().sum()"
   ]
  },
  {
   "cell_type": "code",
   "execution_count": 185,
   "id": "03c8dde8",
   "metadata": {
    "scrolled": true
   },
   "outputs": [
    {
     "data": {
      "text/plain": [
       "4552"
      ]
     },
     "execution_count": 185,
     "metadata": {},
     "output_type": "execute_result"
    }
   ],
   "source": [
    "data['asphyxia_nf4_1'].isnull().sum()"
   ]
  },
  {
   "cell_type": "code",
   "execution_count": 186,
   "id": "8ce1e16c",
   "metadata": {
    "scrolled": true
   },
   "outputs": [
    {
     "data": {
      "text/plain": [
       "4575"
      ]
     },
     "execution_count": 186,
     "metadata": {},
     "output_type": "execute_result"
    }
   ],
   "source": [
    "data['asphyxia_nf5_1'].isnull().sum() "
   ]
  },
  {
   "cell_type": "code",
   "execution_count": null,
   "id": "7113748f",
   "metadata": {},
   "outputs": [],
   "source": []
  },
  {
   "cell_type": "code",
   "execution_count": 187,
   "id": "62d90fd2",
   "metadata": {},
   "outputs": [
    {
     "data": {
      "text/plain": [
       "4633"
      ]
     },
     "execution_count": 187,
     "metadata": {},
     "output_type": "execute_result"
    }
   ],
   "source": [
    "data['codbirthasphyx_nc3_2'].isnull().sum() "
   ]
  },
  {
   "cell_type": "code",
   "execution_count": 266,
   "id": "610ca7c0",
   "metadata": {
    "scrolled": true
   },
   "outputs": [
    {
     "data": {
      "text/plain": [
       "4627"
      ]
     },
     "execution_count": 266,
     "metadata": {},
     "output_type": "execute_result"
    }
   ],
   "source": [
    "#if died, date of death: note from here we can find how many has died\n",
    "data['cddeath_nc3_1'].isnull().sum() "
   ]
  },
  {
   "cell_type": "code",
   "execution_count": 264,
   "id": "dbb444fe",
   "metadata": {
    "scrolled": true
   },
   "outputs": [
    {
     "data": {
      "text/plain": [
       "4633"
      ]
     },
     "execution_count": 264,
     "metadata": {},
     "output_type": "execute_result"
    }
   ],
   "source": [
    "#if died, date of death: note from here we can find how many has died\n",
    "data['cddeath_nc3_2'].isnull().sum() "
   ]
  },
  {
   "cell_type": "code",
   "execution_count": 203,
   "id": "cd10e5b2",
   "metadata": {
    "scrolled": true
   },
   "outputs": [
    {
     "data": {
      "text/plain": [
       "4632"
      ]
     },
     "execution_count": 203,
     "metadata": {},
     "output_type": "execute_result"
    }
   ],
   "source": [
    "#aphyxia cause of death\n",
    "data['codbirthasphyx_nf3_1'].isnull().sum() "
   ]
  },
  {
   "cell_type": "code",
   "execution_count": 213,
   "id": "fc9c8053",
   "metadata": {
    "scrolled": true
   },
   "outputs": [
    {
     "data": {
      "text/plain": [
       "4622"
      ]
     },
     "execution_count": 213,
     "metadata": {},
     "output_type": "execute_result"
    }
   ],
   "source": [
    "#aphyxia cause of death\n",
    "data['codbirthasphyx_nf5_1'].isnull().sum() "
   ]
  },
  {
   "cell_type": "code",
   "execution_count": 214,
   "id": "3ce0a314",
   "metadata": {},
   "outputs": [
    {
     "data": {
      "text/plain": [
       "4631"
      ]
     },
     "execution_count": 214,
     "metadata": {},
     "output_type": "execute_result"
    }
   ],
   "source": [
    "#aphyxia cause of death\n",
    "data['codbirthasphyx_nf5_2'].isnull().sum() "
   ]
  },
  {
   "cell_type": "code",
   "execution_count": 216,
   "id": "a7b6708f",
   "metadata": {},
   "outputs": [
    {
     "data": {
      "text/plain": [
       "4632"
      ]
     },
     "execution_count": 216,
     "metadata": {},
     "output_type": "execute_result"
    }
   ],
   "source": [
    "#pnuemonia cause of death\n",
    "data['codpna_nf3_1'].isnull().sum() "
   ]
  },
  {
   "cell_type": "code",
   "execution_count": 218,
   "id": "836d810a",
   "metadata": {},
   "outputs": [
    {
     "data": {
      "text/plain": [
       "4622"
      ]
     },
     "execution_count": 218,
     "metadata": {},
     "output_type": "execute_result"
    }
   ],
   "source": [
    "#pnuemonia cause of death\n",
    "data['codpna_nf5_1'].isnull().sum() "
   ]
  },
  {
   "cell_type": "code",
   "execution_count": 226,
   "id": "9abe8d83",
   "metadata": {},
   "outputs": [
    {
     "data": {
      "text/plain": [
       "4631"
      ]
     },
     "execution_count": 226,
     "metadata": {},
     "output_type": "execute_result"
    }
   ],
   "source": [
    "#pnuemonia cause of death\n",
    "data['codpna_nf5_2'].isnull().sum() "
   ]
  },
  {
   "cell_type": "code",
   "execution_count": 224,
   "id": "5cbfb144",
   "metadata": {},
   "outputs": [
    {
     "data": {
      "text/html": [
       "<div>\n",
       "<style scoped>\n",
       "    .dataframe tbody tr th:only-of-type {\n",
       "        vertical-align: middle;\n",
       "    }\n",
       "\n",
       "    .dataframe tbody tr th {\n",
       "        vertical-align: top;\n",
       "    }\n",
       "\n",
       "    .dataframe thead th {\n",
       "        text-align: right;\n",
       "    }\n",
       "</style>\n",
       "<table border=\"1\" class=\"dataframe\">\n",
       "  <thead>\n",
       "    <tr style=\"text-align: right;\">\n",
       "      <th></th>\n",
       "      <th>codpna_nf5_2</th>\n",
       "      <th>codbirthasphyx_nf3_1</th>\n",
       "    </tr>\n",
       "  </thead>\n",
       "  <tbody>\n",
       "    <tr>\n",
       "      <th>0</th>\n",
       "      <td>NaN</td>\n",
       "      <td>NaN</td>\n",
       "    </tr>\n",
       "    <tr>\n",
       "      <th>1</th>\n",
       "      <td>NaN</td>\n",
       "      <td>NaN</td>\n",
       "    </tr>\n",
       "    <tr>\n",
       "      <th>2</th>\n",
       "      <td>NaN</td>\n",
       "      <td>NaN</td>\n",
       "    </tr>\n",
       "    <tr>\n",
       "      <th>3</th>\n",
       "      <td>NaN</td>\n",
       "      <td>NaN</td>\n",
       "    </tr>\n",
       "    <tr>\n",
       "      <th>4</th>\n",
       "      <td>NaN</td>\n",
       "      <td>NaN</td>\n",
       "    </tr>\n",
       "  </tbody>\n",
       "</table>\n",
       "</div>"
      ],
      "text/plain": [
       "   codpna_nf5_2  codbirthasphyx_nf3_1\n",
       "0           NaN                   NaN\n",
       "1           NaN                   NaN\n",
       "2           NaN                   NaN\n",
       "3           NaN                   NaN\n",
       "4           NaN                   NaN"
      ]
     },
     "execution_count": 224,
     "metadata": {},
     "output_type": "execute_result"
    }
   ],
   "source": [
    "data[['codpna_nf5_2','codbirthasphyx_nf3_1']].head()"
   ]
  },
  {
   "cell_type": "code",
   "execution_count": 189,
   "id": "3086d3f4",
   "metadata": {},
   "outputs": [
    {
     "name": "stderr",
     "output_type": "stream",
     "text": [
      "/var/folders/cz/fk8gczx52ss7yswk1p4l28km0000gn/T/ipykernel_87834/546080137.py:1: DtypeWarning: Columns (4,89,128,131,215,252,255,369,378,491,492,499,502,556,615,616,623,626,679,707,736,737,759,762,763,767,769,771,773,775,777,779,781,783,785,787,789,791,794,795,797,826,830,831,834,838,840,842,844,846,848,850,852,854,856,858,860,862,875,876,878,879,880,882,908,929,931,932,933,935,951,952,953,954,956,957,959,964,966,968,970,971,975,977,1012,1041,1044,1059,1060,1061,1063) have mixed types. Specify dtype option on import or set low_memory=False.\n",
      "  child=pd.read_csv('core_child_wide.csv')\n"
     ]
    }
   ],
   "source": [
    "child=pd.read_csv('core_child_wide.csv')"
   ]
  },
  {
   "cell_type": "code",
   "execution_count": 190,
   "id": "4653ddd7",
   "metadata": {},
   "outputs": [
    {
     "data": {
      "text/plain": [
       "(7109, 1064)"
      ]
     },
     "execution_count": 190,
     "metadata": {},
     "output_type": "execute_result"
    }
   ],
   "source": [
    "child.shape"
   ]
  },
  {
   "cell_type": "code",
   "execution_count": 196,
   "id": "6b290fe7",
   "metadata": {},
   "outputs": [
    {
     "data": {
      "text/plain": [
       "Index(['uuid', 'intdt_H2_1', 'times_H2_1', 'source_H2_1', 'sourceo_H2_1',\n",
       "       'health3mo_H2_1', 'illcause_H2_1', 'illcauseo_H2_1', 'tr_H2_1',\n",
       "       'trloc_H2_1', 'seektrd_H2_1', 'sick2wks_H2_1', 'dcvisit2wks_H2_1',\n",
       "       'di2wks_H2_1', 'didur_H2_1', 'digt2wks_H2_1', 'ndieps_H2_1',\n",
       "       'didrmilk_H2_1', 'didrcer_H2_1', 'didrhf_H2_1', 'didrors_H2_1',\n",
       "       'didromilk_H2_1', 'didrfeedw_H2_1', 'didrw_H2_1', 'didrunacc_H2_1',\n",
       "       'didruk_H2_1', 'dididr_H2_1', 'didieat_H2_1', 'distoolblood_H2_1',\n",
       "       'divom_H2_1', 'divomd_H2_1', 'ndivomeps_H2_1', 'divomblood_H2_1',\n",
       "       'ditr_H2_1', 'ditrloc_H2_1', 'diseektrd_H2_1', 'ditrout_H2_1',\n",
       "       'fe2wks_H2_1', 'fedur_H2_1', 'fetempm_H2_1', 'fetr_H2_1',\n",
       "       'fetrloc_H2_1', 'feseektrd_H2_1', 'fetrout_H2_1', 'ferefer_H2_1',\n",
       "       'ferefero_H2_1', 'co2wks_H2_1', 'cobdif_H2_1', 'cocold_H2_1',\n",
       "       'cogrunt_H2_1', 'cotr_H2_1', 'cotrloc_H2_1', 'coseektrd_H2_1',\n",
       "       'cotrout_H2_1', 'corefer_H2_1', 'corefero_H2_1', 'vac_H2_1',\n",
       "       'vaccard_H2_1', 'bcg_H2_1', 'bcgd_H2_1', 'opv0_H2_1', 'opv0d_H2_1',\n",
       "       'opv1_H2_1', 'opv1d_H2_1', 'opv2_H2_1', 'opv2d_H2_1', 'opv3_H2_1',\n",
       "       'opv3d_H2_1', 'pent1_H2_1', 'pent1d_H2_1', 'pent2_H2_1', 'pent2d_H2_1',\n",
       "       'pent3_H2_1', 'pent3d_H2_1', 'pneu1_H2_1', 'pneu1d_H2_1', 'pneu2_H2_1',\n",
       "       'pneu2d_H2_1', 'pneu3_H2_1', 'pneu3d_H2_1', 'rota1_H2_1', 'rota1d_H2_1',\n",
       "       'rota2_H2_1', 'rota2d_H2_1', 'meas1_H2_1', 'meas2_H2_1', 'meas_H2_1',\n",
       "       'measd_H2_1', 'meas1d_H2_1', 'meas2d_H2_1', 'vita_H2_1', 'vitad_H2_1',\n",
       "       'avac_H2_1', 'adis_H2_1', 'abcg_H2_1', 'aopv_H2_1', 'a1opv2wks_H2_1',\n",
       "       'naopv_H2_1', 'apent_H2_1', 'napent_H2_1'],\n",
       "      dtype='object')"
      ]
     },
     "execution_count": 196,
     "metadata": {},
     "output_type": "execute_result"
    }
   ],
   "source": [
    "child.columns[0:100]"
   ]
  },
  {
   "cell_type": "code",
   "execution_count": 195,
   "id": "03250248",
   "metadata": {},
   "outputs": [
    {
     "data": {
      "text/plain": [
       "198"
      ]
     },
     "execution_count": 195,
     "metadata": {},
     "output_type": "execute_result"
    }
   ],
   "source": [
    "child['health3mo_H2_1'].isnull().sum() "
   ]
  },
  {
   "cell_type": "code",
   "execution_count": 271,
   "id": "b8970200",
   "metadata": {},
   "outputs": [],
   "source": [
    "corewomen=pd.read_csv('core_women_wide.csv',low_memory=False)"
   ]
  },
  {
   "cell_type": "code",
   "execution_count": 272,
   "id": "15ae5c15",
   "metadata": {
    "scrolled": true
   },
   "outputs": [
    {
     "data": {
      "text/plain": [
       "(21650, 848)"
      ]
     },
     "execution_count": 272,
     "metadata": {},
     "output_type": "execute_result"
    }
   ],
   "source": [
    "corewomen.shape  "
   ]
  },
  {
   "cell_type": "code",
   "execution_count": 279,
   "id": "89e3bc65",
   "metadata": {},
   "outputs": [
    {
     "data": {
      "text/plain": [
       "21626"
      ]
     },
     "execution_count": 279,
     "metadata": {},
     "output_type": "execute_result"
    }
   ],
   "source": [
    "corewomen['codnb_D3_1'].isnull().sum()"
   ]
  },
  {
   "cell_type": "code",
   "execution_count": 275,
   "id": "11bbec30",
   "metadata": {},
   "outputs": [],
   "source": [
    "core=corewomen['codnb_D3_1'].dropna(axis=0, how='any')"
   ]
  },
  {
   "cell_type": "code",
   "execution_count": 278,
   "id": "60af9725",
   "metadata": {},
   "outputs": [
    {
     "data": {
      "text/plain": [
       "24"
      ]
     },
     "execution_count": 278,
     "metadata": {},
     "output_type": "execute_result"
    }
   ],
   "source": [
    "len(core)"
   ]
  },
  {
   "cell_type": "code",
   "execution_count": 284,
   "id": "12a4d107",
   "metadata": {},
   "outputs": [
    {
     "data": {
      "text/plain": [
       "4627"
      ]
     },
     "execution_count": 284,
     "metadata": {},
     "output_type": "execute_result"
    }
   ],
   "source": [
    "data['cddeath_nc3_1'].isnull().sum()"
   ]
  },
  {
   "cell_type": "code",
   "execution_count": 286,
   "id": "cd478f1d",
   "metadata": {},
   "outputs": [
    {
     "data": {
      "text/plain": [
       "4633"
      ]
     },
     "execution_count": 286,
     "metadata": {},
     "output_type": "execute_result"
    }
   ],
   "source": [
    "data['cddeath_nc3_2'].isnull().sum()"
   ]
  },
  {
   "cell_type": "code",
   "execution_count": 289,
   "id": "f939bdc2",
   "metadata": {},
   "outputs": [
    {
     "data": {
      "text/plain": [
       "4632"
      ]
     },
     "execution_count": 289,
     "metadata": {},
     "output_type": "execute_result"
    }
   ],
   "source": [
    "data['cddeath_nf3_1'].isnull().sum()"
   ]
  },
  {
   "cell_type": "code",
   "execution_count": 293,
   "id": "fb18fbbe",
   "metadata": {},
   "outputs": [
    {
     "data": {
      "text/plain": [
       "4622"
      ]
     },
     "execution_count": 293,
     "metadata": {},
     "output_type": "execute_result"
    }
   ],
   "source": [
    "data['cddeath_nf5_1'].isnull().sum()"
   ]
  },
  {
   "cell_type": "code",
   "execution_count": 294,
   "id": "2089b435",
   "metadata": {},
   "outputs": [
    {
     "data": {
      "text/plain": [
       "4631"
      ]
     },
     "execution_count": 294,
     "metadata": {},
     "output_type": "execute_result"
    }
   ],
   "source": [
    "data['cddeath_nf5_2'].isnull().sum()"
   ]
  },
  {
   "cell_type": "code",
   "execution_count": null,
   "id": "b5e46a9c",
   "metadata": {},
   "outputs": [],
   "source": []
  },
  {
   "cell_type": "code",
   "execution_count": 274,
   "id": "fe0f8428",
   "metadata": {},
   "outputs": [
    {
     "data": {
      "text/plain": [
       "0   NaN\n",
       "1   NaN\n",
       "2   NaN\n",
       "3   NaN\n",
       "4   NaN\n",
       "Name: codnb_D3_1, dtype: float64"
      ]
     },
     "execution_count": 274,
     "metadata": {},
     "output_type": "execute_result"
    }
   ],
   "source": [
    "corewomen['codnb_D3_1'].head()"
   ]
  },
  {
   "cell_type": "code",
   "execution_count": 253,
   "id": "4fb393ec",
   "metadata": {},
   "outputs": [
    {
     "ename": "AttributeError",
     "evalue": "'function' object has no attribute 'shape'",
     "output_type": "error",
     "traceback": [
      "\u001b[0;31m---------------------------------------------------------------------------\u001b[0m",
      "\u001b[0;31mAttributeError\u001b[0m                            Traceback (most recent call last)",
      "Cell \u001b[0;32mIn[253], line 1\u001b[0m\n\u001b[0;32m----> 1\u001b[0m \u001b[43my\u001b[49m\u001b[38;5;241;43m.\u001b[39;49m\u001b[43mshape\u001b[49m\n",
      "\u001b[0;31mAttributeError\u001b[0m: 'function' object has no attribute 'shape'"
     ]
    }
   ],
   "source": [
    "y.shape"
   ]
  },
  {
   "cell_type": "code",
   "execution_count": null,
   "id": "adca670d",
   "metadata": {},
   "outputs": [],
   "source": []
  }
 ],
 "metadata": {
  "kernelspec": {
   "display_name": "Python 3 (ipykernel)",
   "language": "python",
   "name": "python3"
  },
  "language_info": {
   "codemirror_mode": {
    "name": "ipython",
    "version": 3
   },
   "file_extension": ".py",
   "mimetype": "text/x-python",
   "name": "python",
   "nbconvert_exporter": "python",
   "pygments_lexer": "ipython3",
   "version": "3.10.9"
  }
 },
 "nbformat": 4,
 "nbformat_minor": 5
}
